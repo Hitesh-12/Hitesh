{
 "cells": [
  {
   "cell_type": "code",
   "execution_count": 1,
   "id": "264c504e",
   "metadata": {},
   "outputs": [],
   "source": [
    "import pyspark"
   ]
  },
  {
   "cell_type": "code",
   "execution_count": 2,
   "id": "a4653356",
   "metadata": {},
   "outputs": [],
   "source": [
    "import os\n",
    "import sys\n",
    "\n",
    "os.environ['PYSPARK_PYTHON'] = sys.executable\n",
    "os.environ['PYSPARK_DRIVER_PYTHON'] = sys.executable"
   ]
  },
  {
   "cell_type": "code",
   "execution_count": 3,
   "id": "4aab6a58",
   "metadata": {},
   "outputs": [],
   "source": [
    "from pyspark.sql import SparkSession "
   ]
  },
  {
   "cell_type": "code",
   "execution_count": 4,
   "id": "d4b14e7e",
   "metadata": {},
   "outputs": [],
   "source": [
    "ss = SparkSession.builder.appName('practice').getOrCreate()"
   ]
  },
  {
   "cell_type": "code",
   "execution_count": 5,
   "id": "4ec735de",
   "metadata": {},
   "outputs": [
    {
     "data": {
      "text/html": [
       "\n",
       "            <div>\n",
       "                <p><b>SparkSession - in-memory</b></p>\n",
       "                \n",
       "        <div>\n",
       "            <p><b>SparkContext</b></p>\n",
       "\n",
       "            <p><a href=\"http://USGURHITESHAR90.us.deloitte.com:4043\">Spark UI</a></p>\n",
       "\n",
       "            <dl>\n",
       "              <dt>Version</dt>\n",
       "                <dd><code>v3.3.0</code></dd>\n",
       "              <dt>Master</dt>\n",
       "                <dd><code>local[*]</code></dd>\n",
       "              <dt>AppName</dt>\n",
       "                <dd><code>practice</code></dd>\n",
       "            </dl>\n",
       "        </div>\n",
       "        \n",
       "            </div>\n",
       "        "
      ],
      "text/plain": [
       "<pyspark.sql.session.SparkSession at 0x29b11ac7ac0>"
      ]
     },
     "execution_count": 5,
     "metadata": {},
     "output_type": "execute_result"
    }
   ],
   "source": [
    "ss"
   ]
  },
  {
   "cell_type": "code",
   "execution_count": 13,
   "id": "18fb81f7",
   "metadata": {},
   "outputs": [],
   "source": [
    "df = ss.read.option('header','false').csv('C:/Users/Hitesharma.US/Downloads/PySpark_Assessment_Assignment_SparkSQL-DataSet/NYSE_daily.tsv',sep='\\t')"
   ]
  },
  {
   "cell_type": "code",
   "execution_count": null,
   "id": "0438827d",
   "metadata": {},
   "outputs": [],
   "source": []
  },
  {
   "cell_type": "code",
   "execution_count": 14,
   "id": "3f5a7301",
   "metadata": {},
   "outputs": [],
   "source": [
    "df1 = ss.read.option('header','false').csv('C:/Users/Hitesharma.US/Downloads/PySpark_Assessment_Assignment_SparkSQL-DataSet/NYSE_dividends.tsv',sep='\\t')"
   ]
  },
  {
   "cell_type": "code",
   "execution_count": 22,
   "id": "73e4d451",
   "metadata": {},
   "outputs": [
    {
     "name": "stdout",
     "output_type": "stream",
     "text": [
      "+-------------+-----------+---------+---------+---------+--------+----------+-------+------------------+\n",
      "|StockExchange|StockSymbol|     Date|OpenPrice|HighProce|LowPrice|ClosePrice| Volume|AdjustedClosePrice|\n",
      "+-------------+-----------+---------+---------+---------+--------+----------+-------+------------------+\n",
      "|         NYSE|        JEF| 2/8/2010|     25.4|    25.49|   24.78|     24.82|1134300|             24.82|\n",
      "|         NYSE|        JEF| 2/5/2010|    24.91|    25.19|   24.08|     25.01|1765200|             25.01|\n",
      "|         NYSE|        JEF| 2/4/2010|    26.01|     26.2|   24.85|     24.85|1414400|             24.85|\n",
      "|         NYSE|        JEF| 2/3/2010|    26.23|    26.76|   26.22|     26.29|1066000|             26.29|\n",
      "|         NYSE|        JEF| 2/2/2010|    26.08|    26.86|   25.78|     26.46|1496400|             26.46|\n",
      "|         NYSE|        JEF| 2/1/2010|    25.61|    26.11|   25.36|     26.11|2381800|             26.11|\n",
      "|         NYSE|        JEF|1/29/2010|    26.57|     26.8|   25.41|     25.54|2010000|             25.54|\n",
      "|         NYSE|        JEF|1/28/2010|     27.4|     27.4|   26.35|     26.36|1708100|             26.36|\n",
      "|         NYSE|        JEF|1/27/2010|    26.44|    27.15|   26.42|     27.14|1929700|             27.14|\n",
      "|         NYSE|        JEF|1/26/2010|    26.68|    26.99|   26.46|      26.5|1422100|              26.5|\n",
      "+-------------+-----------+---------+---------+---------+--------+----------+-------+------------------+\n",
      "only showing top 10 rows\n",
      "\n"
     ]
    }
   ],
   "source": [
    "df.show(10)"
   ]
  },
  {
   "cell_type": "code",
   "execution_count": 23,
   "id": "02f3cddf",
   "metadata": {},
   "outputs": [
    {
     "name": "stdout",
     "output_type": "stream",
     "text": [
      "+-------------+-----------+----------+---------+\n",
      "|StockExchange|StockSymbol|      Date|dividends|\n",
      "+-------------+-----------+----------+---------+\n",
      "|         NYSE|        JAH|12/30/2009|    0.075|\n",
      "|         NYSE|        JAH| 9/29/2009|    0.075|\n",
      "|         NYSE|        JGT|12/11/2009|    0.377|\n",
      "|         NYSE|        JGT| 9/11/2009|    0.377|\n",
      "|         NYSE|        JGT| 6/11/2009|    0.377|\n",
      "|         NYSE|        JGT| 3/11/2009|    0.377|\n",
      "|         NYSE|        JGT|12/11/2008|    0.377|\n",
      "|         NYSE|        JGT| 9/11/2008|    0.451|\n",
      "|         NYSE|        JGT| 6/11/2008|    0.451|\n",
      "|         NYSE|        JGT| 3/12/2008|    0.451|\n",
      "+-------------+-----------+----------+---------+\n",
      "only showing top 10 rows\n",
      "\n"
     ]
    }
   ],
   "source": [
    "df1.show(10)"
   ]
  },
  {
   "cell_type": "code",
   "execution_count": 24,
   "id": "98fd61d2",
   "metadata": {},
   "outputs": [
    {
     "name": "stdout",
     "output_type": "stream",
     "text": [
      "root\n",
      " |-- StockExchange: string (nullable = true)\n",
      " |-- StockSymbol: string (nullable = true)\n",
      " |-- Date: string (nullable = true)\n",
      " |-- OpenPrice: string (nullable = true)\n",
      " |-- HighProce: string (nullable = true)\n",
      " |-- LowPrice: string (nullable = true)\n",
      " |-- ClosePrice: string (nullable = true)\n",
      " |-- Volume: string (nullable = true)\n",
      " |-- AdjustedClosePrice: string (nullable = true)\n",
      "\n"
     ]
    }
   ],
   "source": [
    "df.printSchema()"
   ]
  },
  {
   "cell_type": "code",
   "execution_count": 25,
   "id": "ee32aec7",
   "metadata": {},
   "outputs": [
    {
     "name": "stdout",
     "output_type": "stream",
     "text": [
      "root\n",
      " |-- StockExchange: string (nullable = true)\n",
      " |-- StockSymbol: string (nullable = true)\n",
      " |-- Date: string (nullable = true)\n",
      " |-- dividends: string (nullable = true)\n",
      "\n"
     ]
    }
   ],
   "source": [
    "df1.printSchema()"
   ]
  },
  {
   "cell_type": "code",
   "execution_count": 20,
   "id": "af3a7e02",
   "metadata": {},
   "outputs": [],
   "source": [
    "df = df.withColumnRenamed('_c0', 'StockExchange').withColumnRenamed('_c1', 'StockSymbol').withColumnRenamed('_c2', 'Date').withColumnRenamed('_c3', 'OpenPrice').withColumnRenamed('_c4', 'HighProce').withColumnRenamed('_c5', 'LowPrice').withColumnRenamed('_c6', 'ClosePrice').withColumnRenamed('_c7', 'Volume').withColumnRenamed('_c8', 'AdjustedClosePrice')"
   ]
  },
  {
   "cell_type": "code",
   "execution_count": 21,
   "id": "0fec2e09",
   "metadata": {},
   "outputs": [],
   "source": [
    "df1 = df1.withColumnRenamed('_c0', 'StockExchange').withColumnRenamed('_c1', 'StockSymbol').withColumnRenamed('_c2', 'Date').withColumnRenamed('_c3', 'dividends')"
   ]
  },
  {
   "cell_type": "code",
   "execution_count": 26,
   "id": "7e87e545",
   "metadata": {},
   "outputs": [],
   "source": [
    "df.createOrReplaceTempView(\"vw_data\")"
   ]
  },
  {
   "cell_type": "markdown",
   "id": "6ebad74d",
   "metadata": {},
   "source": [
    "# stock close price more than or equal to 200 and stock volume more than or equal to 10 million"
   ]
  },
  {
   "cell_type": "code",
   "execution_count": 31,
   "id": "9c560db9",
   "metadata": {},
   "outputs": [
    {
     "name": "stdout",
     "output_type": "stream",
     "text": [
      "+-------------+-----------+----------+---------+---------+--------+----------+--------+------------------+\n",
      "|StockExchange|StockSymbol|      Date|OpenPrice|HighProce|LowPrice|ClosePrice|  Volume|AdjustedClosePrice|\n",
      "+-------------+-----------+----------+---------+---------+--------+----------+--------+------------------+\n",
      "|         NYSE|       JNPR| 11/3/2000|      198|   216.88|  196.25|    216.13|13424800|            216.13|\n",
      "|         NYSE|       JNPR|10/19/2000|   229.13|   234.31|     220|    232.58|11323800|            232.58|\n",
      "|         NYSE|       JNPR|10/18/2000|   219.38|      235|   212.5|    213.88|15463100|            213.88|\n",
      "|         NYSE|       JNPR|10/17/2000|   241.75|   241.81|     224|    229.19|16734200|            229.19|\n",
      "|         NYSE|       JNPR|10/16/2000|   226.75|    244.5|     224|       243|17288400|               243|\n",
      "|         NYSE|       JNPR|10/13/2000|   201.75|    229.5|  201.63|     228.5|19565000|             228.5|\n",
      "|         NYSE|       JNPR|10/11/2000|    201.5|   219.44|  196.19|       206|16487000|               206|\n",
      "|         NYSE|       JNPR|10/10/2000|    196.5|      211|     196|    205.94|12586900|            205.94|\n",
      "|         NYSE|       JNPR| 10/4/2000|   200.75|   211.63|   191.5|    207.95|11819100|            207.95|\n",
      "|         NYSE|       JNPR| 10/3/2000|   212.63|      215|     198|    201.44|13457300|            201.44|\n",
      "+-------------+-----------+----------+---------+---------+--------+----------+--------+------------------+\n",
      "only showing top 10 rows\n",
      "\n"
     ]
    }
   ],
   "source": [
    "ss.sql(\"select * from vw_data where ClosePrice>=200 and Volume >=10000000 \").show(10)"
   ]
  },
  {
   "cell_type": "code",
   "execution_count": 29,
   "id": "ce7d2b55",
   "metadata": {},
   "outputs": [],
   "source": [
    "df1.createOrReplaceTempView(\"vw1_data\")"
   ]
  },
  {
   "cell_type": "markdown",
   "id": "6e4de224",
   "metadata": {},
   "source": [
    "# List the companies that have given dividends more than 50 times. The list should include the number of times they have given dividends."
   ]
  },
  {
   "cell_type": "code",
   "execution_count": 33,
   "id": "4a552500",
   "metadata": {},
   "outputs": [
    {
     "name": "stdout",
     "output_type": "stream",
     "text": [
      "+-----+\n",
      "|count|\n",
      "+-----+\n",
      "|  114|\n",
      "|   72|\n",
      "|  104|\n",
      "|   63|\n",
      "|   58|\n",
      "|   99|\n",
      "|  160|\n",
      "|   88|\n",
      "|   91|\n",
      "|   51|\n",
      "+-----+\n",
      "only showing top 10 rows\n",
      "\n"
     ]
    }
   ],
   "source": [
    "ss.sql(\"select count(dividends) count from vw1_data  group by StockSymbol having count>50\").show(10)"
   ]
  },
  {
   "cell_type": "markdown",
   "id": "b8c4f197",
   "metadata": {},
   "source": [
    "# List the companies along with their close price, dividends and the date when they gave dividends of more than0.01 when their daily close price was more than or equal to 100 sorted by dividends in ascending order."
   ]
  },
  {
   "cell_type": "code",
   "execution_count": 36,
   "id": "77e773ae",
   "metadata": {},
   "outputs": [
    {
     "name": "stdout",
     "output_type": "stream",
     "text": [
      "+-----------+----------+---------+----------+\n",
      "|StockSymbol|ClosePrice|dividends|      Date|\n",
      "+-----------+----------+---------+----------+\n",
      "|        JNJ|    104.62|    0.012| 8/25/1987|\n",
      "|       JNPR|       197|   0.0125| 8/12/1999|\n",
      "|       JNPR|    303.75|   0.0125|11/18/1999|\n",
      "|        JPM|    144.19|   0.0125| 5/20/1998|\n",
      "|       JNPR|    215.88|   0.0125| 2/11/2000|\n",
      "|       JNPR|       148|   0.0125| 5/11/2000|\n",
      "|        JNJ|    104.37|   0.0125|11/18/1999|\n",
      "|       JNPR|    106.06|   0.0125|11/28/2000|\n",
      "|        JPM|    119.81|   0.0125| 2/11/1998|\n",
      "|        JNJ|    100.12|   0.0125|11/28/2000|\n",
      "+-----------+----------+---------+----------+\n",
      "only showing top 10 rows\n",
      "\n"
     ]
    }
   ],
   "source": [
    "ss.sql(\"select vw.StockSymbol, vw.ClosePrice,vw1.dividends,vw1.Date from vw_data vw join vw1_data vw1 on vw.Date=vw1.Date where vw1.dividends >0.01 and vw.ClosePrice >=100 order by vw1.dividends \").show(10)"
   ]
  },
  {
   "cell_type": "code",
   "execution_count": 39,
   "id": "1e2c25ca",
   "metadata": {},
   "outputs": [],
   "source": [
    "ccp=df.join(df1,df.StockSymbol==df1.StockSymbol,\"inner\").select(df.StockSymbol,df.ClosePrice,df.Date,df1.dividends).filter((df1.dividends > 0.01)&(df.ClosePrice >= 100)).orderBy(df1.dividends)"
   ]
  },
  {
   "cell_type": "code",
   "execution_count": 40,
   "id": "b014a298",
   "metadata": {},
   "outputs": [
    {
     "name": "stdout",
     "output_type": "stream",
     "text": [
      "+-----------+----------+---------+---------+\n",
      "|StockSymbol|ClosePrice|     Date|dividends|\n",
      "+-----------+----------+---------+---------+\n",
      "|        JNJ|     101.8|6/12/2001|  0.01042|\n",
      "|        JNJ|     101.8|6/12/2001|  0.01042|\n",
      "|        JNJ|    101.37|6/11/2001|  0.01042|\n",
      "|        JNJ|    101.37|6/11/2001|  0.01042|\n",
      "|        JNJ|    101.37|6/11/2001|  0.01042|\n",
      "|        JNJ|    101.37|6/11/2001|  0.01042|\n",
      "|        JNJ|     101.8|6/12/2001|  0.01042|\n",
      "|        JNJ|    101.37|6/11/2001|  0.01042|\n",
      "|        JNJ|    102.01| 6/8/2001|  0.01042|\n",
      "|        JNJ|     101.8|6/12/2001|  0.01042|\n",
      "+-----------+----------+---------+---------+\n",
      "only showing top 10 rows\n",
      "\n"
     ]
    }
   ],
   "source": [
    "ccp.show(10)"
   ]
  },
  {
   "cell_type": "markdown",
   "id": "f050811f",
   "metadata": {},
   "source": [
    "# Save the above lists as comma separated files."
   ]
  },
  {
   "cell_type": "code",
   "execution_count": 42,
   "id": "24179128",
   "metadata": {},
   "outputs": [],
   "source": [
    "a=ss.sql(\"select * from vw_data where ClosePrice>=200 and Volume >=10000000 \")"
   ]
  },
  {
   "cell_type": "code",
   "execution_count": 43,
   "id": "85528fec",
   "metadata": {},
   "outputs": [],
   "source": [
    "b=ss.sql(\"select count(dividends) count from vw1_data  group by StockSymbol having count>50\")"
   ]
  },
  {
   "cell_type": "code",
   "execution_count": 44,
   "id": "eab45ce6",
   "metadata": {},
   "outputs": [],
   "source": [
    "c=ss.sql(\"select count(dividends) count from vw1_data  group by StockSymbol having count>50\")"
   ]
  },
  {
   "cell_type": "code",
   "execution_count": 45,
   "id": "0097b1b0",
   "metadata": {},
   "outputs": [],
   "source": [
    "a.toPandas().to_csv('a.csv')"
   ]
  },
  {
   "cell_type": "code",
   "execution_count": 46,
   "id": "f1f55ab0",
   "metadata": {},
   "outputs": [],
   "source": [
    "b.toPandas().to_csv('b.csv')"
   ]
  },
  {
   "cell_type": "code",
   "execution_count": 47,
   "id": "428de62d",
   "metadata": {},
   "outputs": [],
   "source": [
    "c.toPandas().to_csv('c.csv')"
   ]
  },
  {
   "cell_type": "code",
   "execution_count": null,
   "id": "4602e74c",
   "metadata": {},
   "outputs": [],
   "source": []
  }
 ],
 "metadata": {
  "kernelspec": {
   "display_name": "Python 3 (ipykernel)",
   "language": "python",
   "name": "python3"
  },
  "language_info": {
   "codemirror_mode": {
    "name": "ipython",
    "version": 3
   },
   "file_extension": ".py",
   "mimetype": "text/x-python",
   "name": "python",
   "nbconvert_exporter": "python",
   "pygments_lexer": "ipython3",
   "version": "3.11.7"
  }
 },
 "nbformat": 4,
 "nbformat_minor": 5
}
