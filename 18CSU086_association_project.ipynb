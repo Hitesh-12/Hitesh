{
  "nbformat": 4,
  "nbformat_minor": 0,
  "metadata": {
    "colab": {
      "name": "18CSU086 association_project.ipynb",
      "provenance": [],
      "collapsed_sections": []
    },
    "kernelspec": {
      "name": "python3",
      "display_name": "Python 3"
    }
  },
  "cells": [
    {
      "cell_type": "markdown",
      "metadata": {
        "id": "gy2yHQeaAJXd"
      },
      "source": [
        "# Association Rule - Apriori and ECLAT \n",
        "\n",
        "Training association rule models (Apriori and ECLAT) to find the most related items bought by customers of a Online Retail . \n",
        "\n",
        "This algorithm associate products preferences by most of the customers and can be used to generate products recommendation and help on displaying products strategy."
      ]
    },
    {
      "cell_type": "markdown",
      "metadata": {
        "id": "ld-afmVhB32V"
      },
      "source": [
        "#Source:\n",
        "\n",
        "Dr Daqing Chen, Director: Public Analytics group. chend '@' lsbu.ac.uk, School of Engineering, London South Bank University, London SE1 0AA, UK.\n",
        "\n"
      ]
    },
    {
      "cell_type": "markdown",
      "metadata": {
        "id": "Q20HwE1IB_dO"
      },
      "source": [
        "# Data Set Information:\n",
        "\n",
        "This is a transnational data set which contains all the transactions occurring between 01/12/2010 and 09/12/2011 for a UK-based and registered non-store online retail.The company mainly sells unique all-occasion gifts. Many customers of the company are wholesalers.\n",
        "\n"
      ]
    },
    {
      "cell_type": "markdown",
      "metadata": {
        "id": "DsYEQ4BiB_GI"
      },
      "source": [
        "# Attribute Information:\n",
        "\n",
        "InvoiceNo: Invoice number. Nominal, a 6-digit integral number uniquely assigned to each transaction. If this code starts with letter 'c', it indicates a cancellation.\n",
        "StockCode: Product (item) code. Nominal, a 5-digit integral number uniquely assigned to each distinct product.\n",
        "Description: Product (item) name. Nominal.\n",
        "Quantity: The quantities of each product (item) per transaction. Numeric.\n",
        "InvoiceDate: Invice Date and time. Numeric, the day and time when each transaction was generated.\n",
        "UnitPrice: Unit price. Numeric, Product price per unit in sterling.\n",
        "CustomerID: Customer number. Nominal, a 5-digit integral number uniquely assigned to each customer.\n",
        "Country: Country name. Nominal, the name of the country where each customer resides.\n",
        "\n"
      ]
    },
    {
      "cell_type": "code",
      "metadata": {
        "id": "9aYwjJk0hRoT"
      },
      "source": [
        "# Importing the libraries\n",
        "import numpy as np\n",
        "import matplotlib.pyplot as plt\n",
        "import pandas as pd"
      ],
      "execution_count": 3,
      "outputs": []
    },
    {
      "cell_type": "code",
      "metadata": {
        "id": "jtBQkcZxhzkj",
        "outputId": "23716567-be19-4db7-f8da-6cd04a9c6117",
        "colab": {
          "base_uri": "https://localhost:8080/",
          "height": 289
        }
      },
      "source": [
        "# Importing the dataset\n",
        "dataset = pd.read_excel('Online Retail.xlsx')\n",
        "dataset.head()"
      ],
      "execution_count": 2,
      "outputs": [
        {
          "output_type": "execute_result",
          "data": {
            "text/html": [
              "<div>\n",
              "<style scoped>\n",
              "    .dataframe tbody tr th:only-of-type {\n",
              "        vertical-align: middle;\n",
              "    }\n",
              "\n",
              "    .dataframe tbody tr th {\n",
              "        vertical-align: top;\n",
              "    }\n",
              "\n",
              "    .dataframe thead th {\n",
              "        text-align: right;\n",
              "    }\n",
              "</style>\n",
              "<table border=\"1\" class=\"dataframe\">\n",
              "  <thead>\n",
              "    <tr style=\"text-align: right;\">\n",
              "      <th></th>\n",
              "      <th>InvoiceNo</th>\n",
              "      <th>StockCode</th>\n",
              "      <th>Description</th>\n",
              "      <th>Quantity</th>\n",
              "      <th>InvoiceDate</th>\n",
              "      <th>UnitPrice</th>\n",
              "      <th>CustomerID</th>\n",
              "      <th>Country</th>\n",
              "    </tr>\n",
              "  </thead>\n",
              "  <tbody>\n",
              "    <tr>\n",
              "      <th>0</th>\n",
              "      <td>536365</td>\n",
              "      <td>85123A</td>\n",
              "      <td>WHITE HANGING HEART T-LIGHT HOLDER</td>\n",
              "      <td>6</td>\n",
              "      <td>2010-12-01 08:26:00</td>\n",
              "      <td>2.55</td>\n",
              "      <td>17850.0</td>\n",
              "      <td>United Kingdom</td>\n",
              "    </tr>\n",
              "    <tr>\n",
              "      <th>1</th>\n",
              "      <td>536365</td>\n",
              "      <td>71053</td>\n",
              "      <td>WHITE METAL LANTERN</td>\n",
              "      <td>6</td>\n",
              "      <td>2010-12-01 08:26:00</td>\n",
              "      <td>3.39</td>\n",
              "      <td>17850.0</td>\n",
              "      <td>United Kingdom</td>\n",
              "    </tr>\n",
              "    <tr>\n",
              "      <th>2</th>\n",
              "      <td>536365</td>\n",
              "      <td>84406B</td>\n",
              "      <td>CREAM CUPID HEARTS COAT HANGER</td>\n",
              "      <td>8</td>\n",
              "      <td>2010-12-01 08:26:00</td>\n",
              "      <td>2.75</td>\n",
              "      <td>17850.0</td>\n",
              "      <td>United Kingdom</td>\n",
              "    </tr>\n",
              "    <tr>\n",
              "      <th>3</th>\n",
              "      <td>536365</td>\n",
              "      <td>84029G</td>\n",
              "      <td>KNITTED UNION FLAG HOT WATER BOTTLE</td>\n",
              "      <td>6</td>\n",
              "      <td>2010-12-01 08:26:00</td>\n",
              "      <td>3.39</td>\n",
              "      <td>17850.0</td>\n",
              "      <td>United Kingdom</td>\n",
              "    </tr>\n",
              "    <tr>\n",
              "      <th>4</th>\n",
              "      <td>536365</td>\n",
              "      <td>84029E</td>\n",
              "      <td>RED WOOLLY HOTTIE WHITE HEART.</td>\n",
              "      <td>6</td>\n",
              "      <td>2010-12-01 08:26:00</td>\n",
              "      <td>3.39</td>\n",
              "      <td>17850.0</td>\n",
              "      <td>United Kingdom</td>\n",
              "    </tr>\n",
              "  </tbody>\n",
              "</table>\n",
              "</div>"
            ],
            "text/plain": [
              "  InvoiceNo StockCode  ... CustomerID         Country\n",
              "0    536365    85123A  ...    17850.0  United Kingdom\n",
              "1    536365     71053  ...    17850.0  United Kingdom\n",
              "2    536365    84406B  ...    17850.0  United Kingdom\n",
              "3    536365    84029G  ...    17850.0  United Kingdom\n",
              "4    536365    84029E  ...    17850.0  United Kingdom\n",
              "\n",
              "[5 rows x 8 columns]"
            ]
          },
          "metadata": {
            "tags": []
          },
          "execution_count": 2
        }
      ]
    },
    {
      "cell_type": "markdown",
      "metadata": {
        "id": "u6EErhUnCYPb"
      },
      "source": [
        "# EDA AND PREPROCESSING "
      ]
    },
    {
      "cell_type": "code",
      "metadata": {
        "id": "EIxODeF8i1sM"
      },
      "source": [
        "# Add extra fields \n",
        "dataset['TotalAmount'] = dataset['Quantity'] * dataset['UnitPrice']\n",
        "dataset['InvoiceYear'] = dataset['InvoiceDate'].dt.year\n",
        "dataset['InvoiceMonth'] = dataset['InvoiceDate'].dt.month\n",
        "dataset['InvoiceYearMonth'] = dataset['InvoiceYear'].map(str) + \"-\" + dataset['InvoiceMonth'].map(str)"
      ],
      "execution_count": null,
      "outputs": []
    },
    {
      "cell_type": "code",
      "metadata": {
        "id": "mHCCF6VqjxRk",
        "outputId": "1c7454cf-1af8-4697-c5ed-4239d0178517",
        "colab": {
          "base_uri": "https://localhost:8080/",
          "height": 297
        }
      },
      "source": [
        "dataset.describe()"
      ],
      "execution_count": null,
      "outputs": [
        {
          "output_type": "execute_result",
          "data": {
            "text/html": [
              "<div>\n",
              "<style scoped>\n",
              "    .dataframe tbody tr th:only-of-type {\n",
              "        vertical-align: middle;\n",
              "    }\n",
              "\n",
              "    .dataframe tbody tr th {\n",
              "        vertical-align: top;\n",
              "    }\n",
              "\n",
              "    .dataframe thead th {\n",
              "        text-align: right;\n",
              "    }\n",
              "</style>\n",
              "<table border=\"1\" class=\"dataframe\">\n",
              "  <thead>\n",
              "    <tr style=\"text-align: right;\">\n",
              "      <th></th>\n",
              "      <th>Quantity</th>\n",
              "      <th>UnitPrice</th>\n",
              "      <th>CustomerID</th>\n",
              "      <th>TotalAmount</th>\n",
              "      <th>InvoiceYear</th>\n",
              "      <th>InvoiceMonth</th>\n",
              "    </tr>\n",
              "  </thead>\n",
              "  <tbody>\n",
              "    <tr>\n",
              "      <th>count</th>\n",
              "      <td>541909.000000</td>\n",
              "      <td>541909.000000</td>\n",
              "      <td>406829.000000</td>\n",
              "      <td>541909.000000</td>\n",
              "      <td>541909.000000</td>\n",
              "      <td>541909.000000</td>\n",
              "    </tr>\n",
              "    <tr>\n",
              "      <th>mean</th>\n",
              "      <td>9.552250</td>\n",
              "      <td>4.611114</td>\n",
              "      <td>15287.690570</td>\n",
              "      <td>17.987795</td>\n",
              "      <td>2010.921609</td>\n",
              "      <td>7.553128</td>\n",
              "    </tr>\n",
              "    <tr>\n",
              "      <th>std</th>\n",
              "      <td>218.081158</td>\n",
              "      <td>96.759853</td>\n",
              "      <td>1713.600303</td>\n",
              "      <td>378.810824</td>\n",
              "      <td>0.268787</td>\n",
              "      <td>3.509055</td>\n",
              "    </tr>\n",
              "    <tr>\n",
              "      <th>min</th>\n",
              "      <td>-80995.000000</td>\n",
              "      <td>-11062.060000</td>\n",
              "      <td>12346.000000</td>\n",
              "      <td>-168469.600000</td>\n",
              "      <td>2010.000000</td>\n",
              "      <td>1.000000</td>\n",
              "    </tr>\n",
              "    <tr>\n",
              "      <th>25%</th>\n",
              "      <td>1.000000</td>\n",
              "      <td>1.250000</td>\n",
              "      <td>13953.000000</td>\n",
              "      <td>3.400000</td>\n",
              "      <td>2011.000000</td>\n",
              "      <td>5.000000</td>\n",
              "    </tr>\n",
              "    <tr>\n",
              "      <th>50%</th>\n",
              "      <td>3.000000</td>\n",
              "      <td>2.080000</td>\n",
              "      <td>15152.000000</td>\n",
              "      <td>9.750000</td>\n",
              "      <td>2011.000000</td>\n",
              "      <td>8.000000</td>\n",
              "    </tr>\n",
              "    <tr>\n",
              "      <th>75%</th>\n",
              "      <td>10.000000</td>\n",
              "      <td>4.130000</td>\n",
              "      <td>16791.000000</td>\n",
              "      <td>17.400000</td>\n",
              "      <td>2011.000000</td>\n",
              "      <td>11.000000</td>\n",
              "    </tr>\n",
              "    <tr>\n",
              "      <th>max</th>\n",
              "      <td>80995.000000</td>\n",
              "      <td>38970.000000</td>\n",
              "      <td>18287.000000</td>\n",
              "      <td>168469.600000</td>\n",
              "      <td>2011.000000</td>\n",
              "      <td>12.000000</td>\n",
              "    </tr>\n",
              "  </tbody>\n",
              "</table>\n",
              "</div>"
            ],
            "text/plain": [
              "            Quantity      UnitPrice  ...    InvoiceYear   InvoiceMonth\n",
              "count  541909.000000  541909.000000  ...  541909.000000  541909.000000\n",
              "mean        9.552250       4.611114  ...    2010.921609       7.553128\n",
              "std       218.081158      96.759853  ...       0.268787       3.509055\n",
              "min    -80995.000000  -11062.060000  ...    2010.000000       1.000000\n",
              "25%         1.000000       1.250000  ...    2011.000000       5.000000\n",
              "50%         3.000000       2.080000  ...    2011.000000       8.000000\n",
              "75%        10.000000       4.130000  ...    2011.000000      11.000000\n",
              "max     80995.000000   38970.000000  ...    2011.000000      12.000000\n",
              "\n",
              "[8 rows x 6 columns]"
            ]
          },
          "metadata": {
            "tags": []
          },
          "execution_count": 7
        }
      ]
    },
    {
      "cell_type": "code",
      "metadata": {
        "id": "n5bLg5jkVlqB"
      },
      "source": [
        "dataset.shape()"
      ],
      "execution_count": null,
      "outputs": []
    },
    {
      "cell_type": "code",
      "metadata": {
        "id": "5jKahzCcjxqN",
        "outputId": "b56e56c8-fee3-4acc-db5e-09ad5d9aff53",
        "colab": {
          "base_uri": "https://localhost:8080/",
          "height": 34
        }
      },
      "source": [
        "# Total number of transactions\n",
        "len(dataset['InvoiceNo'].unique())"
      ],
      "execution_count": null,
      "outputs": [
        {
          "output_type": "execute_result",
          "data": {
            "text/plain": [
              "25900"
            ]
          },
          "metadata": {
            "tags": []
          },
          "execution_count": 8
        }
      ]
    },
    {
      "cell_type": "code",
      "metadata": {
        "id": "AWGDzQgCj3QR",
        "outputId": "2839e94d-0c3a-4d51-f4d7-f5f93aada62b",
        "colab": {
          "base_uri": "https://localhost:8080/",
          "height": 34
        }
      },
      "source": [
        "# Number of transactions with anonymous customers \n",
        "len(dataset[dataset['CustomerID'].isnull()]['InvoiceNo'].unique())"
      ],
      "execution_count": null,
      "outputs": [
        {
          "output_type": "execute_result",
          "data": {
            "text/plain": [
              "3710"
            ]
          },
          "metadata": {
            "tags": []
          },
          "execution_count": 9
        }
      ]
    },
    {
      "cell_type": "code",
      "metadata": {
        "id": "rCgt7Dqwj3bC",
        "outputId": "bf178a66-91f1-432e-dd45-f8d08d9bab60",
        "colab": {
          "base_uri": "https://localhost:8080/",
          "height": 34
        }
      },
      "source": [
        "# Total numbers of customers - +1 for null users\n",
        "len(dataset['CustomerID'].unique())"
      ],
      "execution_count": null,
      "outputs": [
        {
          "output_type": "execute_result",
          "data": {
            "text/plain": [
              "4373"
            ]
          },
          "metadata": {
            "tags": []
          },
          "execution_count": 10
        }
      ]
    },
    {
      "cell_type": "code",
      "metadata": {
        "id": "yuuRP7-Uj3xI",
        "outputId": "764d017e-5f70-4716-c919-8d7511db48ca",
        "colab": {
          "base_uri": "https://localhost:8080/",
          "height": 34
        }
      },
      "source": [
        "# Total profit\n",
        "sum(dataset['TotalAmount'])"
      ],
      "execution_count": null,
      "outputs": [
        {
          "output_type": "execute_result",
          "data": {
            "text/plain": [
              "9747747.93400317"
            ]
          },
          "metadata": {
            "tags": []
          },
          "execution_count": 11
        }
      ]
    },
    {
      "cell_type": "code",
      "metadata": {
        "id": "nBMiJ1oVj31I",
        "outputId": "fa06970f-8bae-43c1-f79f-6b93cc38c99d",
        "colab": {
          "base_uri": "https://localhost:8080/",
          "height": 391
        }
      },
      "source": [
        "# Get top ranked ranked customers based on the total amount\n",
        "customers_amounts = dataset.groupby('CustomerID')['TotalAmount'].agg(np.sum).sort_values(ascending=False)\n",
        "customers_amounts.head(20)"
      ],
      "execution_count": null,
      "outputs": [
        {
          "output_type": "execute_result",
          "data": {
            "text/plain": [
              "CustomerID\n",
              "14646.0    279489.02\n",
              "18102.0    256438.49\n",
              "17450.0    187482.17\n",
              "14911.0    132572.62\n",
              "12415.0    123725.45\n",
              "14156.0    113384.14\n",
              "17511.0     88125.38\n",
              "16684.0     65892.08\n",
              "13694.0     62653.10\n",
              "15311.0     59419.34\n",
              "13089.0     57385.88\n",
              "14096.0     57120.91\n",
              "15061.0     54228.74\n",
              "17949.0     52750.84\n",
              "15769.0     51823.72\n",
              "16029.0     50992.61\n",
              "14298.0     50862.44\n",
              "14088.0     50415.49\n",
              "17841.0     40340.78\n",
              "13798.0     36351.42\n",
              "Name: TotalAmount, dtype: float64"
            ]
          },
          "metadata": {
            "tags": []
          },
          "execution_count": 12
        }
      ]
    },
    {
      "cell_type": "markdown",
      "metadata": {
        "id": "GTUxi8vnBZmg"
      },
      "source": [
        "# VISUALISATION "
      ]
    },
    {
      "cell_type": "code",
      "metadata": {
        "id": "GjbNUChAj4Em",
        "outputId": "6b655116-3d36-485a-e939-8387717c5030",
        "colab": {
          "base_uri": "https://localhost:8080/",
          "height": 328
        }
      },
      "source": [
        "customers_amounts.head(20).plot.bar()"
      ],
      "execution_count": null,
      "outputs": [
        {
          "output_type": "execute_result",
          "data": {
            "text/plain": [
              "<matplotlib.axes._subplots.AxesSubplot at 0x7ff8853bb4e0>"
            ]
          },
          "metadata": {
            "tags": []
          },
          "execution_count": 13
        },
        {
          "output_type": "display_data",
          "data": {
            "image/png": "[encoded data removed]",
            "text/plain": [
              "<Figure size 432x288 with 1 Axes>"
            ]
          },
          "metadata": {
            "tags": [],
            "needs_background": "light"
          }
        }
      ]
    },
    {
      "cell_type": "code",
      "metadata": {
        "id": "dMs3Sj8Nj4BY",
        "outputId": "d3f668ef-b92e-4ed5-c21b-ad68e132e79c",
        "colab": {
          "base_uri": "https://localhost:8080/",
          "height": 391
        }
      },
      "source": [
        "# Frequently sold items by quantitiy\n",
        "gp_stockcode = dataset.groupby('Description')\n",
        "gp_stockcode_frq_quantitiy = gp_stockcode['Quantity'].agg(np.sum).sort_values(ascending=False)\n",
        "gp_stockcode_frq_quantitiy.head(20)"
      ],
      "execution_count": null,
      "outputs": [
        {
          "output_type": "execute_result",
          "data": {
            "text/plain": [
              "Description\n",
              "WORLD WAR 2 GLIDERS ASSTD DESIGNS     53847\n",
              "JUMBO BAG RED RETROSPOT               47363\n",
              "ASSORTED COLOUR BIRD ORNAMENT         36381\n",
              "POPCORN HOLDER                        36334\n",
              "PACK OF 72 RETROSPOT CAKE CASES       36039\n",
              "WHITE HANGING HEART T-LIGHT HOLDER    35317\n",
              "RABBIT NIGHT LIGHT                    30680\n",
              "MINI PAINT SET VINTAGE                26437\n",
              "PACK OF 12 LONDON TISSUES             26315\n",
              "PACK OF 60 PINK PAISLEY CAKE CASES    24753\n",
              "VICTORIAN GLASS HANGING T-LIGHT       23854\n",
              "ASSORTED COLOURS SILK FAN             23082\n",
              "BROCADE RING PURSE                    23053\n",
              "RED  HARMONICA IN BOX                 21866\n",
              "JUMBO BAG PINK POLKADOT               21009\n",
              "SMALL POPCORN HOLDER                  20116\n",
              "PAPER CHAIN KIT 50'S CHRISTMAS        18902\n",
              "LUNCH BAG RED RETROSPOT               18779\n",
              "60 TEATIME FAIRY CAKE CASES           18040\n",
              "PARTY BUNTING                         18022\n",
              "Name: Quantity, dtype: int64"
            ]
          },
          "metadata": {
            "tags": []
          },
          "execution_count": 14
        }
      ]
    },
    {
      "cell_type": "code",
      "metadata": {
        "id": "veIXsUUej3_b",
        "outputId": "a5a4c9ca-ec0c-4abf-bf53-fb81b3e18827",
        "colab": {
          "base_uri": "https://localhost:8080/",
          "height": 492
        }
      },
      "source": [
        "gp_stockcode_frq_quantitiy.head(20).plot.bar()"
      ],
      "execution_count": null,
      "outputs": [
        {
          "output_type": "execute_result",
          "data": {
            "text/plain": [
              "<matplotlib.axes._subplots.AxesSubplot at 0x7ff883f97588>"
            ]
          },
          "metadata": {
            "tags": []
          },
          "execution_count": 15
        },
        {
          "output_type": "display_data",
          "data": {
            "image/png": "[encoded data removed]",
            "text/plain": [
              "<Figure size 432x288 with 1 Axes>"
            ]
          },
          "metadata": {
            "tags": [],
            "needs_background": "light"
          }
        }
      ]
    },
    {
      "cell_type": "code",
      "metadata": {
        "id": "yFx9IOtVj39u",
        "outputId": "a2364fb1-9280-4734-dd3a-e00ec0537a87",
        "colab": {
          "base_uri": "https://localhost:8080/",
          "height": 391
        }
      },
      "source": [
        "# Frequently sold items by total amount\n",
        "gp_stockcode_frq_amount = gp_stockcode['TotalAmount'].agg(np.sum).sort_values(ascending=False)\n",
        "gp_stockcode_frq_amount.head(20)"
      ],
      "execution_count": null,
      "outputs": [
        {
          "output_type": "execute_result",
          "data": {
            "text/plain": [
              "Description\n",
              "DOTCOM POSTAGE                        206245.48\n",
              "REGENCY CAKESTAND 3 TIER              164762.19\n",
              "WHITE HANGING HEART T-LIGHT HOLDER     99668.47\n",
              "PARTY BUNTING                          98302.98\n",
              "JUMBO BAG RED RETROSPOT                92356.03\n",
              "RABBIT NIGHT LIGHT                     66756.59\n",
              "POSTAGE                                66230.64\n",
              "PAPER CHAIN KIT 50'S CHRISTMAS         63791.94\n",
              "ASSORTED COLOUR BIRD ORNAMENT          58959.73\n",
              "CHILLI LIGHTS                          53768.06\n",
              "SPOTTY BUNTING                         42065.32\n",
              "JUMBO BAG PINK POLKADOT                41619.66\n",
              "BLACK RECORD COVER FRAME               40596.96\n",
              "PICNIC BASKET WICKER 60 PIECES         39619.50\n",
              "SET OF 3 CAKE TINS PANTRY DESIGN       37413.44\n",
              "DOORMAT KEEP CALM AND COME IN          36565.39\n",
              "JAM MAKING SET WITH JARS               36116.09\n",
              "WOOD BLACK BOARD ANT WHITE FINISH      35859.27\n",
              "LUNCH BAG RED RETROSPOT                34897.31\n",
              "POPCORN HOLDER                         33969.46\n",
              "Name: TotalAmount, dtype: float64"
            ]
          },
          "metadata": {
            "tags": []
          },
          "execution_count": 16
        }
      ]
    },
    {
      "cell_type": "code",
      "metadata": {
        "id": "pnllsF4lj3ud",
        "outputId": "f97409f2-35bd-4d21-91f0-ea6bfb9b130d",
        "colab": {
          "base_uri": "https://localhost:8080/",
          "height": 492
        }
      },
      "source": [
        "gp_stockcode_frq_amount.head(20).plot.bar()"
      ],
      "execution_count": null,
      "outputs": [
        {
          "output_type": "execute_result",
          "data": {
            "text/plain": [
              "<matplotlib.axes._subplots.AxesSubplot at 0x7ff885313f60>"
            ]
          },
          "metadata": {
            "tags": []
          },
          "execution_count": 17
        },
        {
          "output_type": "display_data",
          "data": {
            "image/png": "[encoded data removed]",
            "text/plain": [
              "<Figure size 432x288 with 1 Axes>"
            ]
          },
          "metadata": {
            "tags": [],
            "needs_background": "light"
          }
        }
      ]
    },
    {
      "cell_type": "code",
      "metadata": {
        "id": "GTVx9cFyj3s_"
      },
      "source": [
        "# Explore by month\n",
        "gp_month = dataset.sort_values('InvoiceDate').groupby(['InvoiceYear', 'InvoiceMonth'])"
      ],
      "execution_count": null,
      "outputs": []
    },
    {
      "cell_type": "code",
      "metadata": {
        "id": "bBYvHEEBj3q-",
        "outputId": "f827a64a-1f34-493c-9529-f497508d1e7d",
        "colab": {
          "base_uri": "https://localhost:8080/",
          "height": 272
        }
      },
      "source": [
        "# Month number of invoices\n",
        "gp_month_invoices = gp_month['InvoiceNo'].unique().agg(np.size)\n",
        "gp_month_invoices"
      ],
      "execution_count": null,
      "outputs": [
        {
          "output_type": "execute_result",
          "data": {
            "text/plain": [
              "InvoiceYear  InvoiceMonth\n",
              "2010         12              2025\n",
              "2011         1               1476\n",
              "             2               1393\n",
              "             3               1983\n",
              "             4               1744\n",
              "             5               2162\n",
              "             6               2012\n",
              "             7               1927\n",
              "             8               1737\n",
              "             9               2327\n",
              "             10              2637\n",
              "             11              3462\n",
              "             12              1015\n",
              "Name: InvoiceNo, dtype: int64"
            ]
          },
          "metadata": {
            "tags": []
          },
          "execution_count": 19
        }
      ]
    },
    {
      "cell_type": "code",
      "metadata": {
        "id": "Wrhb9NPRj3pj",
        "outputId": "a8d3b3b2-b879-4368-c793-4009b65deada",
        "colab": {
          "base_uri": "https://localhost:8080/",
          "height": 338
        }
      },
      "source": [
        "gp_month_invoices.plot.bar()"
      ],
      "execution_count": null,
      "outputs": [
        {
          "output_type": "execute_result",
          "data": {
            "text/plain": [
              "<matplotlib.axes._subplots.AxesSubplot at 0x7ff878485898>"
            ]
          },
          "metadata": {
            "tags": []
          },
          "execution_count": 20
        },
        {
          "output_type": "display_data",
          "data": {
            "image/png": "[encoded data removed]",
            "text/plain": [
              "<Figure size 432x288 with 1 Axes>"
            ]
          },
          "metadata": {
            "tags": [],
            "needs_background": "light"
          }
        }
      ]
    },
    {
      "cell_type": "code",
      "metadata": {
        "id": "6FuYRBZ3j3nI",
        "outputId": "9152910c-b122-4984-d58e-4f2a7896b7b2",
        "colab": {
          "base_uri": "https://localhost:8080/",
          "height": 272
        }
      },
      "source": [
        "# Month total amounts\n",
        "gp_month_frq_amount= gp_month['TotalAmount'].agg(np.sum)\n",
        "gp_month_frq_amount"
      ],
      "execution_count": null,
      "outputs": [
        {
          "output_type": "execute_result",
          "data": {
            "text/plain": [
              "InvoiceYear  InvoiceMonth\n",
              "2010         12               748957.020\n",
              "2011         1                560000.260\n",
              "             2                498062.650\n",
              "             3                683267.080\n",
              "             4                493207.121\n",
              "             5                723333.510\n",
              "             6                691123.120\n",
              "             7                681300.111\n",
              "             8                682680.510\n",
              "             9               1019687.622\n",
              "             10              1070704.670\n",
              "             11              1461756.250\n",
              "             12               433668.010\n",
              "Name: TotalAmount, dtype: float64"
            ]
          },
          "metadata": {
            "tags": []
          },
          "execution_count": 21
        }
      ]
    },
    {
      "cell_type": "code",
      "metadata": {
        "id": "1zM1AnwXj3i0",
        "outputId": "240ed5fd-7ec1-424d-bfab-685743aa8c96",
        "colab": {
          "base_uri": "https://localhost:8080/",
          "height": 349
        }
      },
      "source": [
        "gp_month_frq_amount.plot.bar()"
      ],
      "execution_count": null,
      "outputs": [
        {
          "output_type": "execute_result",
          "data": {
            "text/plain": [
              "<matplotlib.axes._subplots.AxesSubplot at 0x7ff879bcae10>"
            ]
          },
          "metadata": {
            "tags": []
          },
          "execution_count": 22
        },
        {
          "output_type": "display_data",
          "data": {
            "image/png": "[encoded data removed]",
            "text/plain": [
              "<Figure size 432x288 with 1 Axes>"
            ]
          },
          "metadata": {
            "tags": [],
            "needs_background": "light"
          }
        }
      ]
    },
    {
      "cell_type": "code",
      "metadata": {
        "id": "RRH1_Vu7j3fm",
        "outputId": "ff45d522-e774-4d0c-cd8b-1e74587c9405",
        "colab": {
          "base_uri": "https://localhost:8080/",
          "height": 697
        }
      },
      "source": [
        "####################### Explore By Countries ###############\n",
        "gp_country = dataset.groupby('Country')\n",
        "# Order countries by total amount\n",
        "gp_country['TotalAmount'].agg(np.sum).sort_values(ascending=False)"
      ],
      "execution_count": null,
      "outputs": [
        {
          "output_type": "execute_result",
          "data": {
            "text/plain": [
              "Country\n",
              "United Kingdom          8.187806e+06\n",
              "Netherlands             2.846615e+05\n",
              "EIRE                    2.632768e+05\n",
              "Germany                 2.216982e+05\n",
              "France                  1.974039e+05\n",
              "Australia               1.370773e+05\n",
              "Switzerland             5.638535e+04\n",
              "Spain                   5.477458e+04\n",
              "Belgium                 4.091096e+04\n",
              "Sweden                  3.659591e+04\n",
              "Japan                   3.534062e+04\n",
              "Norway                  3.516346e+04\n",
              "Portugal                2.936702e+04\n",
              "Finland                 2.232674e+04\n",
              "Channel Islands         2.008629e+04\n",
              "Denmark                 1.876814e+04\n",
              "Italy                   1.689051e+04\n",
              "Cyprus                  1.294629e+04\n",
              "Austria                 1.015432e+04\n",
              "Hong Kong               1.011704e+04\n",
              "Singapore               9.120390e+03\n",
              "Israel                  7.907820e+03\n",
              "Poland                  7.213140e+03\n",
              "Unspecified             4.749790e+03\n",
              "Greece                  4.710520e+03\n",
              "Iceland                 4.310000e+03\n",
              "Canada                  3.666380e+03\n",
              "Malta                   2.505470e+03\n",
              "United Arab Emirates    1.902280e+03\n",
              "USA                     1.730920e+03\n",
              "Lebanon                 1.693880e+03\n",
              "Lithuania               1.661060e+03\n",
              "European Community      1.291750e+03\n",
              "Brazil                  1.143600e+03\n",
              "RSA                     1.002310e+03\n",
              "Czech Republic          7.077200e+02\n",
              "Bahrain                 5.484000e+02\n",
              "Saudi Arabia            1.311700e+02\n",
              "Name: TotalAmount, dtype: float64"
            ]
          },
          "metadata": {
            "tags": []
          },
          "execution_count": 23
        }
      ]
    },
    {
      "cell_type": "code",
      "metadata": {
        "id": "8LXCVaaqj3YP",
        "outputId": "1c946968-110c-45f5-b6e1-460d9d42d11c",
        "colab": {
          "base_uri": "https://localhost:8080/",
          "height": 697
        }
      },
      "source": [
        "# Order countries by number of invoices\n",
        "gp_country['InvoiceNo'].unique().agg(np.size).sort_values(ascending=False)"
      ],
      "execution_count": null,
      "outputs": [
        {
          "output_type": "execute_result",
          "data": {
            "text/plain": [
              "Country\n",
              "United Kingdom          23494\n",
              "Germany                   603\n",
              "France                    461\n",
              "EIRE                      360\n",
              "Belgium                   119\n",
              "Spain                     105\n",
              "Netherlands               101\n",
              "Switzerland                74\n",
              "Portugal                   71\n",
              "Australia                  69\n",
              "Italy                      55\n",
              "Finland                    48\n",
              "Sweden                     46\n",
              "Norway                     40\n",
              "Channel Islands            33\n",
              "Japan                      28\n",
              "Poland                     24\n",
              "Denmark                    21\n",
              "Cyprus                     20\n",
              "Austria                    19\n",
              "Hong Kong                  15\n",
              "Unspecified                13\n",
              "Malta                      10\n",
              "Singapore                  10\n",
              "Israel                      9\n",
              "Iceland                     7\n",
              "USA                         7\n",
              "Greece                      6\n",
              "Canada                      6\n",
              "European Community          5\n",
              "Czech Republic              5\n",
              "Lithuania                   4\n",
              "Bahrain                     4\n",
              "United Arab Emirates        3\n",
              "Saudi Arabia                2\n",
              "Lebanon                     1\n",
              "RSA                         1\n",
              "Brazil                      1\n",
              "Name: InvoiceNo, dtype: int64"
            ]
          },
          "metadata": {
            "tags": []
          },
          "execution_count": 24
        }
      ]
    },
    {
      "cell_type": "code",
      "metadata": {
        "id": "zRZhm7Crj3V8",
        "outputId": "152f0757-6391-4db1-d0e1-bc23fc287e66",
        "colab": {
          "base_uri": "https://localhost:8080/",
          "height": 697
        }
      },
      "source": [
        "# Order countries by number of customers\n",
        "gp_country['CustomerID'].unique().agg(np.size).sort_values(ascending=False)"
      ],
      "execution_count": null,
      "outputs": [
        {
          "output_type": "execute_result",
          "data": {
            "text/plain": [
              "Country\n",
              "United Kingdom          3951\n",
              "Germany                   95\n",
              "France                    88\n",
              "Spain                     31\n",
              "Belgium                   25\n",
              "Switzerland               22\n",
              "Portugal                  20\n",
              "Italy                     15\n",
              "Finland                   12\n",
              "Austria                   11\n",
              "Norway                    10\n",
              "Netherlands                9\n",
              "Australia                  9\n",
              "Channel Islands            9\n",
              "Denmark                    9\n",
              "Cyprus                     8\n",
              "Sweden                     8\n",
              "Japan                      8\n",
              "Poland                     6\n",
              "Unspecified                5\n",
              "Israel                     5\n",
              "Greece                     4\n",
              "USA                        4\n",
              "EIRE                       4\n",
              "Canada                     4\n",
              "Bahrain                    3\n",
              "United Arab Emirates       2\n",
              "Malta                      2\n",
              "Singapore                  1\n",
              "Brazil                     1\n",
              "Iceland                    1\n",
              "Saudi Arabia               1\n",
              "Hong Kong                  1\n",
              "RSA                        1\n",
              "European Community         1\n",
              "Lithuania                  1\n",
              "Lebanon                    1\n",
              "Czech Republic             1\n",
              "Name: CustomerID, dtype: int64"
            ]
          },
          "metadata": {
            "tags": []
          },
          "execution_count": 25
        }
      ]
    },
    {
      "cell_type": "code",
      "metadata": {
        "id": "rI7uIYZSj3Tf",
        "outputId": "6f8fa5ff-6257-4d38-8e87-c3a58d0f9dae",
        "colab": {
          "base_uri": "https://localhost:8080/",
          "height": 204
        }
      },
      "source": [
        "# Work on undefined customers\n",
        "gp_country_null = dataset[dataset['CustomerID'].isnull()].groupby('Country')\n",
        "# Order countries by total amount [For the undefined users]\n",
        "gp_country_null['TotalAmount'].agg(np.sum).sort_values(ascending=False)"
      ],
      "execution_count": null,
      "outputs": [
        {
          "output_type": "execute_result",
          "data": {
            "text/plain": [
              "Country\n",
              "United Kingdom    1419932.97\n",
              "EIRE                12991.60\n",
              "Hong Kong           10117.04\n",
              "Unspecified          2082.72\n",
              "Israel                913.57\n",
              "France                691.06\n",
              "Switzerland           645.95\n",
              "Portugal              307.21\n",
              "Bahrain                 0.00\n",
              "Name: TotalAmount, dtype: float64"
            ]
          },
          "metadata": {
            "tags": []
          },
          "execution_count": 26
        }
      ]
    },
    {
      "cell_type": "code",
      "metadata": {
        "id": "mWAj0krAj3N-",
        "outputId": "a2aca3a0-fdbf-4355-c665-d3e943a46b21",
        "colab": {
          "base_uri": "https://localhost:8080/",
          "height": 204
        }
      },
      "source": [
        "# Order countries by number of invoices [For the undefined users]\n",
        "gp_country_null['InvoiceNo'].unique().agg(np.size).sort_values(ascending=False)"
      ],
      "execution_count": null,
      "outputs": [
        {
          "output_type": "execute_result",
          "data": {
            "text/plain": [
              "Country\n",
              "United Kingdom    3637\n",
              "EIRE                41\n",
              "Hong Kong           15\n",
              "Unspecified          5\n",
              "Switzerland          3\n",
              "Israel               3\n",
              "France               3\n",
              "Bahrain              2\n",
              "Portugal             1\n",
              "Name: InvoiceNo, dtype: int64"
            ]
          },
          "metadata": {
            "tags": []
          },
          "execution_count": 27
        }
      ]
    },
    {
      "cell_type": "code",
      "metadata": {
        "id": "x-kdZs-aj3Mz",
        "outputId": "76b86a35-4e5f-4f2b-a3a1-549c26b9f5a0",
        "colab": {
          "base_uri": "https://localhost:8080/",
          "height": 391
        }
      },
      "source": [
        "# Explore more info about United Kingdom invoices because it has the max total amount\n",
        "# Get United Kingdom top ranked customers based on the total amount\n",
        "uk_customers_amounts = dataset[dataset['Country']=='United Kingdom'].groupby('CustomerID')['TotalAmount'].agg(np.sum).sort_values(ascending=False)\n",
        "uk_customers_amounts.head(20)"
      ],
      "execution_count": null,
      "outputs": [
        {
          "output_type": "execute_result",
          "data": {
            "text/plain": [
              "CustomerID\n",
              "18102.0    256438.49\n",
              "17450.0    187482.17\n",
              "17511.0     88125.38\n",
              "16684.0     65892.08\n",
              "13694.0     62653.10\n",
              "15311.0     59419.34\n",
              "13089.0     57385.88\n",
              "14096.0     57120.91\n",
              "15061.0     54228.74\n",
              "17949.0     52750.84\n",
              "15769.0     51823.72\n",
              "16029.0     50992.61\n",
              "14298.0     50862.44\n",
              "14088.0     50415.49\n",
              "17841.0     40340.78\n",
              "13798.0     36351.42\n",
              "16422.0     33805.69\n",
              "12931.0     33462.81\n",
              "16013.0     33366.25\n",
              "15838.0     33350.76\n",
              "Name: TotalAmount, dtype: float64"
            ]
          },
          "metadata": {
            "tags": []
          },
          "execution_count": 28
        }
      ]
    },
    {
      "cell_type": "code",
      "metadata": {
        "id": "NLielnk4k3Gq",
        "outputId": "9ae3caf6-7173-48d2-caf7-0554363a1ac3",
        "colab": {
          "base_uri": "https://localhost:8080/",
          "height": 328
        }
      },
      "source": [
        "uk_customers_amounts.head(20).plot.bar()"
      ],
      "execution_count": null,
      "outputs": [
        {
          "output_type": "execute_result",
          "data": {
            "text/plain": [
              "<matplotlib.axes._subplots.AxesSubplot at 0x7ff87ba9a860>"
            ]
          },
          "metadata": {
            "tags": []
          },
          "execution_count": 29
        },
        {
          "output_type": "display_data",
          "data": {
            "image/png": "[encoded data removed]",
            "text/plain": [
              "<Figure size 432x288 with 1 Axes>"
            ]
          },
          "metadata": {
            "tags": [],
            "needs_background": "light"
          }
        }
      ]
    },
    {
      "cell_type": "code",
      "metadata": {
        "id": "zFoh52c0k3bJ",
        "outputId": "e9138465-ce87-4a16-ee02-d9651bcde652",
        "colab": {
          "base_uri": "https://localhost:8080/",
          "height": 391
        }
      },
      "source": [
        "# United Kingdom frequently sold items by quantitiy\n",
        "uk_gp_stockcode = dataset[dataset['Country']=='United Kingdom'].groupby('Description')\n",
        "uk_gp_stockcode_frq_quantitiy = uk_gp_stockcode['Quantity'].agg(np.sum).sort_values(ascending=False)\n",
        "uk_gp_stockcode_frq_quantitiy.head(20)"
      ],
      "execution_count": null,
      "outputs": [
        {
          "output_type": "execute_result",
          "data": {
            "text/plain": [
              "Description\n",
              "WORLD WAR 2 GLIDERS ASSTD DESIGNS      48326\n",
              "JUMBO BAG RED RETROSPOT                43167\n",
              "POPCORN HOLDER                         34365\n",
              "ASSORTED COLOUR BIRD ORNAMENT          33679\n",
              "WHITE HANGING HEART T-LIGHT HOLDER     33193\n",
              "PACK OF 12 LONDON TISSUES              25307\n",
              "PACK OF 72 RETROSPOT CAKE CASES        24702\n",
              "VICTORIAN GLASS HANGING T-LIGHT        23242\n",
              "BROCADE RING PURSE                     22801\n",
              "ASSORTED COLOURS SILK FAN              20322\n",
              "PACK OF 60 PINK PAISLEY CAKE CASES     20288\n",
              "JUMBO BAG PINK POLKADOT                18936\n",
              "SMALL POPCORN HOLDER                   18563\n",
              "PAPER CHAIN KIT 50'S CHRISTMAS         18197\n",
              "RED  HARMONICA IN BOX                  17754\n",
              "HEART OF WICKER SMALL                  17394\n",
              "PARTY BUNTING                          16709\n",
              "JUMBO BAG STRAWBERRY                   16056\n",
              "CHARLOTTE BAG SUKI DESIGN              15974\n",
              "COLOUR GLASS T-LIGHT HOLDER HANGING    15400\n",
              "Name: Quantity, dtype: int64"
            ]
          },
          "metadata": {
            "tags": []
          },
          "execution_count": 30
        }
      ]
    },
    {
      "cell_type": "code",
      "metadata": {
        "id": "bJ4m7ftgk3hS",
        "outputId": "a129d7bd-0408-4630-a5a6-a55663972521",
        "colab": {
          "base_uri": "https://localhost:8080/",
          "height": 502
        }
      },
      "source": [
        "uk_gp_stockcode_frq_quantitiy.head(20).plot.bar()"
      ],
      "execution_count": null,
      "outputs": [
        {
          "output_type": "execute_result",
          "data": {
            "text/plain": [
              "<matplotlib.axes._subplots.AxesSubplot at 0x7ff87cabc470>"
            ]
          },
          "metadata": {
            "tags": []
          },
          "execution_count": 31
        },
        {
          "output_type": "display_data",
          "data": {
            "image/png": "[encoded data removed]",
            "text/plain": [
              "<Figure size 432x288 with 1 Axes>"
            ]
          },
          "metadata": {
            "tags": [],
            "needs_background": "light"
          }
        }
      ]
    },
    {
      "cell_type": "code",
      "metadata": {
        "id": "0mncvHDrk3Zn",
        "outputId": "eee36c7e-f5b5-4610-bdf1-6ecf5720dcfe",
        "colab": {
          "base_uri": "https://localhost:8080/",
          "height": 391
        }
      },
      "source": [
        "# Frequently sold items by total amount\n",
        "uk_gp_stockcode_frq_amount = uk_gp_stockcode['TotalAmount'].agg(np.sum).sort_values(ascending=False)\n",
        "uk_gp_stockcode_frq_amount.head(20)"
      ],
      "execution_count": null,
      "outputs": [
        {
          "output_type": "execute_result",
          "data": {
            "text/plain": [
              "Description\n",
              "DOTCOM POSTAGE                        206245.48\n",
              "REGENCY CAKESTAND 3 TIER              134405.94\n",
              "WHITE HANGING HEART T-LIGHT HOLDER     93953.07\n",
              "PARTY BUNTING                          92501.73\n",
              "JUMBO BAG RED RETROSPOT                84516.44\n",
              "PAPER CHAIN KIT 50'S CHRISTMAS         61888.19\n",
              "ASSORTED COLOUR BIRD ORNAMENT          54662.15\n",
              "CHILLI LIGHTS                          52986.86\n",
              "PICNIC BASKET WICKER 60 PIECES         39619.50\n",
              "BLACK RECORD COVER FRAME               39387.00\n",
              "RABBIT NIGHT LIGHT                     37894.16\n",
              "JUMBO BAG PINK POLKADOT                37754.82\n",
              "SPOTTY BUNTING                         36625.12\n",
              "DOORMAT KEEP CALM AND COME IN          35469.34\n",
              "WOOD BLACK BOARD ANT WHITE FINISH      34960.97\n",
              "POPCORN HOLDER                         32425.81\n",
              "HOT WATER BOTTLE TEA AND SYMPATHY      31888.99\n",
              "VICTORIAN GLASS HANGING T-LIGHT        31683.17\n",
              "HEART OF WICKER SMALL                  31186.55\n",
              "JUMBO BAG STRAWBERRY                   30514.32\n",
              "Name: TotalAmount, dtype: float64"
            ]
          },
          "metadata": {
            "tags": []
          },
          "execution_count": 32
        }
      ]
    },
    {
      "cell_type": "code",
      "metadata": {
        "id": "qIAahmA2k3YF",
        "outputId": "89684241-c106-4072-c8e5-7d90478b6918",
        "colab": {
          "base_uri": "https://localhost:8080/",
          "height": 492
        }
      },
      "source": [
        "uk_gp_stockcode_frq_amount.head(20).plot.bar()"
      ],
      "execution_count": null,
      "outputs": [
        {
          "output_type": "execute_result",
          "data": {
            "text/plain": [
              "<matplotlib.axes._subplots.AxesSubplot at 0x7ff87e784a20>"
            ]
          },
          "metadata": {
            "tags": []
          },
          "execution_count": 33
        },
        {
          "output_type": "display_data",
          "data": {
            "image/png": "[encoded data removed]",
            "text/plain": [
              "<Figure size 432x288 with 1 Axes>"
            ]
          },
          "metadata": {
            "tags": [],
            "needs_background": "light"
          }
        }
      ]
    },
    {
      "cell_type": "code",
      "metadata": {
        "id": "6xvyfVddk3WQ",
        "outputId": "c6d60cc8-df80-4331-e6c6-4c144d08cd87",
        "colab": {
          "base_uri": "https://localhost:8080/",
          "height": 272
        }
      },
      "source": [
        "# Explore United Kingdom by month\n",
        "uk_gp_month = dataset[dataset['Country']=='United Kingdom'].groupby(['InvoiceYear', 'InvoiceMonth'])\n",
        "# United Kingdom By Month number of invoices\n",
        "uk_gp_month_invoices = uk_gp_month['InvoiceNo'].unique().agg(np.size)\n",
        "uk_gp_month_invoices"
      ],
      "execution_count": null,
      "outputs": [
        {
          "output_type": "execute_result",
          "data": {
            "text/plain": [
              "InvoiceYear  InvoiceMonth\n",
              "2010         12              1885\n",
              "2011         1               1327\n",
              "             2               1259\n",
              "             3               1802\n",
              "             4               1622\n",
              "             5               1973\n",
              "             6               1830\n",
              "             7               1764\n",
              "             8               1546\n",
              "             9               2090\n",
              "             10              2361\n",
              "             11              3113\n",
              "             12               922\n",
              "Name: InvoiceNo, dtype: int64"
            ]
          },
          "metadata": {
            "tags": []
          },
          "execution_count": 34
        }
      ]
    },
    {
      "cell_type": "code",
      "metadata": {
        "id": "Or8nXA-2k3UR",
        "outputId": "d55650f9-fc9b-48e0-82b9-5a143151813c",
        "colab": {
          "base_uri": "https://localhost:8080/",
          "height": 338
        }
      },
      "source": [
        "uk_gp_month_invoices.plot.bar()"
      ],
      "execution_count": null,
      "outputs": [
        {
          "output_type": "execute_result",
          "data": {
            "text/plain": [
              "<matplotlib.axes._subplots.AxesSubplot at 0x7ff881020358>"
            ]
          },
          "metadata": {
            "tags": []
          },
          "execution_count": 35
        },
        {
          "output_type": "display_data",
          "data": {
            "image/png": "[encoded data removed]",
            "text/plain": [
              "<Figure size 432x288 with 1 Axes>"
            ]
          },
          "metadata": {
            "tags": [],
            "needs_background": "light"
          }
        }
      ]
    },
    {
      "cell_type": "code",
      "metadata": {
        "id": "z-ASjkVdk3Sm",
        "outputId": "7936e339-3a74-482e-e18c-7aa6786dda80",
        "colab": {
          "base_uri": "https://localhost:8080/",
          "height": 272
        }
      },
      "source": [
        "# United Kingdom By Month total amounts\n",
        "uk_gp_month_frq_amount= uk_gp_month['TotalAmount'].agg(np.sum)\n",
        "uk_gp_month_frq_amount"
      ],
      "execution_count": null,
      "outputs": [
        {
          "output_type": "execute_result",
          "data": {
            "text/plain": [
              "InvoiceYear  InvoiceMonth\n",
              "2010         12               676742.620\n",
              "2011         1                434308.300\n",
              "             2                408247.910\n",
              "             3                559707.390\n",
              "             4                442254.041\n",
              "             5                596459.860\n",
              "             6                554478.350\n",
              "             7                565479.841\n",
              "             8                539130.500\n",
              "             9                862018.152\n",
              "             10               877438.190\n",
              "             11              1282805.780\n",
              "             12               388735.430\n",
              "Name: TotalAmount, dtype: float64"
            ]
          },
          "metadata": {
            "tags": []
          },
          "execution_count": 36
        }
      ]
    },
    {
      "cell_type": "code",
      "metadata": {
        "id": "WIbeyZbik3PQ",
        "outputId": "c8c55bdd-1291-4efd-db62-93b4126d0e28",
        "colab": {
          "base_uri": "https://localhost:8080/",
          "height": 349
        }
      },
      "source": [
        "uk_gp_month_frq_amount.plot.bar()"
      ],
      "execution_count": null,
      "outputs": [
        {
          "output_type": "execute_result",
          "data": {
            "text/plain": [
              "<matplotlib.axes._subplots.AxesSubplot at 0x7ff87fe02828>"
            ]
          },
          "metadata": {
            "tags": []
          },
          "execution_count": 37
        },
        {
          "output_type": "display_data",
          "data": {
            "image/png": "[encoded data removed]",
            "text/plain": [
              "<Figure size 432x288 with 1 Axes>"
            ]
          },
          "metadata": {
            "tags": [],
            "needs_background": "light"
          }
        }
      ]
    },
    {
      "cell_type": "code",
      "metadata": {
        "id": "yTYtmBymk3Mc",
        "outputId": "190702d6-a013-49e1-c5c0-a4603a53ac3b",
        "colab": {
          "base_uri": "https://localhost:8080/",
          "height": 34
        }
      },
      "source": [
        "## Part2. Get Association Rules\n",
        "#################################\n",
        "#set null description = stockCode\n",
        "len(dataset[dataset['Description'].isnull()])"
      ],
      "execution_count": null,
      "outputs": [
        {
          "output_type": "execute_result",
          "data": {
            "text/plain": [
              "1454"
            ]
          },
          "metadata": {
            "tags": []
          },
          "execution_count": 38
        }
      ]
    },
    {
      "cell_type": "code",
      "metadata": {
        "id": "rmnIF903k3EZ",
        "outputId": "f3023d73-6277-4bd3-cc70-89a9b90ac6a2",
        "colab": {
          "base_uri": "https://localhost:8080/",
          "height": 122
        }
      },
      "source": [
        "for i, d in dataset[dataset['Description'].isnull()].iterrows():\n",
        "    dataset['Description'][i] = \"Code-\" + str(d['StockCode'])"
      ],
      "execution_count": null,
      "outputs": [
        {
          "output_type": "stream",
          "text": [
            "/usr/local/lib/python3.6/dist-packages/ipykernel_launcher.py:2: SettingWithCopyWarning: \n",
            "A value is trying to be set on a copy of a slice from a DataFrame\n",
            "\n",
            "See the caveats in the documentation: https://pandas.pydata.org/pandas-docs/stable/user_guide/indexing.html#returning-a-view-versus-a-copy\n",
            "  \n"
          ],
          "name": "stderr"
        }
      ]
    },
    {
      "cell_type": "code",
      "metadata": {
        "id": "eIQGINhFk3CO",
        "outputId": "b6005ccf-0d12-4294-f266-5b1d8d6d2276",
        "colab": {
          "base_uri": "https://localhost:8080/",
          "height": 34
        }
      },
      "source": [
        "len(dataset[dataset['Description']==dataset['StockCode'].map(lambda x: \"Code-\"+str(x))])"
      ],
      "execution_count": null,
      "outputs": [
        {
          "output_type": "execute_result",
          "data": {
            "text/plain": [
              "1454"
            ]
          },
          "metadata": {
            "tags": []
          },
          "execution_count": 40
        }
      ]
    },
    {
      "cell_type": "code",
      "metadata": {
        "id": "A46G70gbk2_x"
      },
      "source": [
        "# Set transactions\n",
        "gp_invoiceno = dataset.groupby('InvoiceNo')\n",
        "transactions = []\n",
        "for name,group in gp_invoiceno:\n",
        "    transactions.append(list(group['Description'].map(str)))"
      ],
      "execution_count": null,
      "outputs": []
    },
    {
      "cell_type": "code",
      "metadata": {
        "id": "JlcVfPU3nW94",
        "outputId": "1cec5735-469d-4ee0-b65f-de94e2768668",
        "colab": {
          "base_uri": "https://localhost:8080/",
          "height": 190
        }
      },
      "source": [
        "pip install apyori"
      ],
      "execution_count": null,
      "outputs": [
        {
          "output_type": "stream",
          "text": [
            "Collecting apyori\n",
            "  Downloading https://files.pythonhosted.org/packages/5e/62/5ffde5c473ea4b033490617ec5caa80d59804875ad3c3c57c0976533a21a/apyori-1.1.2.tar.gz\n",
            "Building wheels for collected packages: apyori\n",
            "  Building wheel for apyori (setup.py) ... \u001b[?25l\u001b[?25hdone\n",
            "  Created wheel for apyori: filename=apyori-1.1.2-cp36-none-any.whl size=5975 sha256=2c4f597d4cb307fe245d7862968ba6162b6ca50c50962c30aaf35c1422b08a4f\n",
            "  Stored in directory: /root/.cache/pip/wheels/5d/92/bb/474bbadbc8c0062b9eb168f69982a0443263f8ab1711a8cad0\n",
            "Successfully built apyori\n",
            "Installing collected packages: apyori\n",
            "Successfully installed apyori-1.1.2\n"
          ],
          "name": "stdout"
        }
      ]
    },
    {
      "cell_type": "code",
      "metadata": {
        "id": "FfEqaFnHk28u"
      },
      "source": [
        "# Training Apriori on the dataset\n",
        "# Needs to import https://pypi.python.org/pypi/apyori/1.0.0\n",
        "from apyori import apriori\n",
        "rules = apriori(transactions, min_support = 0.005, min_confidence = 0.2, min_lift = 3, min_length = 2)\n",
        "# Get the results\n",
        "results = list(rules)"
      ],
      "execution_count": null,
      "outputs": []
    },
    {
      "cell_type": "code",
      "metadata": {
        "id": "WHiuJ4O-k26y",
        "outputId": "44c964b7-b5c8-40bf-ce06-82d1c3d7df65",
        "colab": {
          "base_uri": "https://localhost:8080/",
          "height": 1000
        }
      },
      "source": [
        "# Visualising the result as a readeable dataframe\n",
        "final_results = pd.DataFrame(np.random.randint(low=0, high=1, size=(len(results), 6)), columns=['GeneralRules', 'LeftRules', 'RightRules', 'Support', 'Confidence', 'Lift'])\n",
        "index = 0\n",
        "for g, s, i in results:\n",
        "    final_results.iloc[index] = [' _&&_ '.join(list(g)), ' _&&_ '.join(list(i[0][0])), ' _&&_ '.join(list(i[0][1])), s, i[0][2], i[0][3]]\n",
        "    index = index+1\n",
        "# The most significant rules\n",
        "final_results = final_results.sort_values('Lift', ascending=0)\n",
        "final_results.head(20)"
      ],
      "execution_count": null,
      "outputs": [
        {
          "output_type": "execute_result",
          "data": {
            "text/html": [
              "<div>\n",
              "<style scoped>\n",
              "    .dataframe tbody tr th:only-of-type {\n",
              "        vertical-align: middle;\n",
              "    }\n",
              "\n",
              "    .dataframe tbody tr th {\n",
              "        vertical-align: top;\n",
              "    }\n",
              "\n",
              "    .dataframe thead th {\n",
              "        text-align: right;\n",
              "    }\n",
              "</style>\n",
              "<table border=\"1\" class=\"dataframe\">\n",
              "  <thead>\n",
              "    <tr style=\"text-align: right;\">\n",
              "      <th></th>\n",
              "      <th>GeneralRules</th>\n",
              "      <th>LeftRules</th>\n",
              "      <th>RightRules</th>\n",
              "      <th>Support</th>\n",
              "      <th>Confidence</th>\n",
              "      <th>Lift</th>\n",
              "    </tr>\n",
              "  </thead>\n",
              "  <tbody>\n",
              "    <tr>\n",
              "      <th>4601</th>\n",
              "      <td>HERB MARKER ROSEMARY _&amp;&amp;_ HERB MARKER THYME _&amp;...</td>\n",
              "      <td>HERB MARKER CHIVES</td>\n",
              "      <td>HERB MARKER ROSEMARY _&amp;&amp;_ HERB MARKER THYME _&amp;...</td>\n",
              "      <td>0.006564</td>\n",
              "      <td>0.809524</td>\n",
              "      <td>112.121212</td>\n",
              "    </tr>\n",
              "    <tr>\n",
              "      <th>4330</th>\n",
              "      <td>HERB MARKER THYME _&amp;&amp;_ HERB MARKER PARSLEY _&amp;&amp;...</td>\n",
              "      <td>HERB MARKER CHIVES</td>\n",
              "      <td>HERB MARKER THYME _&amp;&amp;_ HERB MARKER PARSLEY _&amp;&amp;...</td>\n",
              "      <td>0.006718</td>\n",
              "      <td>0.828571</td>\n",
              "      <td>110.051282</td>\n",
              "    </tr>\n",
              "    <tr>\n",
              "      <th>4329</th>\n",
              "      <td>HERB MARKER ROSEMARY _&amp;&amp;_ HERB MARKER PARSLEY ...</td>\n",
              "      <td>HERB MARKER CHIVES</td>\n",
              "      <td>HERB MARKER ROSEMARY _&amp;&amp;_ HERB MARKER PARSLEY ...</td>\n",
              "      <td>0.006757</td>\n",
              "      <td>0.833333</td>\n",
              "      <td>109.560068</td>\n",
              "    </tr>\n",
              "    <tr>\n",
              "      <th>4332</th>\n",
              "      <td>HERB MARKER ROSEMARY _&amp;&amp;_ HERB MARKER THYME _&amp;...</td>\n",
              "      <td>HERB MARKER CHIVES</td>\n",
              "      <td>HERB MARKER ROSEMARY _&amp;&amp;_ HERB MARKER THYME _&amp;...</td>\n",
              "      <td>0.006911</td>\n",
              "      <td>0.852381</td>\n",
              "      <td>108.218954</td>\n",
              "    </tr>\n",
              "    <tr>\n",
              "      <th>4331</th>\n",
              "      <td>HERB MARKER ROSEMARY _&amp;&amp;_ HERB MARKER THYME _&amp;...</td>\n",
              "      <td>HERB MARKER CHIVES</td>\n",
              "      <td>HERB MARKER ROSEMARY _&amp;&amp;_ HERB MARKER THYME _&amp;...</td>\n",
              "      <td>0.006641</td>\n",
              "      <td>0.819048</td>\n",
              "      <td>107.138047</td>\n",
              "    </tr>\n",
              "    <tr>\n",
              "      <th>3170</th>\n",
              "      <td>HERB MARKER PARSLEY _&amp;&amp;_ HERB MARKER CHIVES  _...</td>\n",
              "      <td>HERB MARKER CHIVES</td>\n",
              "      <td>HERB MARKER PARSLEY _&amp;&amp;_ HERB MARKER MINT</td>\n",
              "      <td>0.007104</td>\n",
              "      <td>0.876190</td>\n",
              "      <td>106.541471</td>\n",
              "    </tr>\n",
              "    <tr>\n",
              "      <th>3174</th>\n",
              "      <td>HERB MARKER THYME _&amp;&amp;_ HERB MARKER PARSLEY _&amp;&amp;...</td>\n",
              "      <td>HERB MARKER CHIVES</td>\n",
              "      <td>HERB MARKER THYME _&amp;&amp;_ HERB MARKER PARSLEY</td>\n",
              "      <td>0.007104</td>\n",
              "      <td>0.876190</td>\n",
              "      <td>106.043614</td>\n",
              "    </tr>\n",
              "    <tr>\n",
              "      <th>3172</th>\n",
              "      <td>HERB MARKER THYME _&amp;&amp;_ HERB MARKER CHIVES  _&amp;&amp;...</td>\n",
              "      <td>HERB MARKER CHIVES</td>\n",
              "      <td>HERB MARKER THYME _&amp;&amp;_ HERB MARKER MINT</td>\n",
              "      <td>0.006834</td>\n",
              "      <td>0.842857</td>\n",
              "      <td>105.458937</td>\n",
              "    </tr>\n",
              "    <tr>\n",
              "      <th>3173</th>\n",
              "      <td>HERB MARKER ROSEMARY _&amp;&amp;_ HERB MARKER PARSLEY ...</td>\n",
              "      <td>HERB MARKER CHIVES</td>\n",
              "      <td>HERB MARKER ROSEMARY _&amp;&amp;_ HERB MARKER PARSLEY</td>\n",
              "      <td>0.007104</td>\n",
              "      <td>0.876190</td>\n",
              "      <td>105.061728</td>\n",
              "    </tr>\n",
              "    <tr>\n",
              "      <th>2312</th>\n",
              "      <td>SET/6 COLLAGE PAPER CUPS _&amp;&amp;_ SET/6 COLLAGE PA...</td>\n",
              "      <td>SET/6 COLLAGE PAPER CUPS</td>\n",
              "      <td>SET/6 COLLAGE PAPER PLATES</td>\n",
              "      <td>0.006255</td>\n",
              "      <td>0.890110</td>\n",
              "      <td>104.790210</td>\n",
              "    </tr>\n",
              "    <tr>\n",
              "      <th>1858</th>\n",
              "      <td>PACK OF 6 SKULL PAPER PLATES _&amp;&amp;_ PACK OF 6 SK...</td>\n",
              "      <td>PACK OF 6 SKULL PAPER CUPS</td>\n",
              "      <td>PACK OF 6 SKULL PAPER PLATES</td>\n",
              "      <td>0.005212</td>\n",
              "      <td>0.780347</td>\n",
              "      <td>104.720117</td>\n",
              "    </tr>\n",
              "    <tr>\n",
              "      <th>539</th>\n",
              "      <td>DOLLY GIRL CHILDRENS CUP _&amp;&amp;_ DOLLY GIRL CHILD...</td>\n",
              "      <td>DOLLY GIRL CHILDRENS BOWL</td>\n",
              "      <td>DOLLY GIRL CHILDRENS CUP</td>\n",
              "      <td>0.005946</td>\n",
              "      <td>0.789744</td>\n",
              "      <td>103.304843</td>\n",
              "    </tr>\n",
              "    <tr>\n",
              "      <th>3171</th>\n",
              "      <td>HERB MARKER ROSEMARY _&amp;&amp;_ HERB MARKER CHIVES  ...</td>\n",
              "      <td>HERB MARKER CHIVES</td>\n",
              "      <td>HERB MARKER ROSEMARY _&amp;&amp;_ HERB MARKER MINT</td>\n",
              "      <td>0.006873</td>\n",
              "      <td>0.847619</td>\n",
              "      <td>103.067293</td>\n",
              "    </tr>\n",
              "    <tr>\n",
              "      <th>3175</th>\n",
              "      <td>HERB MARKER ROSEMARY _&amp;&amp;_ HERB MARKER THYME _&amp;...</td>\n",
              "      <td>HERB MARKER CHIVES</td>\n",
              "      <td>HERB MARKER ROSEMARY _&amp;&amp;_ HERB MARKER THYME</td>\n",
              "      <td>0.007066</td>\n",
              "      <td>0.871429</td>\n",
              "      <td>101.666667</td>\n",
              "    </tr>\n",
              "    <tr>\n",
              "      <th>496</th>\n",
              "      <td>CHRISTMAS TREE HEART DECORATION _&amp;&amp;_ CHRISTMAS...</td>\n",
              "      <td>CHRISTMAS TREE HEART DECORATION</td>\n",
              "      <td>CHRISTMAS TREE STAR DECORATION</td>\n",
              "      <td>0.005405</td>\n",
              "      <td>0.773481</td>\n",
              "      <td>101.177521</td>\n",
              "    </tr>\n",
              "    <tr>\n",
              "      <th>2469</th>\n",
              "      <td>DOTCOM POSTAGE _&amp;&amp;_ BEADED CRYSTAL HEART PINK ...</td>\n",
              "      <td>BEADED CRYSTAL HEART GREEN ON STICK</td>\n",
              "      <td>BEADED CRYSTAL HEART PINK ON STICK _&amp;&amp;_ DOTCOM...</td>\n",
              "      <td>0.005212</td>\n",
              "      <td>0.784884</td>\n",
              "      <td>101.136758</td>\n",
              "    </tr>\n",
              "    <tr>\n",
              "      <th>936</th>\n",
              "      <td>HERB MARKER ROSEMARY _&amp;&amp;_ HERB MARKER THYME</td>\n",
              "      <td>HERB MARKER ROSEMARY</td>\n",
              "      <td>HERB MARKER THYME</td>\n",
              "      <td>0.008571</td>\n",
              "      <td>0.921162</td>\n",
              "      <td>100.244081</td>\n",
              "    </tr>\n",
              "    <tr>\n",
              "      <th>187</th>\n",
              "      <td>BEADED CRYSTAL HEART PINK ON STICK _&amp;&amp;_ BEADED...</td>\n",
              "      <td>BEADED CRYSTAL HEART GREEN ON STICK</td>\n",
              "      <td>BEADED CRYSTAL HEART PINK ON STICK</td>\n",
              "      <td>0.005290</td>\n",
              "      <td>0.796512</td>\n",
              "      <td>100.143938</td>\n",
              "    </tr>\n",
              "    <tr>\n",
              "      <th>928</th>\n",
              "      <td>HERB MARKER PARSLEY _&amp;&amp;_ HERB MARKER CHIVES</td>\n",
              "      <td>HERB MARKER CHIVES</td>\n",
              "      <td>HERB MARKER PARSLEY</td>\n",
              "      <td>0.007490</td>\n",
              "      <td>0.923810</td>\n",
              "      <td>100.111576</td>\n",
              "    </tr>\n",
              "    <tr>\n",
              "      <th>3179</th>\n",
              "      <td>HERB MARKER ROSEMARY _&amp;&amp;_ HERB MARKER THYME _&amp;...</td>\n",
              "      <td>HERB MARKER PARSLEY</td>\n",
              "      <td>HERB MARKER ROSEMARY _&amp;&amp;_ HERB MARKER THYME</td>\n",
              "      <td>0.007876</td>\n",
              "      <td>0.853556</td>\n",
              "      <td>99.581590</td>\n",
              "    </tr>\n",
              "  </tbody>\n",
              "</table>\n",
              "</div>"
            ],
            "text/plain": [
              "                                           GeneralRules  ...        Lift\n",
              "4601  HERB MARKER ROSEMARY _&&_ HERB MARKER THYME _&...  ...  112.121212\n",
              "4330  HERB MARKER THYME _&&_ HERB MARKER PARSLEY _&&...  ...  110.051282\n",
              "4329  HERB MARKER ROSEMARY _&&_ HERB MARKER PARSLEY ...  ...  109.560068\n",
              "4332  HERB MARKER ROSEMARY _&&_ HERB MARKER THYME _&...  ...  108.218954\n",
              "4331  HERB MARKER ROSEMARY _&&_ HERB MARKER THYME _&...  ...  107.138047\n",
              "3170  HERB MARKER PARSLEY _&&_ HERB MARKER CHIVES  _...  ...  106.541471\n",
              "3174  HERB MARKER THYME _&&_ HERB MARKER PARSLEY _&&...  ...  106.043614\n",
              "3172  HERB MARKER THYME _&&_ HERB MARKER CHIVES  _&&...  ...  105.458937\n",
              "3173  HERB MARKER ROSEMARY _&&_ HERB MARKER PARSLEY ...  ...  105.061728\n",
              "2312  SET/6 COLLAGE PAPER CUPS _&&_ SET/6 COLLAGE PA...  ...  104.790210\n",
              "1858  PACK OF 6 SKULL PAPER PLATES _&&_ PACK OF 6 SK...  ...  104.720117\n",
              "539   DOLLY GIRL CHILDRENS CUP _&&_ DOLLY GIRL CHILD...  ...  103.304843\n",
              "3171  HERB MARKER ROSEMARY _&&_ HERB MARKER CHIVES  ...  ...  103.067293\n",
              "3175  HERB MARKER ROSEMARY _&&_ HERB MARKER THYME _&...  ...  101.666667\n",
              "496   CHRISTMAS TREE HEART DECORATION _&&_ CHRISTMAS...  ...  101.177521\n",
              "2469  DOTCOM POSTAGE _&&_ BEADED CRYSTAL HEART PINK ...  ...  101.136758\n",
              "936         HERB MARKER ROSEMARY _&&_ HERB MARKER THYME  ...  100.244081\n",
              "187   BEADED CRYSTAL HEART PINK ON STICK _&&_ BEADED...  ...  100.143938\n",
              "928        HERB MARKER PARSLEY _&&_ HERB MARKER CHIVES   ...  100.111576\n",
              "3179  HERB MARKER ROSEMARY _&&_ HERB MARKER THYME _&...  ...   99.581590\n",
              "\n",
              "[20 rows x 6 columns]"
            ]
          },
          "metadata": {
            "tags": []
          },
          "execution_count": 44
        }
      ]
    },
    {
      "cell_type": "markdown",
      "metadata": {
        "id": "GTu7iQzVC3du"
      },
      "source": [
        "# RULE GENERATION"
      ]
    },
    {
      "cell_type": "code",
      "metadata": {
        "id": "7XzYJGtgk24d",
        "outputId": "27057054-91e8-4d80-d673-657cf20ddc23",
        "colab": {
          "base_uri": "https://localhost:8080/",
          "height": 1000
        }
      },
      "source": [
        "count=1\n",
        "for i, d in final_results.head(20).iterrows():\n",
        "    print('Rule #'+str(count)+':')\n",
        "    print(d['LeftRules'])\n",
        "    print('=> '+d['RightRules'])\n",
        "    print('Support: '+str(d['Support'])+' - Confidence: '+str(d['Confidence'])+' - Lift: '+str(d['Lift']))\n",
        "    print('--------------------')\n",
        "    count=count+1"
      ],
      "execution_count": null,
      "outputs": [
        {
          "output_type": "stream",
          "text": [
            "Rule #1:\n",
            "HERB MARKER CHIVES \n",
            "=> HERB MARKER ROSEMARY _&&_ HERB MARKER THYME _&&_ HERB MARKER PARSLEY _&&_ HERB MARKER MINT\n",
            "Support: 0.006563706563706564 - Confidence: 0.8095238095238095 - Lift: 112.12121212121211\n",
            "--------------------\n",
            "Rule #2:\n",
            "HERB MARKER CHIVES \n",
            "=> HERB MARKER THYME _&&_ HERB MARKER PARSLEY _&&_ HERB MARKER MINT\n",
            "Support: 0.006718146718146718 - Confidence: 0.8285714285714285 - Lift: 110.05128205128204\n",
            "--------------------\n",
            "Rule #3:\n",
            "HERB MARKER CHIVES \n",
            "=> HERB MARKER ROSEMARY _&&_ HERB MARKER PARSLEY _&&_ HERB MARKER MINT\n",
            "Support: 0.006756756756756757 - Confidence: 0.8333333333333334 - Lift: 109.5600676818951\n",
            "--------------------\n",
            "Rule #4:\n",
            "HERB MARKER CHIVES \n",
            "=> HERB MARKER ROSEMARY _&&_ HERB MARKER THYME _&&_ HERB MARKER PARSLEY\n",
            "Support: 0.006911196911196911 - Confidence: 0.8523809523809524 - Lift: 108.21895424836602\n",
            "--------------------\n",
            "Rule #5:\n",
            "HERB MARKER CHIVES \n",
            "=> HERB MARKER ROSEMARY _&&_ HERB MARKER THYME _&&_ HERB MARKER MINT\n",
            "Support: 0.006640926640926641 - Confidence: 0.819047619047619 - Lift: 107.13804713804714\n",
            "--------------------\n",
            "Rule #6:\n",
            "HERB MARKER CHIVES \n",
            "=> HERB MARKER PARSLEY _&&_ HERB MARKER MINT\n",
            "Support: 0.007104247104247104 - Confidence: 0.8761904761904762 - Lift: 106.5414710485133\n",
            "--------------------\n",
            "Rule #7:\n",
            "HERB MARKER CHIVES \n",
            "=> HERB MARKER THYME _&&_ HERB MARKER PARSLEY\n",
            "Support: 0.007104247104247104 - Confidence: 0.8761904761904762 - Lift: 106.04361370716511\n",
            "--------------------\n",
            "Rule #8:\n",
            "HERB MARKER CHIVES \n",
            "=> HERB MARKER THYME _&&_ HERB MARKER MINT\n",
            "Support: 0.006833976833976834 - Confidence: 0.8428571428571429 - Lift: 105.45893719806764\n",
            "--------------------\n",
            "Rule #9:\n",
            "HERB MARKER CHIVES \n",
            "=> HERB MARKER ROSEMARY _&&_ HERB MARKER PARSLEY\n",
            "Support: 0.007104247104247104 - Confidence: 0.8761904761904762 - Lift: 105.06172839506173\n",
            "--------------------\n",
            "Rule #10:\n",
            "SET/6 COLLAGE PAPER CUPS\n",
            "=> SET/6 COLLAGE PAPER PLATES\n",
            "Support: 0.0062548262548262545 - Confidence: 0.8901098901098901 - Lift: 104.79020979020977\n",
            "--------------------\n",
            "Rule #11:\n",
            "PACK OF 6 SKULL PAPER CUPS\n",
            "=> PACK OF 6 SKULL PAPER PLATES\n",
            "Support: 0.0052123552123552125 - Confidence: 0.7803468208092486 - Lift: 104.72011740393542\n",
            "--------------------\n",
            "Rule #12:\n",
            "DOLLY GIRL CHILDRENS BOWL\n",
            "=> DOLLY GIRL CHILDRENS CUP\n",
            "Support: 0.005945945945945946 - Confidence: 0.7897435897435897 - Lift: 103.3048433048433\n",
            "--------------------\n",
            "Rule #13:\n",
            "HERB MARKER CHIVES \n",
            "=> HERB MARKER ROSEMARY _&&_ HERB MARKER MINT\n",
            "Support: 0.0068725868725868725 - Confidence: 0.8476190476190476 - Lift: 103.06729264475743\n",
            "--------------------\n",
            "Rule #14:\n",
            "HERB MARKER CHIVES \n",
            "=> HERB MARKER ROSEMARY _&&_ HERB MARKER THYME\n",
            "Support: 0.007065637065637066 - Confidence: 0.8714285714285714 - Lift: 101.66666666666666\n",
            "--------------------\n",
            "Rule #15:\n",
            "CHRISTMAS TREE HEART DECORATION\n",
            "=> CHRISTMAS TREE STAR DECORATION\n",
            "Support: 0.005405405405405406 - Confidence: 0.7734806629834254 - Lift: 101.17752106702383\n",
            "--------------------\n",
            "Rule #16:\n",
            "BEADED CRYSTAL HEART GREEN ON STICK\n",
            "=> BEADED CRYSTAL HEART PINK ON STICK _&&_ DOTCOM POSTAGE\n",
            "Support: 0.0052123552123552125 - Confidence: 0.7848837209302326 - Lift: 101.13675807011455\n",
            "--------------------\n",
            "Rule #17:\n",
            "HERB MARKER ROSEMARY\n",
            "=> HERB MARKER THYME\n",
            "Support: 0.008571428571428572 - Confidence: 0.9211618257261411 - Lift: 100.2440810349036\n",
            "--------------------\n",
            "Rule #18:\n",
            "BEADED CRYSTAL HEART GREEN ON STICK\n",
            "=> BEADED CRYSTAL HEART PINK ON STICK\n",
            "Support: 0.0052895752895752894 - Confidence: 0.7965116279069767 - Lift: 100.14393768344999\n",
            "--------------------\n",
            "Rule #19:\n",
            "HERB MARKER CHIVES \n",
            "=> HERB MARKER PARSLEY\n",
            "Support: 0.0074903474903474905 - Confidence: 0.9238095238095237 - Lift: 100.1115760111576\n",
            "--------------------\n",
            "Rule #20:\n",
            "HERB MARKER PARSLEY\n",
            "=> HERB MARKER ROSEMARY _&&_ HERB MARKER THYME\n",
            "Support: 0.007876447876447876 - Confidence: 0.8535564853556485 - Lift: 99.58158995815899\n",
            "--------------------\n"
          ],
          "name": "stdout"
        }
      ]
    },
    {
      "cell_type": "markdown",
      "metadata": {
        "id": "Q5hYpHS1uYwM"
      },
      "source": [
        "## ECLAT"
      ]
    },
    {
      "cell_type": "code",
      "metadata": {
        "id": "EBW15PLZVFwN"
      },
      "source": [
        "df = pd.read_excel('Online Retail.xlsx').loc[2000:3000]\n"
      ],
      "execution_count": 13,
      "outputs": []
    },
    {
      "cell_type": "code",
      "metadata": {
        "id": "C64_c7Jfk224"
      },
      "source": [
        "\n",
        "# Adding all customers into a list of lists\n",
        "transactions = []\n",
        "for i in range(0, len(df)):\n",
        "    transactions.append([str(df.values[i,j]) for j in range(0, 7)])"
      ],
      "execution_count": 14,
      "outputs": []
    },
    {
      "cell_type": "code",
      "metadata": {
        "id": "R3kD3kbMk2z9"
      },
      "source": [
        "# Putting all transactions in a single list\n",
        "itens = []\n",
        "for i in range(0, len(transactions)):\n",
        "    itens.extend(transactions[i])\n",
        "\n",
        "# Finding unique items from transactions and removing nan\n",
        "uniqueItems = list(set(itens))\n",
        "uniqueItems.remove('nan')"
      ],
      "execution_count": 15,
      "outputs": []
    },
    {
      "cell_type": "code",
      "metadata": {
        "id": "9sBbcAaXj3LY",
        "outputId": "db9af329-6afe-46de-a99b-1d4e7f854f91",
        "colab": {
          "base_uri": "https://localhost:8080/"
        }
      },
      "source": [
        "uniqueItems"
      ],
      "execution_count": 16,
      "outputs": [
        {
          "output_type": "execute_result",
          "data": {
            "text/plain": [
              "['CREAM SWEETHEART LETTER RACK',\n",
              " 'PACK 3 BOXES CHRISTMAS PANNETONE',\n",
              " '22324',\n",
              " '21671',\n",
              " '85008',\n",
              " '22847',\n",
              " '536566',\n",
              " '22114',\n",
              " '2010-12-01 15:06:00',\n",
              " '22745',\n",
              " 'BREAD BIN DINER STYLE PINK',\n",
              " 'SUNSET COLOUR CHUNKY KNITTED THROW',\n",
              " '22969',\n",
              " 'FELTCRAFT HAIRBAND PINK AND BLUE',\n",
              " '82580',\n",
              " '536570',\n",
              " '21523',\n",
              " 'GLITTER HEART GARLAND WITH BELLS ',\n",
              " 'RED TEA TOWEL CLASSIC DESIGN',\n",
              " 'COSMETIC BAG VINTAGE ROSE PAISLEY',\n",
              " 'SET OF 3 NOTEBOOKS IN PARCEL',\n",
              " 'SET OF 12  VINTAGE POSTCARD SET',\n",
              " '22818',\n",
              " '15056P',\n",
              " 'ASSORTED TUTTI FRUTTI MIRROR',\n",
              " 'EMPIRE TISSUE BOX',\n",
              " '22972',\n",
              " 'CERAMIC PIRATE CHEST MONEY BANK',\n",
              " 'WOODEN UNION JACK BUNTING',\n",
              " 'FELTCRAFT DOLL EMILY',\n",
              " '21314',\n",
              " '84509A',\n",
              " '22278',\n",
              " 'ENVELOPE 50 BLOSSOM IMAGES',\n",
              " '90214M',\n",
              " '79302M',\n",
              " '6.77',\n",
              " 'SWISS ROLL TOWEL, CHOCOLATE  SPOTS',\n",
              " 'GROW YOUR OWN PLANT IN A CAN ',\n",
              " 'MAGNETS PACK OF 4 RETRO PHOTO',\n",
              " 'WOODEN OWLS LIGHT GARLAND ',\n",
              " '20749',\n",
              " '21547',\n",
              " 'TRIPLE PHOTO FRAME CORNICE ',\n",
              " 'WASHROOM METAL SIGN',\n",
              " 'BATH BUILDING BLOCK WORD',\n",
              " 'M',\n",
              " 'IVORY STRING CURTAIN WITH POLE ',\n",
              " 'ASSORTED COLOUR T-LIGHT HOLDER',\n",
              " 'WOODEN SCHOOL COLOURING SET',\n",
              " '22645',\n",
              " 'WICKER STAR ',\n",
              " '82552',\n",
              " '17012B',\n",
              " '22393',\n",
              " '21811',\n",
              " 'FULL ENGLISH BREAKFAST PLATE',\n",
              " 'T-LIGHT GLASS FLUTED ANTIQUE',\n",
              " 'ASSORTED TUTTI FRUTTI NOTEBOOK',\n",
              " 'HAND WARMER BABUSHKA DESIGN',\n",
              " '0.43',\n",
              " '85099B',\n",
              " 'METAL SIGN CUPCAKE SINGLE HOOK',\n",
              " '20752',\n",
              " '84509B',\n",
              " 'RED STRIPE CERAMIC DRAWER KNOB',\n",
              " 'MAKE YOUR OWN MONSOON CARD KIT',\n",
              " 'SKULLS AND CROSSBONES WRAP',\n",
              " '84997D',\n",
              " '22750',\n",
              " '4.95',\n",
              " '536558',\n",
              " 'BEACH HUT KEY CABINET',\n",
              " '10135',\n",
              " '22081',\n",
              " 'MAGNETS PACK OF 4 HOME SWEET HOME',\n",
              " '47563A',\n",
              " 'PINK FAIRY CAKE CHILDRENS APRON',\n",
              " '22735',\n",
              " 'KITCHEN METAL SIGN',\n",
              " '22953',\n",
              " 'MAGNETS PACK OF 4 CHILDHOOD MEMORY',\n",
              " '22810',\n",
              " '22458',\n",
              " '72134',\n",
              " '84086C',\n",
              " \"Dr. Jam's Arouzer Stress Ball\",\n",
              " '85064',\n",
              " 'RECIPE BOX RETROSPOT ',\n",
              " 'SANDWICH BATH SPONGE',\n",
              " 'MINI JIGSAW SPACEBOY',\n",
              " 'PINK DIAMANTE PEN IN GIFT BOX',\n",
              " 'HI TEC ALPINE HAND WARMER',\n",
              " '21975',\n",
              " '22207',\n",
              " 'CALENDAR PAPER CUT DESIGN',\n",
              " 'CHILDRENS APRON APPLES DESIGN',\n",
              " 'RIBBON REEL STRIPES DESIGN ',\n",
              " '84520B',\n",
              " '22381',\n",
              " '21986',\n",
              " '18229.0',\n",
              " '0.84',\n",
              " '22651',\n",
              " '128',\n",
              " '37491A',\n",
              " '20',\n",
              " 'SWEETHEART CERAMIC TRINKET BOX',\n",
              " 'BLACK TEA TOWEL CLASSIC DESIGN',\n",
              " 'WHITE SPOT RED CERAMIC DRAWER KNOB',\n",
              " '22754',\n",
              " 'WHITE CHRISTMAS GARLAND STARS TREES',\n",
              " 'SET OF 3 BABUSHKA STACKING TINS',\n",
              " 'PAINTED LIGHTBULB STAR+ MOON',\n",
              " 'RETRO COFFEE MUGS ASSORTED',\n",
              " '84596J',\n",
              " 'CHRISTMAS GARLAND STARS,TREES',\n",
              " '22586',\n",
              " '72807C',\n",
              " 'TRADITIONAL WOODEN CATCH CUP GAME ',\n",
              " '6.75',\n",
              " '21813',\n",
              " '85174',\n",
              " 'RED WOOLLY HOTTIE WHITE HEART.',\n",
              " '22945',\n",
              " '82613D',\n",
              " '8.47',\n",
              " 'BOOZE & WOMEN GREETING CARD ',\n",
              " '12.75',\n",
              " '21843',\n",
              " 'FAIRY DREAMS INCENSE ',\n",
              " 'HOOK, 1 HANGER ,MAGIC GARDEN',\n",
              " 'JAM JAR WITH GREEN LID',\n",
              " 'FAUX FUR CHOCOLATE THROW',\n",
              " '20717',\n",
              " '22865',\n",
              " '22616',\n",
              " '21587',\n",
              " 'WOODEN TREE CHRISTMAS SCANDINAVIAN',\n",
              " '20724',\n",
              " '35598B',\n",
              " '22973',\n",
              " '22212',\n",
              " '21700',\n",
              " 'PLASTERS IN TIN SKULLS',\n",
              " '35095A',\n",
              " 'TV DINNER TRAY DOLLY GIRL',\n",
              " '21164',\n",
              " '536582',\n",
              " '22497',\n",
              " '14.95',\n",
              " 'MOBILE VINTAGE HEARTS ',\n",
              " 'WOODLAND PARTY BAG + STICKER SET',\n",
              " '22350',\n",
              " 'CABIN BAG VINTAGE PAISLEY',\n",
              " 'LIGHT GARLAND BUTTERFILES PINK',\n",
              " 'MINT GREEN ROSE TOWEL',\n",
              " 'GREEN CHRISTMAS TREE CARD HOLDER',\n",
              " '22589',\n",
              " '20725',\n",
              " '21488',\n",
              " '536551',\n",
              " '96',\n",
              " 'SMALL YELLOW BABUSHKA NOTEBOOK ',\n",
              " '79321',\n",
              " '22625',\n",
              " 'GREEN REGENCY TEACUP AND SAUCER',\n",
              " '14696.0',\n",
              " 'DECORATIVE PLANT POT WITH FRIEZE',\n",
              " 'WOODLAND  HEIGHT CHART STICKERS ',\n",
              " '21439',\n",
              " '84997C',\n",
              " '21509',\n",
              " 'HERB MARKER MINT',\n",
              " 'MOCK LOBSTER FRIDGE MAGNET',\n",
              " \"FANNY'S REST STOPMETAL SIGN\",\n",
              " '22753',\n",
              " '22565',\n",
              " '70006',\n",
              " '21643',\n",
              " '84879',\n",
              " '22802',\n",
              " 'RECYCLING BAG RETROSPOT ',\n",
              " '21363',\n",
              " '22470',\n",
              " '22966',\n",
              " 'BLUE VICTORIAN FABRIC OVAL BOX',\n",
              " '21356',\n",
              " '0.81',\n",
              " 'FELTCRAFT PRINCESS LOLA DOLL',\n",
              " 'COLOUR GLASS. STAR T-LIGHT HOLDER',\n",
              " 'ROSE COTTAGE KEEPSAKE BOX ',\n",
              " '17012F',\n",
              " '2010-12-01 15:15:00',\n",
              " '22540',\n",
              " '35637A',\n",
              " 'SET OF 3 BUTTERFLY COOKIE CUTTERS',\n",
              " 'MIRRORED WALL ART SPLODGES',\n",
              " 'LUNCH BAG  BLACK SKULL.',\n",
              " 'TEA TIME KITCHEN APRON',\n",
              " '536557',\n",
              " '144',\n",
              " ' SET 2 TEA TOWELS I LOVE LONDON ',\n",
              " '22572',\n",
              " '60 CAKE CASES DOLLY GIRL DESIGN',\n",
              " 'SMALL POPCORN HOLDER',\n",
              " '22174',\n",
              " 'BLUE POLKADOT WASHING UP GLOVES',\n",
              " '51014C',\n",
              " '35599D',\n",
              " '22182',\n",
              " 'MAGIC DRAWING SLATE DINOSAUR',\n",
              " '21914',\n",
              " 'TEA TIME PARTY BUNTING',\n",
              " '20972',\n",
              " '72 SWEETHEART FAIRY CAKE CASES',\n",
              " '35004C',\n",
              " '20735',\n",
              " '71477',\n",
              " '22867',\n",
              " 'LOVE HEART NAPKIN BOX ',\n",
              " '21281',\n",
              " 'KEY FOB , GARAGE DESIGN',\n",
              " '21761',\n",
              " '22775',\n",
              " '84347',\n",
              " '22560',\n",
              " 'FAIRY CAKES NOTEBOOK A7 SIZE',\n",
              " '3.95',\n",
              " '21188',\n",
              " 'RED RETROSPOT OVEN GLOVE DOUBLE',\n",
              " 'SET OF 6 RIBBONS VINTAGE CHRISTMAS',\n",
              " 'HOME BUILDING BLOCK WORD',\n",
              " '22737',\n",
              " 'BIRD DECORATION RED RETROSPOT',\n",
              " 'CHRISTMAS CRAFT LITTLE FRIENDS',\n",
              " '22579',\n",
              " '22960',\n",
              " 'FRENCH BLUE METAL DOOR SIGN 3',\n",
              " 'CHOCOLATE HOT WATER BOTTLE',\n",
              " '21981',\n",
              " 'CHERRY BLOSSOM PASSPORT COVER',\n",
              " 'HEARTS GIFT TAPE',\n",
              " '22149',\n",
              " '82616C',\n",
              " '85114B',\n",
              " '21166',\n",
              " '20697',\n",
              " 'GLITTER STAR GARLAND WITH BELLS ',\n",
              " '48',\n",
              " '84913B',\n",
              " 'BOHEMIAN COLLAGE STATIONERY SET',\n",
              " '15056N',\n",
              " '16236',\n",
              " '22083',\n",
              " '21592',\n",
              " 'STRAWBERRY CERAMIC TRINKET BOX',\n",
              " '536581',\n",
              " '21259',\n",
              " '22082',\n",
              " 'SET OF 4 FAIRY CAKE PLACEMATS',\n",
              " '84970L',\n",
              " 'WASH BAG VINTAGE ROSE PAISLEY',\n",
              " '21557',\n",
              " '22962',\n",
              " '22841',\n",
              " '22743',\n",
              " 'CHOCOLATE CALCULATOR',\n",
              " '37448',\n",
              " 'PACK OF 12 PINK POLKADOT TISSUES',\n",
              " '6.95',\n",
              " 'PLASTERS IN TIN STRONGMAN',\n",
              " 'GLASS JAR DIGESTIVE BISCUITS',\n",
              " '22573',\n",
              " 'DOORSTOP RETROSPOT HEART',\n",
              " 'BOX OF 24 COCKTAIL PARASOLS',\n",
              " '22161',\n",
              " '22173',\n",
              " '20914',\n",
              " '22405',\n",
              " '84659A',\n",
              " 'BLACK CHRISTMAS TREE 60CM',\n",
              " '17084P',\n",
              " 'MIRRORED WALL ART SKULLS',\n",
              " '24',\n",
              " 'BEADED CRYSTAL HEART PINK ON STICK',\n",
              " '22755',\n",
              " '3 HOOK PHOTO SHELF ANTIQUE WHITE',\n",
              " 'KIDS RAIN MAC PINK',\n",
              " '21718',\n",
              " '84609',\n",
              " '7.62',\n",
              " '22566',\n",
              " '20956',\n",
              " 'CERAMIC CAKE STAND + HANGING CAKES',\n",
              " 'RED TOADSTOOL LED NIGHT LIGHT',\n",
              " 'SET OF 6 FUNKY BEAKERS',\n",
              " '22197',\n",
              " '20761',\n",
              " 'JAM JAR WITH PINK LID',\n",
              " 'TOAST ITS - BEST MUM',\n",
              " 'RECIPE BOX PANTRY YELLOW DESIGN',\n",
              " '5.49',\n",
              " 'MAGNETS PACK OF 4 VINTAGE COLLAGE',\n",
              " '82578',\n",
              " '21485',\n",
              " '21850',\n",
              " 'SET OF 20 KIDS COOKIE CUTTERS',\n",
              " '1.49',\n",
              " '5.06',\n",
              " '2010-12-01 16:24:00',\n",
              " 'CERAMIC BIRDHOUSE CRESTED TIT SMALL',\n",
              " '20931',\n",
              " 'SLEEPING CAT ERASERS',\n",
              " '1.06',\n",
              " '22112',\n",
              " '22866',\n",
              " 'ANTIQUE GLASS DRESSING TABLE POT',\n",
              " 'CHERRY BLOSSOM LUGGAGE TAG',\n",
              " 'HEART DECORATION RUSTIC HANGING ',\n",
              " '20685',\n",
              " '11',\n",
              " '22663',\n",
              " '84950',\n",
              " 'FINE WICKER HEART ',\n",
              " 'CHRISTMAS GINGHAM HEART',\n",
              " 'ASSORTED TUTTI FRUTTI SMALL PURSE',\n",
              " 'FOLKART HEART NAPKIN RINGS',\n",
              " '21896',\n",
              " 'CHRISTMAS CRAFT WHITE FAIRY ',\n",
              " '84510A',\n",
              " 'CHRISTMAS MUSICAL ZINC STAR',\n",
              " '20682',\n",
              " '22376',\n",
              " '6 RIBBONS RUSTIC CHARM',\n",
              " '22571',\n",
              " '2010-12-01 15:35:00',\n",
              " '17690.0',\n",
              " 'PAINTED METAL PEARS ASSORTED',\n",
              " '10',\n",
              " '29.95',\n",
              " '20750',\n",
              " 'BLUE POT PLANT CANDLE ',\n",
              " '22781',\n",
              " 'FOLKART ZINC HEART CHRISTMAS DEC',\n",
              " '22568',\n",
              " '22187',\n",
              " '0.55',\n",
              " 'BEADED CRYSTAL HEART GREEN ON STICK',\n",
              " 'FELT EGG COSY WHITE RABBIT ',\n",
              " 'LETTER \"V\" BLING KEY RING',\n",
              " 'BATHROOM METAL SIGN',\n",
              " '22467',\n",
              " '84976',\n",
              " '85040B',\n",
              " '84536B',\n",
              " '22480',\n",
              " '22569',\n",
              " '84832',\n",
              " 'SET OF 4 NAPKIN CHARMS HEARTS',\n",
              " 'RED METAL BEACH SPADE ',\n",
              " '22692',\n",
              " 'RECORD FRAME 7\" SINGLE SIZE ',\n",
              " 'FELT EGG COSY BLUE RABBIT ',\n",
              " 'SMALL RED BABUSHKA NOTEBOOK ',\n",
              " 'ORIGAMI JASMINE INCENSE/CANDLE SET',\n",
              " 'SET OF 3 HEART COOKIE CUTTERS',\n",
              " '1.95',\n",
              " 'PACK OF 12 WOODLAND TISSUES ',\n",
              " '17012C',\n",
              " 'CHRISTMAS GINGHAM STAR',\n",
              " 'VINTAGE SNAP CARDS',\n",
              " '84459B',\n",
              " 'PAPER CHAIN KIT VINTAGE CHRISTMAS',\n",
              " '22422',\n",
              " '22650',\n",
              " '22260',\n",
              " '22640',\n",
              " 'GUMBALL MAGAZINE RACK',\n",
              " '22246',\n",
              " '22597',\n",
              " 'LARGE WHITE HONEYCOMB PAPER BELL  ',\n",
              " 'FELTCRAFT 6 FLOWER FRIENDS',\n",
              " '20978',\n",
              " '21272',\n",
              " '72817',\n",
              " '17346.0',\n",
              " 'POTTERING IN THE SHED METAL SIGN',\n",
              " 'LETTER \"M\" BLING KEY RING',\n",
              " '3 TRADITIONAL COOKIE CUTTERS  SET',\n",
              " '20733',\n",
              " '21670',\n",
              " '21349',\n",
              " '22111',\n",
              " 'PACK OF 12 LONDON TISSUES ',\n",
              " '2010-12-01 16:52:00',\n",
              " '84378',\n",
              " 'CERAMIC CAKE DESIGN SPOTTED MUG',\n",
              " '1.27',\n",
              " '90214V',\n",
              " 'CHILDRENS SPACEBOY MUG',\n",
              " '21942',\n",
              " 'SCOTTIE DOGS BABY BIB',\n",
              " '21974',\n",
              " 'CHARLIE+LOLA RED HOT WATER BOTTLE ',\n",
              " 'SMALL HEART FLOWERS HOOK ',\n",
              " 'FELTCRAFT BUTTERFLY HEARTS',\n",
              " '22699',\n",
              " '37449',\n",
              " 'RING OF ROSES BIRTHDAY CARD',\n",
              " '22570',\n",
              " '84969',\n",
              " 'CAKE STAND VICTORIAN FILIGREE SMALL',\n",
              " 'RED RETROSPOT MINI CASES',\n",
              " '21035',\n",
              " 'BLACK CANDELABRA T-LIGHT HOLDER',\n",
              " 'IVORY KNITTED MUG COSY ',\n",
              " 'TABLE LAMP WHITE SHADE WOOD BASE',\n",
              " '51014L',\n",
              " '21985',\n",
              " '21899',\n",
              " '22639',\n",
              " 'DECORATIVE FLORE BATHROOM BOTTLE',\n",
              " 'HERB MARKER ROSEMARY',\n",
              " '21684',\n",
              " '21069',\n",
              " '22941',\n",
              " 'WHITE GOOSE FEATHER CHRISTMAS TREE ',\n",
              " '22846',\n",
              " '20963',\n",
              " 'NUMBER TILE COTTAGE GARDEN 8',\n",
              " '22413',\n",
              " '22977',\n",
              " '47599A',\n",
              " 'FELTCRAFT CHRISTMAS FAIRY',\n",
              " 'BASKET OF TOADSTOOLS',\n",
              " '536568',\n",
              " 'SET OF 6 STRAWBERRY CHOPSTICKS',\n",
              " 'GREEN 3 PIECE POLKADOT CUTLERY SET',\n",
              " '22652',\n",
              " '21484',\n",
              " '22400',\n",
              " 'KINGS CHOICE MUG',\n",
              " '2010-12-01 15:08:00',\n",
              " '21520',\n",
              " 'DOORMAT UNION FLAG',\n",
              " '22976',\n",
              " 'CHOCOLATE BOX RIBBONS ',\n",
              " '22100',\n",
              " 'NOEL WOODEN BLOCK LETTERS ',\n",
              " 'CIRCUS PARADE LUNCH BOX ',\n",
              " '22738',\n",
              " '536580',\n",
              " 'SILK PURSE BABUSHKA RED',\n",
              " 'PACK OF 12 HEARTS DESIGN TISSUES ',\n",
              " '22418',\n",
              " 'GINGERBREAD MAN COOKIE CUTTER',\n",
              " '22774',\n",
              " '22667',\n",
              " '84380',\n",
              " '21191',\n",
              " '536584',\n",
              " '22741',\n",
              " '84870B',\n",
              " '22318',\n",
              " '6',\n",
              " '34',\n",
              " '5.91',\n",
              " 'SET OF 4 ENGLISH ROSE COASTERS',\n",
              " 'FLORAL FOLK STATIONERY SET',\n",
              " '22077',\n",
              " '22544',\n",
              " '22964',\n",
              " '22583',\n",
              " '12921.0',\n",
              " 'SET OF 2 CHRISTMAS DECOUPAGE CANDLE',\n",
              " '22599',\n",
              " '21108',\n",
              " 'DOORMAT TOPIARY',\n",
              " '22144',\n",
              " 'PINK BUTTERFLY HANDBAG W BOBBLES',\n",
              " 'DRAGONS BLOOD INCENSE',\n",
              " '22726',\n",
              " '85048',\n",
              " 'TOY TIDY DOLLY GIRL DESIGN',\n",
              " '22678',\n",
              " 'MAKE YOUR OWN FLOWERPOWER CARD KIT',\n",
              " 'RIBBON REEL SOCKS AND MITTENS',\n",
              " '252',\n",
              " 'HEART OF WICKER SMALL',\n",
              " 'SWALLOW WOODEN CHRISTMAS DECORATION',\n",
              " 'RED DRAWER KNOB ACRYLIC EDWARDIAN',\n",
              " 'DARK BIRD HOUSE TREE DECORATION',\n",
              " 'PIGGY BANK RETROSPOT ',\n",
              " '22084',\n",
              " 'COFFEE MUG BLUE PAISLEY DESIGN',\n",
              " 'SET/5 RED RETROSPOT LID GLASS BOWLS',\n",
              " 'CHILLI LIGHTS',\n",
              " 'CHRISTMAS METAL TAGS ASSORTED ',\n",
              " '12 PENCIL SMALL TUBE WOODLAND',\n",
              " 'BLUE SPOT CERAMIC DRAWER KNOB',\n",
              " 'PLEASE ONE PERSON METAL SIGN',\n",
              " 'MIRRORED WALL ART STARS',\n",
              " 'LETTER \"S\" BLING KEY RING',\n",
              " '22499',\n",
              " 'SMALL HANGING GLASS+ZINC LANTERN',\n",
              " 'DOORMAT 3 SMILEY CATS',\n",
              " '22090',\n",
              " '2010-12-01 15:27:00',\n",
              " 'BROCANTE COAT RACK',\n",
              " '13777.0',\n",
              " '2',\n",
              " 'TEA COSY BLUE STRIPE',\n",
              " '35954',\n",
              " 'MAGIC DRAWING SLATE DOLLY GIRL ',\n",
              " '22963',\n",
              " '21128',\n",
              " '536552',\n",
              " 'VINTAGE HEADS AND TAILS CARD GAME ',\n",
              " '1.45',\n",
              " '21313',\n",
              " '79144B',\n",
              " '22091',\n",
              " '21833',\n",
              " '2010-12-01 17:06:00',\n",
              " '21851',\n",
              " '22130',\n",
              " 'PAPERWEIGHT VINTAGE COLLAGE',\n",
              " 'RED RETROSPOT OVEN GLOVE ',\n",
              " 'LETS GO SHOPPING COTTON TOTE BAG',\n",
              " '21915',\n",
              " '2.51',\n",
              " '22274',\n",
              " '84580',\n",
              " '7',\n",
              " '21934',\n",
              " 'WHITE WOOD GARDEN PLANT LADDER',\n",
              " 'SET OF 4 NAPKIN CHARMS 3 KEYS ',\n",
              " '15CM CHRISTMAS GLASS BALL 20 LIGHTS',\n",
              " 'CLASSIC METAL BIRDCAGE PLANT HOLDER',\n",
              " '20966',\n",
              " 'ALARM CLOCK BAKELIKE PINK',\n",
              " '1.66',\n",
              " 'ROUND CAKE TIN VINTAGE GREEN',\n",
              " 'CARD PARTY GAMES ',\n",
              " '14.43',\n",
              " '22508',\n",
              " 'BLUE 3 PIECE POLKADOT CUTLERY SET',\n",
              " '84997B',\n",
              " 'VINTAGE CREAM DOG FOOD CONTAINER',\n",
              " 'ORIGAMI VANILLA INCENSE/CANDLE SET ',\n",
              " 'VICTORIAN GLASS HANGING T-LIGHT',\n",
              " '12947.0',\n",
              " '4.21',\n",
              " 'SWEETHEART WIRE MAGAZINE RACK',\n",
              " 'ASSORTED COLOUR MINI CASES',\n",
              " '22728',\n",
              " 'PAPER CHAIN KIT EMPIRE',\n",
              " '21.23',\n",
              " '2010-12-01 16:15:00',\n",
              " 'CAMOUFLAGE DESIGN TEDDY',\n",
              " '22916',\n",
              " 'PINK DRAWER KNOB ACRYLIC EDWARDIAN',\n",
              " '22603',\n",
              " 'CHILDRENS DOLLY GIRL MUG',\n",
              " 'LUNCH BAG RED RETROSPOT',\n",
              " '22208',\n",
              " '536578',\n",
              " '22801',\n",
              " 'DECORATIVE ROSE BATHROOM BOTTLE',\n",
              " 'ILLUSTRATED CAT BOWL ',\n",
              " 'PINK HEART DOTS HOT WATER BOTTLE',\n",
              " 'RIBBON REEL FLORA + FAUNA ',\n",
              " '21832',\n",
              " '1.28',\n",
              " '51014A',\n",
              " '21846',\n",
              " 'FELT EGG COSY CHICKEN',\n",
              " 'DOORMAT RED RETROSPOT',\n",
              " '47590A',\n",
              " 'LETTER \"J\" BLING KEY RING',\n",
              " 'CHRISTMAS MUSICAL ZINC HEART ',\n",
              " 'SMALL FOLKART STAR CHRISTMAS DEC',\n",
              " 'CAROUSEL DESIGN WASHBAG',\n",
              " '536573',\n",
              " '22494',\n",
              " 'CHRISTMAS HANGING HEART WITH BELL',\n",
              " 'WHITE TRAVEL ALARM CLOCK',\n",
              " 'BROCADE RING PURSE ',\n",
              " '22876',\n",
              " '22641',\n",
              " '84912B',\n",
              " '22371',\n",
              " '21821',\n",
              " '2010-12-01 16:25:00',\n",
              " '20780',\n",
              " '21519',\n",
              " '22262',\n",
              " '22188',\n",
              " 'WALL TIDY RETROSPOT ',\n",
              " '22776',\n",
              " '22669',\n",
              " 'DOORMAT HEARTS',\n",
              " '40',\n",
              " 'CIRCUS PARADE CHILDRENS EGG CUP ',\n",
              " 'SET/2 RED RETROSPOT TEA TOWELS ',\n",
              " 'WOODEN HEART CHRISTMAS SCANDINAVIAN',\n",
              " '22786',\n",
              " '21984',\n",
              " 'CAKE STAND VICTORIAN FILIGREE LARGE',\n",
              " 'PACK OF 12 TRADITIONAL CRAYONS',\n",
              " '22582',\n",
              " '22988',\n",
              " '22749',\n",
              " '22425',\n",
              " 'DOORMAT NEW ENGLAND',\n",
              " '21868',\n",
              " '46776B',\n",
              " 'FEATHER PEN,LIGHT PINK',\n",
              " '22357',\n",
              " '22759',\n",
              " '22631',\n",
              " '22800',\n",
              " \"POPPY'S PLAYHOUSE LIVINGROOM \",\n",
              " 'HANGING HEART ZINC T-LIGHT HOLDER',\n",
              " '72741',\n",
              " 'SET OF 3 CONEY ISLAND OVAL BOXES',\n",
              " '22813',\n",
              " '2010-12-01 16:21:00',\n",
              " 'PINK DOUGHNUT TRINKET POT ',\n",
              " '9.32',\n",
              " '22747',\n",
              " '22411',\n",
              " 'COLUMBIAN  CUBE CANDLE ',\n",
              " '22686',\n",
              " 'OFFICE MUG WARMER PINK',\n",
              " '22584',\n",
              " 'SILVER HANGING T-LIGHT HOLDER',\n",
              " '22748',\n",
              " '22961',\n",
              " '84032B',\n",
              " '22169',\n",
              " 'ASSORTED COLOUR BIRD ORNAMENT',\n",
              " 'PINK FLOWER FABRIC PONY',\n",
              " 'SUKI  SHOULDER BAG',\n",
              " 'YELLOW METAL CHICKEN HEART ',\n",
              " 'NATURAL SLATE HEART CHALKBOARD ',\n",
              " 'CREAM SLICE FLANNEL PINK SPOT ',\n",
              " '21111',\n",
              " 'SWALLOWS GREETING CARD',\n",
              " 'FRENCH ENAMEL CANDLEHOLDER',\n",
              " '0.42',\n",
              " '20668',\n",
              " '22184',\n",
              " '21844',\n",
              " '2010-12-01 16:16:00',\n",
              " 'ZINC METAL HEART DECORATION',\n",
              " '10 COLOUR SPACEBOY PEN',\n",
              " '22561',\n",
              " 'LARGE PURPLE BABUSHKA NOTEBOOK  ',\n",
              " '22940',\n",
              " '82582',\n",
              " 'JUNGLE POPSICLES ICE LOLLY HOLDERS',\n",
              " '22918',\n",
              " 'ORIGAMI ROSE INCENSE/CANDLE SET ',\n",
              " '84029G',\n",
              " '22779',\n",
              " '2.82',\n",
              " '85114C',\n",
              " '21755',\n",
              " 'REGENCY CAKESTAND 3 TIER',\n",
              " 'SILVER CHRISTMAS TREE BAUBLE STAND ',\n",
              " '22637',\n",
              " '21917',\n",
              " 'MAGIC DRAWING SLATE SPACEBOY ',\n",
              " 'JAM MAKING SET WITH JARS',\n",
              " 'RED KITCHEN SCALES',\n",
              " 'ENAMEL COLANDER CREAM',\n",
              " '22767',\n",
              " '22898',\n",
              " '72816',\n",
              " '120',\n",
              " '84920',\n",
              " '72807A',\n",
              " '84949',\n",
              " 'CERAMIC STRAWBERRY CAKE MONEY BANK',\n",
              " 'MIRRORED WALL ART TABLE LAMP',\n",
              " '22171',\n",
              " '21889',\n",
              " '21804',\n",
              " '21781',\n",
              " '22469',\n",
              " '2010-12-01 15:45:00',\n",
              " 'CHRISTMAS METAL POSTCARD WITH BELLS',\n",
              " 'WICKER WREATH LARGE',\n",
              " 'LOVE HEART SOCK HANGER',\n",
              " 'SET 12 KIDS  WHITE CHALK STICKS',\n",
              " 'RED BABY BUNTING ',\n",
              " 'PACK OF 12 SUKI TISSUES ',\n",
              " '22944',\n",
              " 'COLOUR GLASS T-LIGHT HOLDER HANGING',\n",
              " 'KITTY PENCIL ERASERS',\n",
              " '84997A',\n",
              " '22752',\n",
              " '536586',\n",
              " 'TROPICAL PASSPORT COVER ',\n",
              " '20950',\n",
              " '22581',\n",
              " '536579',\n",
              " 'PACK OF 60 DINOSAUR CAKE CASES',\n",
              " '46000S',\n",
              " '20699',\n",
              " 'PLASTERS IN TIN SPACEBOY',\n",
              " '47594A',\n",
              " '20723',\n",
              " 'GARLAND WITH STARS AND BELLS',\n",
              " '84508A',\n",
              " '22890',\n",
              " 'FIVE HEART HANGING DECORATION',\n",
              " 'CAKE STAND VICTORIAN FILIGREE MED',\n",
              " 'LARGE YELLOW BABUSHKA NOTEBOOK ',\n",
              " '85131B',\n",
              " 'SKULLS  WATER TRANSFER TATTOOS ',\n",
              " '35961',\n",
              " 'CHRISTMAS TREE DECORATION WITH BELL',\n",
              " '21537',\n",
              " '536575',\n",
              " 'LARGE CAKE TOWEL, CHOCOLATE SPOTS',\n",
              " 'HERB MARKER PARSLEY',\n",
              " '21109',\n",
              " 'S/4 CACTI CANDLES',\n",
              " '22646',\n",
              " '84050',\n",
              " '21931',\n",
              " 'LOVE HEART POCKET WARMER',\n",
              " 'FELTCRAFT PRINCESS OLIVIA DOLL',\n",
              " 'ANTIQUE TALL SWIRLGLASS TRINKET POT',\n",
              " \"PAPER CHAIN KIT 50'S CHRISTMAS \",\n",
              " 'CHRISTMAS GINGHAM TREE',\n",
              " 'AREA PATROLLED METAL SIGN',\n",
              " '22917',\n",
              " '21372',\n",
              " '21992',\n",
              " '79066K',\n",
              " 'AGED GLASS SILVER T-LIGHT HOLDER',\n",
              " 'TOOL BOX SOFT TOY ',\n",
              " '22713',\n",
              " 'RED RETROSPOT CAKE STAND',\n",
              " '8',\n",
              " 'PINK HAPPY BIRTHDAY BUNTING',\n",
              " '14496.0',\n",
              " '21993',\n",
              " 'OVEN MITT APPLES DESIGN',\n",
              " 'DOORMAT I LOVE LONDON',\n",
              " 'HAND WARMER SCOTTY DOG DESIGN',\n",
              " '14606.0',\n",
              " 'ALARM CLOCK BAKELIKE ORANGE',\n",
              " 'POLYESTER FILLER PAD 40x40cm',\n",
              " '22825',\n",
              " '84760S',\n",
              " '22476',\n",
              " '21136',\n",
              " 'LIPSTICK PEN RED',\n",
              " '22910',\n",
              " '79067',\n",
              " '22198',\n",
              " 'RED RETROSPOT CHARLOTTE BAG',\n",
              " 'LIPSTICK PEN BABY PINK',\n",
              " '536569',\n",
              " '22276',\n",
              " '22731',\n",
              " '22402',\n",
              " '22831',\n",
              " '59.53',\n",
              " '22576',\n",
              " '21802',\n",
              " '2010-12-01 14:54:00',\n",
              " '47',\n",
              " '84923',\n",
              " '21249',\n",
              " '35916B',\n",
              " 'HOME SWEET HOME METAL SIGN ',\n",
              " 'SET OF 72 PINK HEART PAPER DOILIES',\n",
              " '90214J',\n",
              " 'RETRO LONGBOARD IRONING BOARD COVER',\n",
              " 'FELTCRAFT CUSHION RABBIT',\n",
              " '84352',\n",
              " '536567',\n",
              " '84755',\n",
              " '21916',\n",
              " '21576',\n",
              " '22739',\n",
              " '536577',\n",
              " 'CARDHOLDER GINGHAM STAR',\n",
              " 'ANTIQUE GLASS PEDESTAL BOWL',\n",
              " 'CAMOUFLAGE LED TORCH',\n",
              " 'COFFEE MUG DOG + BALL DESIGN',\n",
              " 'RED  HARMONICA IN BOX ',\n",
              " '22620',\n",
              " '3.36',\n",
              " '22531',\n",
              " '5.95',\n",
              " '21949',\n",
              " '22472',\n",
              " 'DOORMAT AIRMAIL ',\n",
              " 'WHITE BROCANTE SOAP DISH',\n",
              " '36',\n",
              " 'CHICK GREY HOT WATER BOTTLE',\n",
              " 'ROSE DU SUD DRAWSTRING BAG',\n",
              " '21803',\n",
              " '46000R',\n",
              " 'COFFEE MUG CAT + BIRD DESIGN',\n",
              " '84559A',\n",
              " '21107',\n",
              " '22356',\n",
              " '22386',\n",
              " 'SOAP DISH BROCANTE',\n",
              " 'GOLD FISHING GNOME',\n",
              " '22355',\n",
              " '22594',\n",
              " 'FRYING PAN UNION FLAG',\n",
              " 'DIAMANTE HEART SHAPED WALL MIRROR, ',\n",
              " '22834',\n",
              " 'SKULL SHOULDER BAG',\n",
              " '22580',\n",
              " 'WOOD BLACK BOARD ANT WHITE FINISH',\n",
              " '13.57',\n",
              " '7.95',\n",
              " 'PAPER BUNTING RETROSPOT',\n",
              " '0.29',\n",
              " 'CHRISTMAS HANGING TREE WITH BELL',\n",
              " '21789',\n",
              " 'SWEETHEART CAKESTAND 3 TIER',\n",
              " 'DOORMAT SPOTTY HOME SWEET HOME',\n",
              " 'PINK/PURPLE RETRO RADIO',\n",
              " '21258',\n",
              " '84375',\n",
              " '22135',\n",
              " '84279P',\n",
              " '72',\n",
              " '536560',\n",
              " 'RIBBON REEL SNOWY VILLAGE',\n",
              " 'DOLLY GIRL CHILDRENS EGG CUP',\n",
              " '21656',\n",
              " 'VINTAGE RED TEATIME MUG',\n",
              " 'CHRISTMAS TREE HEART DECORATION',\n",
              " '35598D',\n",
              " 'CARD CIRCUS PARADE',\n",
              " '21',\n",
              " '21745',\n",
              " 'SPACEBOY LUNCH BOX ',\n",
              " '22481',\n",
              " '22758',\n",
              " '35965',\n",
              " '21801',\n",
              " 'RED RETROSPOT CHILDRENS UMBRELLA',\n",
              " 'VICTORIAN SEWING BOX LARGE',\n",
              " '22792',\n",
              " 'WOOD AND GLASS MEDICINE CABINET',\n",
              " '2010-12-01 16:33:00',\n",
              " '84915',\n",
              " 'SET OF 2 TEA TOWELS APPLE AND PEARS',\n",
              " 'RIDGED GLASS POSY VASE ',\n",
              " 'JUMBO BAG PINK POLKADOT',\n",
              " 'MAGIC GARDEN FELT GARLAND ',\n",
              " 'CARD CHRISTMAS VILLAGE',\n",
              " '20653',\n",
              " '85045',\n",
              " 'HOT WATER BOTTLE TEA AND SYMPATHY',\n",
              " 'HOT WATER BOTTLE I AM SO POORLY',\n",
              " 'TOAST ITS - FAIRY FLOWER',\n",
              " '22665',\n",
              " '22420',\n",
              " '4.65',\n",
              " '22119',\n",
              " '22195',\n",
              " '70',\n",
              " 'VINTAGE PAISLEY STATIONERY SET',\n",
              " '536589',\n",
              " '21620',\n",
              " '536592',\n",
              " 'FRENCH BLUE METAL DOOR SIGN No',\n",
              " '22025',\n",
              " '22668',\n",
              " 'SET OF 36 PAISLEY FLOWER DOILIES',\n",
              " 'CERAMIC CAKE BOWL + HANGING CAKES',\n",
              " '46775D',\n",
              " '21791',\n",
              " '21786',\n",
              " '2.98',\n",
              " '21820',\n",
              " '3D HEARTS  HONEYCOMB PAPER GARLAND',\n",
              " '22310',\n",
              " '0.99',\n",
              " '22904',\n",
              " 'HOT WATER BOTTLE BABUSHKA ',\n",
              " '15',\n",
              " 'DOORMAT FANCY FONT HOME SWEET HOME',\n",
              " 'FAMILY ALBUM WHITE PICTURE FRAME',\n",
              " 'GREY HEART HOT WATER BOTTLE',\n",
              " '22712',\n",
              " '85017B',\n",
              " 'CHRISTMAS TOILET ROLL',\n",
              " 'PEACE WOODEN BLOCK LETTERS',\n",
              " '35471D',\n",
              " 'GLITTER CHRISTMAS TREE',\n",
              " '2.1',\n",
              " 'SILK PURSE BABUSHKA PINK',\n",
              " '21495',\n",
              " '22117',\n",
              " 'LITTLE GREEN MONSTER SOFT TOY',\n",
              " '22459',\n",
              " '22909',\n",
              " 'BOX OF VINTAGE ALPHABET BLOCKS',\n",
              " 'GRASS HOPPER WOODEN WALL CLOCK ',\n",
              " 'SINGLE HEART ZINC T-LIGHT HOLDER',\n",
              " '22551',\n",
              " '21012',\n",
              " '22587',\n",
              " '84029E',\n",
              " '13093.0',\n",
              " '85199S',\n",
              " '22317',\n",
              " 'OVERNIGHT BAG VINTAGE ROSE PAISLEY',\n",
              " '22427',\n",
              " \"CHILDREN'S SPACEBOY MUG\",\n",
              " '47593B',\n",
              " 'RED RETROSPOT PUDDING BOWL',\n",
              " '22342',\n",
              " '21830',\n",
              " '12',\n",
              " 'STRAWBERRY SHOPPER BAG',\n",
              " 'CARD I LOVE LONDON ',\n",
              " 'PINK MARSHMALLOW SCARF KNITTING KIT',\n",
              " 'TRAVEL SEWING KIT',\n",
              " 'FAIRY TALE COTTAGE NIGHTLIGHT',\n",
              " 'BLUE  DIAMANTE PEN IN GIFT BOX',\n",
              " '536561',\n",
              " 'AIRLINE BAG VINTAGE TOKYO 78',\n",
              " 'UNION JACK FLAG PASSPORT COVER ',\n",
              " '22629',\n",
              " 'COLOURING PENCILS BROWN TUBE',\n",
              " 'SOLDIERS EGG CUP ',\n",
              " '36 PENCILS TUBE SKULLS',\n",
              " 'CINAMMON & ORANGE WREATH',\n",
              " '22694',\n",
              " 'PINK BLUE FELT CRAFT TRINKET BOX',\n",
              " '17012E',\n",
              " '17841.0',\n",
              " 'CHRISTMAS RETROSPOT TREE WOOD',\n",
              " '3.25',\n",
              " 'FUNKY DIVA PEN',\n",
              " '22348',\n",
              " 'GREEN GEISHA GIRL ',\n",
              " '22837',\n",
              " 'FELTCRAFT HAIRBAND RED AND BLUE',\n",
              " 'MIDNIGHT GLAMOUR SCARF KNITTING KIT',\n",
              " '21544',\n",
              " '20973',\n",
              " '22812',\n",
              " '20768',\n",
              " '22622',\n",
              " '20619',\n",
              " 'LOVE BUILDING BLOCK WORD',\n",
              " '22773',\n",
              " 'RIBBON REEL CHRISTMAS PRESENT ',\n",
              " '2010-12-01 15:40:00',\n",
              " 'FLORAL SOFT CAR TOY',\n",
              " 'LARGE POPCORN HOLDER ',\n",
              " '22178',\n",
              " 'SET OF 2 ROUND TINS DUTCH CHEESE',\n",
              " '21055',\n",
              " 'ROTATING LEAVES T-LIGHT HOLDER',\n",
              " '22638',\n",
              " '21015',\n",
              " '0.0',\n",
              " 'BLUE FELT HANGING HEART W FLOWER',\n",
              " 'MOUSE TOY WITH PINK T-SHIRT',\n",
              " '21524',\n",
              " '22798',\n",
              " '16168M',\n",
              " '22632',\n",
              " 'TOOTHPASTE TUBE PEN',\n",
              " '85017A',\n",
              " 'MAGIC DRAWING SLATE PURDEY',\n",
              " '22814',\n",
              " '21174',\n",
              " '22624',\n",
              " 'SET/3 CHRISTMAS DECOUPAGE CANDLES',\n",
              " '21594',\n",
              " 'STRIPEY CHOCOLATE NESTING BOXES',\n",
              " 'POTTING SHED TEA MUG',\n",
              " 'FRENCH GARDEN SIGN BLUE METAL',\n",
              " 'NUMBER TILE COTTAGE GARDEN 2',\n",
              " '536562',\n",
              " '21352',\n",
              " 'BLUE TEA TOWEL CLASSIC DESIGN',\n",
              " 'NURSERY A,B,C PAINTED LETTERS',\n",
              " '22659',\n",
              " 'HEART WOODEN CHRISTMAS DECORATION',\n",
              " ...]"
            ]
          },
          "metadata": {
            "tags": []
          },
          "execution_count": 16
        }
      ]
    },
    {
      "cell_type": "code",
      "metadata": {
        "id": "hA_8AREKj3HY"
      },
      "source": [
        "pair = []\n",
        "for j in range(0, len(uniqueItems)):\n",
        "    k = 1;\n",
        "    while k <= len(uniqueItems):\n",
        "        try:\n",
        "            pair.append([uniqueItems[j], uniqueItems[j+k]])\n",
        "        except IndexError:\n",
        "            pass\n",
        "        k = k + 1;   "
      ],
      "execution_count": 17,
      "outputs": []
    },
    {
      "cell_type": "code",
      "metadata": {
        "id": "diJsnff4sw55",
        "outputId": "319d5de1-687b-4fd7-96a0-198cc5dde6ff",
        "colab": {
          "base_uri": "https://localhost:8080/"
        }
      },
      "source": [
        "pair"
      ],
      "execution_count": 18,
      "outputs": [
        {
          "output_type": "execute_result",
          "data": {
            "text/plain": [
              "[['CREAM SWEETHEART LETTER RACK', 'PACK 3 BOXES CHRISTMAS PANNETONE'],\n",
              " ['CREAM SWEETHEART LETTER RACK', '22324'],\n",
              " ['CREAM SWEETHEART LETTER RACK', '21671'],\n",
              " ['CREAM SWEETHEART LETTER RACK', '85008'],\n",
              " ['CREAM SWEETHEART LETTER RACK', '22847'],\n",
              " ['CREAM SWEETHEART LETTER RACK', '536566'],\n",
              " ['CREAM SWEETHEART LETTER RACK', '22114'],\n",
              " ['CREAM SWEETHEART LETTER RACK', '2010-12-01 15:06:00'],\n",
              " ['CREAM SWEETHEART LETTER RACK', '22745'],\n",
              " ['CREAM SWEETHEART LETTER RACK', 'BREAD BIN DINER STYLE PINK'],\n",
              " ['CREAM SWEETHEART LETTER RACK', 'SUNSET COLOUR CHUNKY KNITTED THROW'],\n",
              " ['CREAM SWEETHEART LETTER RACK', '22969'],\n",
              " ['CREAM SWEETHEART LETTER RACK', 'FELTCRAFT HAIRBAND PINK AND BLUE'],\n",
              " ['CREAM SWEETHEART LETTER RACK', '82580'],\n",
              " ['CREAM SWEETHEART LETTER RACK', '536570'],\n",
              " ['CREAM SWEETHEART LETTER RACK', '21523'],\n",
              " ['CREAM SWEETHEART LETTER RACK', 'GLITTER HEART GARLAND WITH BELLS '],\n",
              " ['CREAM SWEETHEART LETTER RACK', 'RED TEA TOWEL CLASSIC DESIGN'],\n",
              " ['CREAM SWEETHEART LETTER RACK', 'COSMETIC BAG VINTAGE ROSE PAISLEY'],\n",
              " ['CREAM SWEETHEART LETTER RACK', 'SET OF 3 NOTEBOOKS IN PARCEL'],\n",
              " ['CREAM SWEETHEART LETTER RACK', 'SET OF 12  VINTAGE POSTCARD SET'],\n",
              " ['CREAM SWEETHEART LETTER RACK', '22818'],\n",
              " ['CREAM SWEETHEART LETTER RACK', '15056P'],\n",
              " ['CREAM SWEETHEART LETTER RACK', 'ASSORTED TUTTI FRUTTI MIRROR'],\n",
              " ['CREAM SWEETHEART LETTER RACK', 'EMPIRE TISSUE BOX'],\n",
              " ['CREAM SWEETHEART LETTER RACK', '22972'],\n",
              " ['CREAM SWEETHEART LETTER RACK', 'CERAMIC PIRATE CHEST MONEY BANK'],\n",
              " ['CREAM SWEETHEART LETTER RACK', 'WOODEN UNION JACK BUNTING'],\n",
              " ['CREAM SWEETHEART LETTER RACK', 'FELTCRAFT DOLL EMILY'],\n",
              " ['CREAM SWEETHEART LETTER RACK', '21314'],\n",
              " ['CREAM SWEETHEART LETTER RACK', '84509A'],\n",
              " ['CREAM SWEETHEART LETTER RACK', '22278'],\n",
              " ['CREAM SWEETHEART LETTER RACK', 'ENVELOPE 50 BLOSSOM IMAGES'],\n",
              " ['CREAM SWEETHEART LETTER RACK', '90214M'],\n",
              " ['CREAM SWEETHEART LETTER RACK', '79302M'],\n",
              " ['CREAM SWEETHEART LETTER RACK', '6.77'],\n",
              " ['CREAM SWEETHEART LETTER RACK', 'SWISS ROLL TOWEL, CHOCOLATE  SPOTS'],\n",
              " ['CREAM SWEETHEART LETTER RACK', 'GROW YOUR OWN PLANT IN A CAN '],\n",
              " ['CREAM SWEETHEART LETTER RACK', 'MAGNETS PACK OF 4 RETRO PHOTO'],\n",
              " ['CREAM SWEETHEART LETTER RACK', 'WOODEN OWLS LIGHT GARLAND '],\n",
              " ['CREAM SWEETHEART LETTER RACK', '20749'],\n",
              " ['CREAM SWEETHEART LETTER RACK', '21547'],\n",
              " ['CREAM SWEETHEART LETTER RACK', 'TRIPLE PHOTO FRAME CORNICE '],\n",
              " ['CREAM SWEETHEART LETTER RACK', 'WASHROOM METAL SIGN'],\n",
              " ['CREAM SWEETHEART LETTER RACK', 'BATH BUILDING BLOCK WORD'],\n",
              " ['CREAM SWEETHEART LETTER RACK', 'M'],\n",
              " ['CREAM SWEETHEART LETTER RACK', 'IVORY STRING CURTAIN WITH POLE '],\n",
              " ['CREAM SWEETHEART LETTER RACK', 'ASSORTED COLOUR T-LIGHT HOLDER'],\n",
              " ['CREAM SWEETHEART LETTER RACK', 'WOODEN SCHOOL COLOURING SET'],\n",
              " ['CREAM SWEETHEART LETTER RACK', '22645'],\n",
              " ['CREAM SWEETHEART LETTER RACK', 'WICKER STAR '],\n",
              " ['CREAM SWEETHEART LETTER RACK', '82552'],\n",
              " ['CREAM SWEETHEART LETTER RACK', '17012B'],\n",
              " ['CREAM SWEETHEART LETTER RACK', '22393'],\n",
              " ['CREAM SWEETHEART LETTER RACK', '21811'],\n",
              " ['CREAM SWEETHEART LETTER RACK', 'FULL ENGLISH BREAKFAST PLATE'],\n",
              " ['CREAM SWEETHEART LETTER RACK', 'T-LIGHT GLASS FLUTED ANTIQUE'],\n",
              " ['CREAM SWEETHEART LETTER RACK', 'ASSORTED TUTTI FRUTTI NOTEBOOK'],\n",
              " ['CREAM SWEETHEART LETTER RACK', 'HAND WARMER BABUSHKA DESIGN'],\n",
              " ['CREAM SWEETHEART LETTER RACK', '0.43'],\n",
              " ['CREAM SWEETHEART LETTER RACK', '85099B'],\n",
              " ['CREAM SWEETHEART LETTER RACK', 'METAL SIGN CUPCAKE SINGLE HOOK'],\n",
              " ['CREAM SWEETHEART LETTER RACK', '20752'],\n",
              " ['CREAM SWEETHEART LETTER RACK', '84509B'],\n",
              " ['CREAM SWEETHEART LETTER RACK', 'RED STRIPE CERAMIC DRAWER KNOB'],\n",
              " ['CREAM SWEETHEART LETTER RACK', 'MAKE YOUR OWN MONSOON CARD KIT'],\n",
              " ['CREAM SWEETHEART LETTER RACK', 'SKULLS AND CROSSBONES WRAP'],\n",
              " ['CREAM SWEETHEART LETTER RACK', '84997D'],\n",
              " ['CREAM SWEETHEART LETTER RACK', '22750'],\n",
              " ['CREAM SWEETHEART LETTER RACK', '4.95'],\n",
              " ['CREAM SWEETHEART LETTER RACK', '536558'],\n",
              " ['CREAM SWEETHEART LETTER RACK', 'BEACH HUT KEY CABINET'],\n",
              " ['CREAM SWEETHEART LETTER RACK', '10135'],\n",
              " ['CREAM SWEETHEART LETTER RACK', '22081'],\n",
              " ['CREAM SWEETHEART LETTER RACK', 'MAGNETS PACK OF 4 HOME SWEET HOME'],\n",
              " ['CREAM SWEETHEART LETTER RACK', '47563A'],\n",
              " ['CREAM SWEETHEART LETTER RACK', 'PINK FAIRY CAKE CHILDRENS APRON'],\n",
              " ['CREAM SWEETHEART LETTER RACK', '22735'],\n",
              " ['CREAM SWEETHEART LETTER RACK', 'KITCHEN METAL SIGN'],\n",
              " ['CREAM SWEETHEART LETTER RACK', '22953'],\n",
              " ['CREAM SWEETHEART LETTER RACK', 'MAGNETS PACK OF 4 CHILDHOOD MEMORY'],\n",
              " ['CREAM SWEETHEART LETTER RACK', '22810'],\n",
              " ['CREAM SWEETHEART LETTER RACK', '22458'],\n",
              " ['CREAM SWEETHEART LETTER RACK', '72134'],\n",
              " ['CREAM SWEETHEART LETTER RACK', '84086C'],\n",
              " ['CREAM SWEETHEART LETTER RACK', \"Dr. Jam's Arouzer Stress Ball\"],\n",
              " ['CREAM SWEETHEART LETTER RACK', '85064'],\n",
              " ['CREAM SWEETHEART LETTER RACK', 'RECIPE BOX RETROSPOT '],\n",
              " ['CREAM SWEETHEART LETTER RACK', 'SANDWICH BATH SPONGE'],\n",
              " ['CREAM SWEETHEART LETTER RACK', 'MINI JIGSAW SPACEBOY'],\n",
              " ['CREAM SWEETHEART LETTER RACK', 'PINK DIAMANTE PEN IN GIFT BOX'],\n",
              " ['CREAM SWEETHEART LETTER RACK', 'HI TEC ALPINE HAND WARMER'],\n",
              " ['CREAM SWEETHEART LETTER RACK', '21975'],\n",
              " ['CREAM SWEETHEART LETTER RACK', '22207'],\n",
              " ['CREAM SWEETHEART LETTER RACK', 'CALENDAR PAPER CUT DESIGN'],\n",
              " ['CREAM SWEETHEART LETTER RACK', 'CHILDRENS APRON APPLES DESIGN'],\n",
              " ['CREAM SWEETHEART LETTER RACK', 'RIBBON REEL STRIPES DESIGN '],\n",
              " ['CREAM SWEETHEART LETTER RACK', '84520B'],\n",
              " ['CREAM SWEETHEART LETTER RACK', '22381'],\n",
              " ['CREAM SWEETHEART LETTER RACK', '21986'],\n",
              " ['CREAM SWEETHEART LETTER RACK', '18229.0'],\n",
              " ['CREAM SWEETHEART LETTER RACK', '0.84'],\n",
              " ['CREAM SWEETHEART LETTER RACK', '22651'],\n",
              " ['CREAM SWEETHEART LETTER RACK', '128'],\n",
              " ['CREAM SWEETHEART LETTER RACK', '37491A'],\n",
              " ['CREAM SWEETHEART LETTER RACK', '20'],\n",
              " ['CREAM SWEETHEART LETTER RACK', 'SWEETHEART CERAMIC TRINKET BOX'],\n",
              " ['CREAM SWEETHEART LETTER RACK', 'BLACK TEA TOWEL CLASSIC DESIGN'],\n",
              " ['CREAM SWEETHEART LETTER RACK', 'WHITE SPOT RED CERAMIC DRAWER KNOB'],\n",
              " ['CREAM SWEETHEART LETTER RACK', '22754'],\n",
              " ['CREAM SWEETHEART LETTER RACK', 'WHITE CHRISTMAS GARLAND STARS TREES'],\n",
              " ['CREAM SWEETHEART LETTER RACK', 'SET OF 3 BABUSHKA STACKING TINS'],\n",
              " ['CREAM SWEETHEART LETTER RACK', 'PAINTED LIGHTBULB STAR+ MOON'],\n",
              " ['CREAM SWEETHEART LETTER RACK', 'RETRO COFFEE MUGS ASSORTED'],\n",
              " ['CREAM SWEETHEART LETTER RACK', '84596J'],\n",
              " ['CREAM SWEETHEART LETTER RACK', 'CHRISTMAS GARLAND STARS,TREES'],\n",
              " ['CREAM SWEETHEART LETTER RACK', '22586'],\n",
              " ['CREAM SWEETHEART LETTER RACK', '72807C'],\n",
              " ['CREAM SWEETHEART LETTER RACK', 'TRADITIONAL WOODEN CATCH CUP GAME '],\n",
              " ['CREAM SWEETHEART LETTER RACK', '6.75'],\n",
              " ['CREAM SWEETHEART LETTER RACK', '21813'],\n",
              " ['CREAM SWEETHEART LETTER RACK', '85174'],\n",
              " ['CREAM SWEETHEART LETTER RACK', 'RED WOOLLY HOTTIE WHITE HEART.'],\n",
              " ['CREAM SWEETHEART LETTER RACK', '22945'],\n",
              " ['CREAM SWEETHEART LETTER RACK', '82613D'],\n",
              " ['CREAM SWEETHEART LETTER RACK', '8.47'],\n",
              " ['CREAM SWEETHEART LETTER RACK', 'BOOZE & WOMEN GREETING CARD '],\n",
              " ['CREAM SWEETHEART LETTER RACK', '12.75'],\n",
              " ['CREAM SWEETHEART LETTER RACK', '21843'],\n",
              " ['CREAM SWEETHEART LETTER RACK', 'FAIRY DREAMS INCENSE '],\n",
              " ['CREAM SWEETHEART LETTER RACK', 'HOOK, 1 HANGER ,MAGIC GARDEN'],\n",
              " ['CREAM SWEETHEART LETTER RACK', 'JAM JAR WITH GREEN LID'],\n",
              " ['CREAM SWEETHEART LETTER RACK', 'FAUX FUR CHOCOLATE THROW'],\n",
              " ['CREAM SWEETHEART LETTER RACK', '20717'],\n",
              " ['CREAM SWEETHEART LETTER RACK', '22865'],\n",
              " ['CREAM SWEETHEART LETTER RACK', '22616'],\n",
              " ['CREAM SWEETHEART LETTER RACK', '21587'],\n",
              " ['CREAM SWEETHEART LETTER RACK', 'WOODEN TREE CHRISTMAS SCANDINAVIAN'],\n",
              " ['CREAM SWEETHEART LETTER RACK', '20724'],\n",
              " ['CREAM SWEETHEART LETTER RACK', '35598B'],\n",
              " ['CREAM SWEETHEART LETTER RACK', '22973'],\n",
              " ['CREAM SWEETHEART LETTER RACK', '22212'],\n",
              " ['CREAM SWEETHEART LETTER RACK', '21700'],\n",
              " ['CREAM SWEETHEART LETTER RACK', 'PLASTERS IN TIN SKULLS'],\n",
              " ['CREAM SWEETHEART LETTER RACK', '35095A'],\n",
              " ['CREAM SWEETHEART LETTER RACK', 'TV DINNER TRAY DOLLY GIRL'],\n",
              " ['CREAM SWEETHEART LETTER RACK', '21164'],\n",
              " ['CREAM SWEETHEART LETTER RACK', '536582'],\n",
              " ['CREAM SWEETHEART LETTER RACK', '22497'],\n",
              " ['CREAM SWEETHEART LETTER RACK', '14.95'],\n",
              " ['CREAM SWEETHEART LETTER RACK', 'MOBILE VINTAGE HEARTS '],\n",
              " ['CREAM SWEETHEART LETTER RACK', 'WOODLAND PARTY BAG + STICKER SET'],\n",
              " ['CREAM SWEETHEART LETTER RACK', '22350'],\n",
              " ['CREAM SWEETHEART LETTER RACK', 'CABIN BAG VINTAGE PAISLEY'],\n",
              " ['CREAM SWEETHEART LETTER RACK', 'LIGHT GARLAND BUTTERFILES PINK'],\n",
              " ['CREAM SWEETHEART LETTER RACK', 'MINT GREEN ROSE TOWEL'],\n",
              " ['CREAM SWEETHEART LETTER RACK', 'GREEN CHRISTMAS TREE CARD HOLDER'],\n",
              " ['CREAM SWEETHEART LETTER RACK', '22589'],\n",
              " ['CREAM SWEETHEART LETTER RACK', '20725'],\n",
              " ['CREAM SWEETHEART LETTER RACK', '21488'],\n",
              " ['CREAM SWEETHEART LETTER RACK', '536551'],\n",
              " ['CREAM SWEETHEART LETTER RACK', '96'],\n",
              " ['CREAM SWEETHEART LETTER RACK', 'SMALL YELLOW BABUSHKA NOTEBOOK '],\n",
              " ['CREAM SWEETHEART LETTER RACK', '79321'],\n",
              " ['CREAM SWEETHEART LETTER RACK', '22625'],\n",
              " ['CREAM SWEETHEART LETTER RACK', 'GREEN REGENCY TEACUP AND SAUCER'],\n",
              " ['CREAM SWEETHEART LETTER RACK', '14696.0'],\n",
              " ['CREAM SWEETHEART LETTER RACK', 'DECORATIVE PLANT POT WITH FRIEZE'],\n",
              " ['CREAM SWEETHEART LETTER RACK', 'WOODLAND  HEIGHT CHART STICKERS '],\n",
              " ['CREAM SWEETHEART LETTER RACK', '21439'],\n",
              " ['CREAM SWEETHEART LETTER RACK', '84997C'],\n",
              " ['CREAM SWEETHEART LETTER RACK', '21509'],\n",
              " ['CREAM SWEETHEART LETTER RACK', 'HERB MARKER MINT'],\n",
              " ['CREAM SWEETHEART LETTER RACK', 'MOCK LOBSTER FRIDGE MAGNET'],\n",
              " ['CREAM SWEETHEART LETTER RACK', \"FANNY'S REST STOPMETAL SIGN\"],\n",
              " ['CREAM SWEETHEART LETTER RACK', '22753'],\n",
              " ['CREAM SWEETHEART LETTER RACK', '22565'],\n",
              " ['CREAM SWEETHEART LETTER RACK', '70006'],\n",
              " ['CREAM SWEETHEART LETTER RACK', '21643'],\n",
              " ['CREAM SWEETHEART LETTER RACK', '84879'],\n",
              " ['CREAM SWEETHEART LETTER RACK', '22802'],\n",
              " ['CREAM SWEETHEART LETTER RACK', 'RECYCLING BAG RETROSPOT '],\n",
              " ['CREAM SWEETHEART LETTER RACK', '21363'],\n",
              " ['CREAM SWEETHEART LETTER RACK', '22470'],\n",
              " ['CREAM SWEETHEART LETTER RACK', '22966'],\n",
              " ['CREAM SWEETHEART LETTER RACK', 'BLUE VICTORIAN FABRIC OVAL BOX'],\n",
              " ['CREAM SWEETHEART LETTER RACK', '21356'],\n",
              " ['CREAM SWEETHEART LETTER RACK', '0.81'],\n",
              " ['CREAM SWEETHEART LETTER RACK', 'FELTCRAFT PRINCESS LOLA DOLL'],\n",
              " ['CREAM SWEETHEART LETTER RACK', 'COLOUR GLASS. STAR T-LIGHT HOLDER'],\n",
              " ['CREAM SWEETHEART LETTER RACK', 'ROSE COTTAGE KEEPSAKE BOX '],\n",
              " ['CREAM SWEETHEART LETTER RACK', '17012F'],\n",
              " ['CREAM SWEETHEART LETTER RACK', '2010-12-01 15:15:00'],\n",
              " ['CREAM SWEETHEART LETTER RACK', '22540'],\n",
              " ['CREAM SWEETHEART LETTER RACK', '35637A'],\n",
              " ['CREAM SWEETHEART LETTER RACK', 'SET OF 3 BUTTERFLY COOKIE CUTTERS'],\n",
              " ['CREAM SWEETHEART LETTER RACK', 'MIRRORED WALL ART SPLODGES'],\n",
              " ['CREAM SWEETHEART LETTER RACK', 'LUNCH BAG  BLACK SKULL.'],\n",
              " ['CREAM SWEETHEART LETTER RACK', 'TEA TIME KITCHEN APRON'],\n",
              " ['CREAM SWEETHEART LETTER RACK', '536557'],\n",
              " ['CREAM SWEETHEART LETTER RACK', '144'],\n",
              " ['CREAM SWEETHEART LETTER RACK', ' SET 2 TEA TOWELS I LOVE LONDON '],\n",
              " ['CREAM SWEETHEART LETTER RACK', '22572'],\n",
              " ['CREAM SWEETHEART LETTER RACK', '60 CAKE CASES DOLLY GIRL DESIGN'],\n",
              " ['CREAM SWEETHEART LETTER RACK', 'SMALL POPCORN HOLDER'],\n",
              " ['CREAM SWEETHEART LETTER RACK', '22174'],\n",
              " ['CREAM SWEETHEART LETTER RACK', 'BLUE POLKADOT WASHING UP GLOVES'],\n",
              " ['CREAM SWEETHEART LETTER RACK', '51014C'],\n",
              " ['CREAM SWEETHEART LETTER RACK', '35599D'],\n",
              " ['CREAM SWEETHEART LETTER RACK', '22182'],\n",
              " ['CREAM SWEETHEART LETTER RACK', 'MAGIC DRAWING SLATE DINOSAUR'],\n",
              " ['CREAM SWEETHEART LETTER RACK', '21914'],\n",
              " ['CREAM SWEETHEART LETTER RACK', 'TEA TIME PARTY BUNTING'],\n",
              " ['CREAM SWEETHEART LETTER RACK', '20972'],\n",
              " ['CREAM SWEETHEART LETTER RACK', '72 SWEETHEART FAIRY CAKE CASES'],\n",
              " ['CREAM SWEETHEART LETTER RACK', '35004C'],\n",
              " ['CREAM SWEETHEART LETTER RACK', '20735'],\n",
              " ['CREAM SWEETHEART LETTER RACK', '71477'],\n",
              " ['CREAM SWEETHEART LETTER RACK', '22867'],\n",
              " ['CREAM SWEETHEART LETTER RACK', 'LOVE HEART NAPKIN BOX '],\n",
              " ['CREAM SWEETHEART LETTER RACK', '21281'],\n",
              " ['CREAM SWEETHEART LETTER RACK', 'KEY FOB , GARAGE DESIGN'],\n",
              " ['CREAM SWEETHEART LETTER RACK', '21761'],\n",
              " ['CREAM SWEETHEART LETTER RACK', '22775'],\n",
              " ['CREAM SWEETHEART LETTER RACK', '84347'],\n",
              " ['CREAM SWEETHEART LETTER RACK', '22560'],\n",
              " ['CREAM SWEETHEART LETTER RACK', 'FAIRY CAKES NOTEBOOK A7 SIZE'],\n",
              " ['CREAM SWEETHEART LETTER RACK', '3.95'],\n",
              " ['CREAM SWEETHEART LETTER RACK', '21188'],\n",
              " ['CREAM SWEETHEART LETTER RACK', 'RED RETROSPOT OVEN GLOVE DOUBLE'],\n",
              " ['CREAM SWEETHEART LETTER RACK', 'SET OF 6 RIBBONS VINTAGE CHRISTMAS'],\n",
              " ['CREAM SWEETHEART LETTER RACK', 'HOME BUILDING BLOCK WORD'],\n",
              " ['CREAM SWEETHEART LETTER RACK', '22737'],\n",
              " ['CREAM SWEETHEART LETTER RACK', 'BIRD DECORATION RED RETROSPOT'],\n",
              " ['CREAM SWEETHEART LETTER RACK', 'CHRISTMAS CRAFT LITTLE FRIENDS'],\n",
              " ['CREAM SWEETHEART LETTER RACK', '22579'],\n",
              " ['CREAM SWEETHEART LETTER RACK', '22960'],\n",
              " ['CREAM SWEETHEART LETTER RACK', 'FRENCH BLUE METAL DOOR SIGN 3'],\n",
              " ['CREAM SWEETHEART LETTER RACK', 'CHOCOLATE HOT WATER BOTTLE'],\n",
              " ['CREAM SWEETHEART LETTER RACK', '21981'],\n",
              " ['CREAM SWEETHEART LETTER RACK', 'CHERRY BLOSSOM PASSPORT COVER'],\n",
              " ['CREAM SWEETHEART LETTER RACK', 'HEARTS GIFT TAPE'],\n",
              " ['CREAM SWEETHEART LETTER RACK', '22149'],\n",
              " ['CREAM SWEETHEART LETTER RACK', '82616C'],\n",
              " ['CREAM SWEETHEART LETTER RACK', '85114B'],\n",
              " ['CREAM SWEETHEART LETTER RACK', '21166'],\n",
              " ['CREAM SWEETHEART LETTER RACK', '20697'],\n",
              " ['CREAM SWEETHEART LETTER RACK', 'GLITTER STAR GARLAND WITH BELLS '],\n",
              " ['CREAM SWEETHEART LETTER RACK', '48'],\n",
              " ['CREAM SWEETHEART LETTER RACK', '84913B'],\n",
              " ['CREAM SWEETHEART LETTER RACK', 'BOHEMIAN COLLAGE STATIONERY SET'],\n",
              " ['CREAM SWEETHEART LETTER RACK', '15056N'],\n",
              " ['CREAM SWEETHEART LETTER RACK', '16236'],\n",
              " ['CREAM SWEETHEART LETTER RACK', '22083'],\n",
              " ['CREAM SWEETHEART LETTER RACK', '21592'],\n",
              " ['CREAM SWEETHEART LETTER RACK', 'STRAWBERRY CERAMIC TRINKET BOX'],\n",
              " ['CREAM SWEETHEART LETTER RACK', '536581'],\n",
              " ['CREAM SWEETHEART LETTER RACK', '21259'],\n",
              " ['CREAM SWEETHEART LETTER RACK', '22082'],\n",
              " ['CREAM SWEETHEART LETTER RACK', 'SET OF 4 FAIRY CAKE PLACEMATS'],\n",
              " ['CREAM SWEETHEART LETTER RACK', '84970L'],\n",
              " ['CREAM SWEETHEART LETTER RACK', 'WASH BAG VINTAGE ROSE PAISLEY'],\n",
              " ['CREAM SWEETHEART LETTER RACK', '21557'],\n",
              " ['CREAM SWEETHEART LETTER RACK', '22962'],\n",
              " ['CREAM SWEETHEART LETTER RACK', '22841'],\n",
              " ['CREAM SWEETHEART LETTER RACK', '22743'],\n",
              " ['CREAM SWEETHEART LETTER RACK', 'CHOCOLATE CALCULATOR'],\n",
              " ['CREAM SWEETHEART LETTER RACK', '37448'],\n",
              " ['CREAM SWEETHEART LETTER RACK', 'PACK OF 12 PINK POLKADOT TISSUES'],\n",
              " ['CREAM SWEETHEART LETTER RACK', '6.95'],\n",
              " ['CREAM SWEETHEART LETTER RACK', 'PLASTERS IN TIN STRONGMAN'],\n",
              " ['CREAM SWEETHEART LETTER RACK', 'GLASS JAR DIGESTIVE BISCUITS'],\n",
              " ['CREAM SWEETHEART LETTER RACK', '22573'],\n",
              " ['CREAM SWEETHEART LETTER RACK', 'DOORSTOP RETROSPOT HEART'],\n",
              " ['CREAM SWEETHEART LETTER RACK', 'BOX OF 24 COCKTAIL PARASOLS'],\n",
              " ['CREAM SWEETHEART LETTER RACK', '22161'],\n",
              " ['CREAM SWEETHEART LETTER RACK', '22173'],\n",
              " ['CREAM SWEETHEART LETTER RACK', '20914'],\n",
              " ['CREAM SWEETHEART LETTER RACK', '22405'],\n",
              " ['CREAM SWEETHEART LETTER RACK', '84659A'],\n",
              " ['CREAM SWEETHEART LETTER RACK', 'BLACK CHRISTMAS TREE 60CM'],\n",
              " ['CREAM SWEETHEART LETTER RACK', '17084P'],\n",
              " ['CREAM SWEETHEART LETTER RACK', 'MIRRORED WALL ART SKULLS'],\n",
              " ['CREAM SWEETHEART LETTER RACK', '24'],\n",
              " ['CREAM SWEETHEART LETTER RACK', 'BEADED CRYSTAL HEART PINK ON STICK'],\n",
              " ['CREAM SWEETHEART LETTER RACK', '22755'],\n",
              " ['CREAM SWEETHEART LETTER RACK', '3 HOOK PHOTO SHELF ANTIQUE WHITE'],\n",
              " ['CREAM SWEETHEART LETTER RACK', 'KIDS RAIN MAC PINK'],\n",
              " ['CREAM SWEETHEART LETTER RACK', '21718'],\n",
              " ['CREAM SWEETHEART LETTER RACK', '84609'],\n",
              " ['CREAM SWEETHEART LETTER RACK', '7.62'],\n",
              " ['CREAM SWEETHEART LETTER RACK', '22566'],\n",
              " ['CREAM SWEETHEART LETTER RACK', '20956'],\n",
              " ['CREAM SWEETHEART LETTER RACK', 'CERAMIC CAKE STAND + HANGING CAKES'],\n",
              " ['CREAM SWEETHEART LETTER RACK', 'RED TOADSTOOL LED NIGHT LIGHT'],\n",
              " ['CREAM SWEETHEART LETTER RACK', 'SET OF 6 FUNKY BEAKERS'],\n",
              " ['CREAM SWEETHEART LETTER RACK', '22197'],\n",
              " ['CREAM SWEETHEART LETTER RACK', '20761'],\n",
              " ['CREAM SWEETHEART LETTER RACK', 'JAM JAR WITH PINK LID'],\n",
              " ['CREAM SWEETHEART LETTER RACK', 'TOAST ITS - BEST MUM'],\n",
              " ['CREAM SWEETHEART LETTER RACK', 'RECIPE BOX PANTRY YELLOW DESIGN'],\n",
              " ['CREAM SWEETHEART LETTER RACK', '5.49'],\n",
              " ['CREAM SWEETHEART LETTER RACK', 'MAGNETS PACK OF 4 VINTAGE COLLAGE'],\n",
              " ['CREAM SWEETHEART LETTER RACK', '82578'],\n",
              " ['CREAM SWEETHEART LETTER RACK', '21485'],\n",
              " ['CREAM SWEETHEART LETTER RACK', '21850'],\n",
              " ['CREAM SWEETHEART LETTER RACK', 'SET OF 20 KIDS COOKIE CUTTERS'],\n",
              " ['CREAM SWEETHEART LETTER RACK', '1.49'],\n",
              " ['CREAM SWEETHEART LETTER RACK', '5.06'],\n",
              " ['CREAM SWEETHEART LETTER RACK', '2010-12-01 16:24:00'],\n",
              " ['CREAM SWEETHEART LETTER RACK', 'CERAMIC BIRDHOUSE CRESTED TIT SMALL'],\n",
              " ['CREAM SWEETHEART LETTER RACK', '20931'],\n",
              " ['CREAM SWEETHEART LETTER RACK', 'SLEEPING CAT ERASERS'],\n",
              " ['CREAM SWEETHEART LETTER RACK', '1.06'],\n",
              " ['CREAM SWEETHEART LETTER RACK', '22112'],\n",
              " ['CREAM SWEETHEART LETTER RACK', '22866'],\n",
              " ['CREAM SWEETHEART LETTER RACK', 'ANTIQUE GLASS DRESSING TABLE POT'],\n",
              " ['CREAM SWEETHEART LETTER RACK', 'CHERRY BLOSSOM LUGGAGE TAG'],\n",
              " ['CREAM SWEETHEART LETTER RACK', 'HEART DECORATION RUSTIC HANGING '],\n",
              " ['CREAM SWEETHEART LETTER RACK', '20685'],\n",
              " ['CREAM SWEETHEART LETTER RACK', '11'],\n",
              " ['CREAM SWEETHEART LETTER RACK', '22663'],\n",
              " ['CREAM SWEETHEART LETTER RACK', '84950'],\n",
              " ['CREAM SWEETHEART LETTER RACK', 'FINE WICKER HEART '],\n",
              " ['CREAM SWEETHEART LETTER RACK', 'CHRISTMAS GINGHAM HEART'],\n",
              " ['CREAM SWEETHEART LETTER RACK', 'ASSORTED TUTTI FRUTTI SMALL PURSE'],\n",
              " ['CREAM SWEETHEART LETTER RACK', 'FOLKART HEART NAPKIN RINGS'],\n",
              " ['CREAM SWEETHEART LETTER RACK', '21896'],\n",
              " ['CREAM SWEETHEART LETTER RACK', 'CHRISTMAS CRAFT WHITE FAIRY '],\n",
              " ['CREAM SWEETHEART LETTER RACK', '84510A'],\n",
              " ['CREAM SWEETHEART LETTER RACK', 'CHRISTMAS MUSICAL ZINC STAR'],\n",
              " ['CREAM SWEETHEART LETTER RACK', '20682'],\n",
              " ['CREAM SWEETHEART LETTER RACK', '22376'],\n",
              " ['CREAM SWEETHEART LETTER RACK', '6 RIBBONS RUSTIC CHARM'],\n",
              " ['CREAM SWEETHEART LETTER RACK', '22571'],\n",
              " ['CREAM SWEETHEART LETTER RACK', '2010-12-01 15:35:00'],\n",
              " ['CREAM SWEETHEART LETTER RACK', '17690.0'],\n",
              " ['CREAM SWEETHEART LETTER RACK', 'PAINTED METAL PEARS ASSORTED'],\n",
              " ['CREAM SWEETHEART LETTER RACK', '10'],\n",
              " ['CREAM SWEETHEART LETTER RACK', '29.95'],\n",
              " ['CREAM SWEETHEART LETTER RACK', '20750'],\n",
              " ['CREAM SWEETHEART LETTER RACK', 'BLUE POT PLANT CANDLE '],\n",
              " ['CREAM SWEETHEART LETTER RACK', '22781'],\n",
              " ['CREAM SWEETHEART LETTER RACK', 'FOLKART ZINC HEART CHRISTMAS DEC'],\n",
              " ['CREAM SWEETHEART LETTER RACK', '22568'],\n",
              " ['CREAM SWEETHEART LETTER RACK', '22187'],\n",
              " ['CREAM SWEETHEART LETTER RACK', '0.55'],\n",
              " ['CREAM SWEETHEART LETTER RACK', 'BEADED CRYSTAL HEART GREEN ON STICK'],\n",
              " ['CREAM SWEETHEART LETTER RACK', 'FELT EGG COSY WHITE RABBIT '],\n",
              " ['CREAM SWEETHEART LETTER RACK', 'LETTER \"V\" BLING KEY RING'],\n",
              " ['CREAM SWEETHEART LETTER RACK', 'BATHROOM METAL SIGN'],\n",
              " ['CREAM SWEETHEART LETTER RACK', '22467'],\n",
              " ['CREAM SWEETHEART LETTER RACK', '84976'],\n",
              " ['CREAM SWEETHEART LETTER RACK', '85040B'],\n",
              " ['CREAM SWEETHEART LETTER RACK', '84536B'],\n",
              " ['CREAM SWEETHEART LETTER RACK', '22480'],\n",
              " ['CREAM SWEETHEART LETTER RACK', '22569'],\n",
              " ['CREAM SWEETHEART LETTER RACK', '84832'],\n",
              " ['CREAM SWEETHEART LETTER RACK', 'SET OF 4 NAPKIN CHARMS HEARTS'],\n",
              " ['CREAM SWEETHEART LETTER RACK', 'RED METAL BEACH SPADE '],\n",
              " ['CREAM SWEETHEART LETTER RACK', '22692'],\n",
              " ['CREAM SWEETHEART LETTER RACK', 'RECORD FRAME 7\" SINGLE SIZE '],\n",
              " ['CREAM SWEETHEART LETTER RACK', 'FELT EGG COSY BLUE RABBIT '],\n",
              " ['CREAM SWEETHEART LETTER RACK', 'SMALL RED BABUSHKA NOTEBOOK '],\n",
              " ['CREAM SWEETHEART LETTER RACK', 'ORIGAMI JASMINE INCENSE/CANDLE SET'],\n",
              " ['CREAM SWEETHEART LETTER RACK', 'SET OF 3 HEART COOKIE CUTTERS'],\n",
              " ['CREAM SWEETHEART LETTER RACK', '1.95'],\n",
              " ['CREAM SWEETHEART LETTER RACK', 'PACK OF 12 WOODLAND TISSUES '],\n",
              " ['CREAM SWEETHEART LETTER RACK', '17012C'],\n",
              " ['CREAM SWEETHEART LETTER RACK', 'CHRISTMAS GINGHAM STAR'],\n",
              " ['CREAM SWEETHEART LETTER RACK', 'VINTAGE SNAP CARDS'],\n",
              " ['CREAM SWEETHEART LETTER RACK', '84459B'],\n",
              " ['CREAM SWEETHEART LETTER RACK', 'PAPER CHAIN KIT VINTAGE CHRISTMAS'],\n",
              " ['CREAM SWEETHEART LETTER RACK', '22422'],\n",
              " ['CREAM SWEETHEART LETTER RACK', '22650'],\n",
              " ['CREAM SWEETHEART LETTER RACK', '22260'],\n",
              " ['CREAM SWEETHEART LETTER RACK', '22640'],\n",
              " ['CREAM SWEETHEART LETTER RACK', 'GUMBALL MAGAZINE RACK'],\n",
              " ['CREAM SWEETHEART LETTER RACK', '22246'],\n",
              " ['CREAM SWEETHEART LETTER RACK', '22597'],\n",
              " ['CREAM SWEETHEART LETTER RACK', 'LARGE WHITE HONEYCOMB PAPER BELL  '],\n",
              " ['CREAM SWEETHEART LETTER RACK', 'FELTCRAFT 6 FLOWER FRIENDS'],\n",
              " ['CREAM SWEETHEART LETTER RACK', '20978'],\n",
              " ['CREAM SWEETHEART LETTER RACK', '21272'],\n",
              " ['CREAM SWEETHEART LETTER RACK', '72817'],\n",
              " ['CREAM SWEETHEART LETTER RACK', '17346.0'],\n",
              " ['CREAM SWEETHEART LETTER RACK', 'POTTERING IN THE SHED METAL SIGN'],\n",
              " ['CREAM SWEETHEART LETTER RACK', 'LETTER \"M\" BLING KEY RING'],\n",
              " ['CREAM SWEETHEART LETTER RACK', '3 TRADITIONAL COOKIE CUTTERS  SET'],\n",
              " ['CREAM SWEETHEART LETTER RACK', '20733'],\n",
              " ['CREAM SWEETHEART LETTER RACK', '21670'],\n",
              " ['CREAM SWEETHEART LETTER RACK', '21349'],\n",
              " ['CREAM SWEETHEART LETTER RACK', '22111'],\n",
              " ['CREAM SWEETHEART LETTER RACK', 'PACK OF 12 LONDON TISSUES '],\n",
              " ['CREAM SWEETHEART LETTER RACK', '2010-12-01 16:52:00'],\n",
              " ['CREAM SWEETHEART LETTER RACK', '84378'],\n",
              " ['CREAM SWEETHEART LETTER RACK', 'CERAMIC CAKE DESIGN SPOTTED MUG'],\n",
              " ['CREAM SWEETHEART LETTER RACK', '1.27'],\n",
              " ['CREAM SWEETHEART LETTER RACK', '90214V'],\n",
              " ['CREAM SWEETHEART LETTER RACK', 'CHILDRENS SPACEBOY MUG'],\n",
              " ['CREAM SWEETHEART LETTER RACK', '21942'],\n",
              " ['CREAM SWEETHEART LETTER RACK', 'SCOTTIE DOGS BABY BIB'],\n",
              " ['CREAM SWEETHEART LETTER RACK', '21974'],\n",
              " ['CREAM SWEETHEART LETTER RACK', 'CHARLIE+LOLA RED HOT WATER BOTTLE '],\n",
              " ['CREAM SWEETHEART LETTER RACK', 'SMALL HEART FLOWERS HOOK '],\n",
              " ['CREAM SWEETHEART LETTER RACK', 'FELTCRAFT BUTTERFLY HEARTS'],\n",
              " ['CREAM SWEETHEART LETTER RACK', '22699'],\n",
              " ['CREAM SWEETHEART LETTER RACK', '37449'],\n",
              " ['CREAM SWEETHEART LETTER RACK', 'RING OF ROSES BIRTHDAY CARD'],\n",
              " ['CREAM SWEETHEART LETTER RACK', '22570'],\n",
              " ['CREAM SWEETHEART LETTER RACK', '84969'],\n",
              " ['CREAM SWEETHEART LETTER RACK', 'CAKE STAND VICTORIAN FILIGREE SMALL'],\n",
              " ['CREAM SWEETHEART LETTER RACK', 'RED RETROSPOT MINI CASES'],\n",
              " ['CREAM SWEETHEART LETTER RACK', '21035'],\n",
              " ['CREAM SWEETHEART LETTER RACK', 'BLACK CANDELABRA T-LIGHT HOLDER'],\n",
              " ['CREAM SWEETHEART LETTER RACK', 'IVORY KNITTED MUG COSY '],\n",
              " ['CREAM SWEETHEART LETTER RACK', 'TABLE LAMP WHITE SHADE WOOD BASE'],\n",
              " ['CREAM SWEETHEART LETTER RACK', '51014L'],\n",
              " ['CREAM SWEETHEART LETTER RACK', '21985'],\n",
              " ['CREAM SWEETHEART LETTER RACK', '21899'],\n",
              " ['CREAM SWEETHEART LETTER RACK', '22639'],\n",
              " ['CREAM SWEETHEART LETTER RACK', 'DECORATIVE FLORE BATHROOM BOTTLE'],\n",
              " ['CREAM SWEETHEART LETTER RACK', 'HERB MARKER ROSEMARY'],\n",
              " ['CREAM SWEETHEART LETTER RACK', '21684'],\n",
              " ['CREAM SWEETHEART LETTER RACK', '21069'],\n",
              " ['CREAM SWEETHEART LETTER RACK', '22941'],\n",
              " ['CREAM SWEETHEART LETTER RACK', 'WHITE GOOSE FEATHER CHRISTMAS TREE '],\n",
              " ['CREAM SWEETHEART LETTER RACK', '22846'],\n",
              " ['CREAM SWEETHEART LETTER RACK', '20963'],\n",
              " ['CREAM SWEETHEART LETTER RACK', 'NUMBER TILE COTTAGE GARDEN 8'],\n",
              " ['CREAM SWEETHEART LETTER RACK', '22413'],\n",
              " ['CREAM SWEETHEART LETTER RACK', '22977'],\n",
              " ['CREAM SWEETHEART LETTER RACK', '47599A'],\n",
              " ['CREAM SWEETHEART LETTER RACK', 'FELTCRAFT CHRISTMAS FAIRY'],\n",
              " ['CREAM SWEETHEART LETTER RACK', 'BASKET OF TOADSTOOLS'],\n",
              " ['CREAM SWEETHEART LETTER RACK', '536568'],\n",
              " ['CREAM SWEETHEART LETTER RACK', 'SET OF 6 STRAWBERRY CHOPSTICKS'],\n",
              " ['CREAM SWEETHEART LETTER RACK', 'GREEN 3 PIECE POLKADOT CUTLERY SET'],\n",
              " ['CREAM SWEETHEART LETTER RACK', '22652'],\n",
              " ['CREAM SWEETHEART LETTER RACK', '21484'],\n",
              " ['CREAM SWEETHEART LETTER RACK', '22400'],\n",
              " ['CREAM SWEETHEART LETTER RACK', 'KINGS CHOICE MUG'],\n",
              " ['CREAM SWEETHEART LETTER RACK', '2010-12-01 15:08:00'],\n",
              " ['CREAM SWEETHEART LETTER RACK', '21520'],\n",
              " ['CREAM SWEETHEART LETTER RACK', 'DOORMAT UNION FLAG'],\n",
              " ['CREAM SWEETHEART LETTER RACK', '22976'],\n",
              " ['CREAM SWEETHEART LETTER RACK', 'CHOCOLATE BOX RIBBONS '],\n",
              " ['CREAM SWEETHEART LETTER RACK', '22100'],\n",
              " ['CREAM SWEETHEART LETTER RACK', 'NOEL WOODEN BLOCK LETTERS '],\n",
              " ['CREAM SWEETHEART LETTER RACK', 'CIRCUS PARADE LUNCH BOX '],\n",
              " ['CREAM SWEETHEART LETTER RACK', '22738'],\n",
              " ['CREAM SWEETHEART LETTER RACK', '536580'],\n",
              " ['CREAM SWEETHEART LETTER RACK', 'SILK PURSE BABUSHKA RED'],\n",
              " ['CREAM SWEETHEART LETTER RACK', 'PACK OF 12 HEARTS DESIGN TISSUES '],\n",
              " ['CREAM SWEETHEART LETTER RACK', '22418'],\n",
              " ['CREAM SWEETHEART LETTER RACK', 'GINGERBREAD MAN COOKIE CUTTER'],\n",
              " ['CREAM SWEETHEART LETTER RACK', '22774'],\n",
              " ['CREAM SWEETHEART LETTER RACK', '22667'],\n",
              " ['CREAM SWEETHEART LETTER RACK', '84380'],\n",
              " ['CREAM SWEETHEART LETTER RACK', '21191'],\n",
              " ['CREAM SWEETHEART LETTER RACK', '536584'],\n",
              " ['CREAM SWEETHEART LETTER RACK', '22741'],\n",
              " ['CREAM SWEETHEART LETTER RACK', '84870B'],\n",
              " ['CREAM SWEETHEART LETTER RACK', '22318'],\n",
              " ['CREAM SWEETHEART LETTER RACK', '6'],\n",
              " ['CREAM SWEETHEART LETTER RACK', '34'],\n",
              " ['CREAM SWEETHEART LETTER RACK', '5.91'],\n",
              " ['CREAM SWEETHEART LETTER RACK', 'SET OF 4 ENGLISH ROSE COASTERS'],\n",
              " ['CREAM SWEETHEART LETTER RACK', 'FLORAL FOLK STATIONERY SET'],\n",
              " ['CREAM SWEETHEART LETTER RACK', '22077'],\n",
              " ['CREAM SWEETHEART LETTER RACK', '22544'],\n",
              " ['CREAM SWEETHEART LETTER RACK', '22964'],\n",
              " ['CREAM SWEETHEART LETTER RACK', '22583'],\n",
              " ['CREAM SWEETHEART LETTER RACK', '12921.0'],\n",
              " ['CREAM SWEETHEART LETTER RACK', 'SET OF 2 CHRISTMAS DECOUPAGE CANDLE'],\n",
              " ['CREAM SWEETHEART LETTER RACK', '22599'],\n",
              " ['CREAM SWEETHEART LETTER RACK', '21108'],\n",
              " ['CREAM SWEETHEART LETTER RACK', 'DOORMAT TOPIARY'],\n",
              " ['CREAM SWEETHEART LETTER RACK', '22144'],\n",
              " ['CREAM SWEETHEART LETTER RACK', 'PINK BUTTERFLY HANDBAG W BOBBLES'],\n",
              " ['CREAM SWEETHEART LETTER RACK', 'DRAGONS BLOOD INCENSE'],\n",
              " ['CREAM SWEETHEART LETTER RACK', '22726'],\n",
              " ['CREAM SWEETHEART LETTER RACK', '85048'],\n",
              " ['CREAM SWEETHEART LETTER RACK', 'TOY TIDY DOLLY GIRL DESIGN'],\n",
              " ['CREAM SWEETHEART LETTER RACK', '22678'],\n",
              " ['CREAM SWEETHEART LETTER RACK', 'MAKE YOUR OWN FLOWERPOWER CARD KIT'],\n",
              " ['CREAM SWEETHEART LETTER RACK', 'RIBBON REEL SOCKS AND MITTENS'],\n",
              " ['CREAM SWEETHEART LETTER RACK', '252'],\n",
              " ['CREAM SWEETHEART LETTER RACK', 'HEART OF WICKER SMALL'],\n",
              " ['CREAM SWEETHEART LETTER RACK', 'SWALLOW WOODEN CHRISTMAS DECORATION'],\n",
              " ['CREAM SWEETHEART LETTER RACK', 'RED DRAWER KNOB ACRYLIC EDWARDIAN'],\n",
              " ['CREAM SWEETHEART LETTER RACK', 'DARK BIRD HOUSE TREE DECORATION'],\n",
              " ['CREAM SWEETHEART LETTER RACK', 'PIGGY BANK RETROSPOT '],\n",
              " ['CREAM SWEETHEART LETTER RACK', '22084'],\n",
              " ['CREAM SWEETHEART LETTER RACK', 'COFFEE MUG BLUE PAISLEY DESIGN'],\n",
              " ['CREAM SWEETHEART LETTER RACK', 'SET/5 RED RETROSPOT LID GLASS BOWLS'],\n",
              " ['CREAM SWEETHEART LETTER RACK', 'CHILLI LIGHTS'],\n",
              " ['CREAM SWEETHEART LETTER RACK', 'CHRISTMAS METAL TAGS ASSORTED '],\n",
              " ['CREAM SWEETHEART LETTER RACK', '12 PENCIL SMALL TUBE WOODLAND'],\n",
              " ['CREAM SWEETHEART LETTER RACK', 'BLUE SPOT CERAMIC DRAWER KNOB'],\n",
              " ['CREAM SWEETHEART LETTER RACK', 'PLEASE ONE PERSON METAL SIGN'],\n",
              " ['CREAM SWEETHEART LETTER RACK', 'MIRRORED WALL ART STARS'],\n",
              " ['CREAM SWEETHEART LETTER RACK', 'LETTER \"S\" BLING KEY RING'],\n",
              " ['CREAM SWEETHEART LETTER RACK', '22499'],\n",
              " ['CREAM SWEETHEART LETTER RACK', 'SMALL HANGING GLASS+ZINC LANTERN'],\n",
              " ['CREAM SWEETHEART LETTER RACK', 'DOORMAT 3 SMILEY CATS'],\n",
              " ['CREAM SWEETHEART LETTER RACK', '22090'],\n",
              " ['CREAM SWEETHEART LETTER RACK', '2010-12-01 15:27:00'],\n",
              " ['CREAM SWEETHEART LETTER RACK', 'BROCANTE COAT RACK'],\n",
              " ['CREAM SWEETHEART LETTER RACK', '13777.0'],\n",
              " ['CREAM SWEETHEART LETTER RACK', '2'],\n",
              " ['CREAM SWEETHEART LETTER RACK', 'TEA COSY BLUE STRIPE'],\n",
              " ['CREAM SWEETHEART LETTER RACK', '35954'],\n",
              " ['CREAM SWEETHEART LETTER RACK', 'MAGIC DRAWING SLATE DOLLY GIRL '],\n",
              " ['CREAM SWEETHEART LETTER RACK', '22963'],\n",
              " ['CREAM SWEETHEART LETTER RACK', '21128'],\n",
              " ['CREAM SWEETHEART LETTER RACK', '536552'],\n",
              " ['CREAM SWEETHEART LETTER RACK', 'VINTAGE HEADS AND TAILS CARD GAME '],\n",
              " ['CREAM SWEETHEART LETTER RACK', '1.45'],\n",
              " ['CREAM SWEETHEART LETTER RACK', '21313'],\n",
              " ['CREAM SWEETHEART LETTER RACK', '79144B'],\n",
              " ['CREAM SWEETHEART LETTER RACK', '22091'],\n",
              " ['CREAM SWEETHEART LETTER RACK', '21833'],\n",
              " ['CREAM SWEETHEART LETTER RACK', '2010-12-01 17:06:00'],\n",
              " ['CREAM SWEETHEART LETTER RACK', '21851'],\n",
              " ['CREAM SWEETHEART LETTER RACK', '22130'],\n",
              " ['CREAM SWEETHEART LETTER RACK', 'PAPERWEIGHT VINTAGE COLLAGE'],\n",
              " ['CREAM SWEETHEART LETTER RACK', 'RED RETROSPOT OVEN GLOVE '],\n",
              " ['CREAM SWEETHEART LETTER RACK', 'LETS GO SHOPPING COTTON TOTE BAG'],\n",
              " ['CREAM SWEETHEART LETTER RACK', '21915'],\n",
              " ['CREAM SWEETHEART LETTER RACK', '2.51'],\n",
              " ['CREAM SWEETHEART LETTER RACK', '22274'],\n",
              " ['CREAM SWEETHEART LETTER RACK', '84580'],\n",
              " ['CREAM SWEETHEART LETTER RACK', '7'],\n",
              " ['CREAM SWEETHEART LETTER RACK', '21934'],\n",
              " ['CREAM SWEETHEART LETTER RACK', 'WHITE WOOD GARDEN PLANT LADDER'],\n",
              " ['CREAM SWEETHEART LETTER RACK', 'SET OF 4 NAPKIN CHARMS 3 KEYS '],\n",
              " ['CREAM SWEETHEART LETTER RACK', '15CM CHRISTMAS GLASS BALL 20 LIGHTS'],\n",
              " ['CREAM SWEETHEART LETTER RACK', 'CLASSIC METAL BIRDCAGE PLANT HOLDER'],\n",
              " ['CREAM SWEETHEART LETTER RACK', '20966'],\n",
              " ['CREAM SWEETHEART LETTER RACK', 'ALARM CLOCK BAKELIKE PINK'],\n",
              " ['CREAM SWEETHEART LETTER RACK', '1.66'],\n",
              " ['CREAM SWEETHEART LETTER RACK', 'ROUND CAKE TIN VINTAGE GREEN'],\n",
              " ['CREAM SWEETHEART LETTER RACK', 'CARD PARTY GAMES '],\n",
              " ['CREAM SWEETHEART LETTER RACK', '14.43'],\n",
              " ['CREAM SWEETHEART LETTER RACK', '22508'],\n",
              " ['CREAM SWEETHEART LETTER RACK', 'BLUE 3 PIECE POLKADOT CUTLERY SET'],\n",
              " ['CREAM SWEETHEART LETTER RACK', '84997B'],\n",
              " ['CREAM SWEETHEART LETTER RACK', 'VINTAGE CREAM DOG FOOD CONTAINER'],\n",
              " ['CREAM SWEETHEART LETTER RACK', 'ORIGAMI VANILLA INCENSE/CANDLE SET '],\n",
              " ['CREAM SWEETHEART LETTER RACK', 'VICTORIAN GLASS HANGING T-LIGHT'],\n",
              " ['CREAM SWEETHEART LETTER RACK', '12947.0'],\n",
              " ['CREAM SWEETHEART LETTER RACK', '4.21'],\n",
              " ['CREAM SWEETHEART LETTER RACK', 'SWEETHEART WIRE MAGAZINE RACK'],\n",
              " ['CREAM SWEETHEART LETTER RACK', 'ASSORTED COLOUR MINI CASES'],\n",
              " ['CREAM SWEETHEART LETTER RACK', '22728'],\n",
              " ['CREAM SWEETHEART LETTER RACK', 'PAPER CHAIN KIT EMPIRE'],\n",
              " ['CREAM SWEETHEART LETTER RACK', '21.23'],\n",
              " ['CREAM SWEETHEART LETTER RACK', '2010-12-01 16:15:00'],\n",
              " ['CREAM SWEETHEART LETTER RACK', 'CAMOUFLAGE DESIGN TEDDY'],\n",
              " ['CREAM SWEETHEART LETTER RACK', '22916'],\n",
              " ['CREAM SWEETHEART LETTER RACK', 'PINK DRAWER KNOB ACRYLIC EDWARDIAN'],\n",
              " ['CREAM SWEETHEART LETTER RACK', '22603'],\n",
              " ['CREAM SWEETHEART LETTER RACK', 'CHILDRENS DOLLY GIRL MUG'],\n",
              " ['CREAM SWEETHEART LETTER RACK', 'LUNCH BAG RED RETROSPOT'],\n",
              " ['CREAM SWEETHEART LETTER RACK', '22208'],\n",
              " ['CREAM SWEETHEART LETTER RACK', '536578'],\n",
              " ['CREAM SWEETHEART LETTER RACK', '22801'],\n",
              " ['CREAM SWEETHEART LETTER RACK', 'DECORATIVE ROSE BATHROOM BOTTLE'],\n",
              " ['CREAM SWEETHEART LETTER RACK', 'ILLUSTRATED CAT BOWL '],\n",
              " ['CREAM SWEETHEART LETTER RACK', 'PINK HEART DOTS HOT WATER BOTTLE'],\n",
              " ['CREAM SWEETHEART LETTER RACK', 'RIBBON REEL FLORA + FAUNA '],\n",
              " ['CREAM SWEETHEART LETTER RACK', '21832'],\n",
              " ['CREAM SWEETHEART LETTER RACK', '1.28'],\n",
              " ['CREAM SWEETHEART LETTER RACK', '51014A'],\n",
              " ['CREAM SWEETHEART LETTER RACK', '21846'],\n",
              " ['CREAM SWEETHEART LETTER RACK', 'FELT EGG COSY CHICKEN'],\n",
              " ['CREAM SWEETHEART LETTER RACK', 'DOORMAT RED RETROSPOT'],\n",
              " ['CREAM SWEETHEART LETTER RACK', '47590A'],\n",
              " ['CREAM SWEETHEART LETTER RACK', 'LETTER \"J\" BLING KEY RING'],\n",
              " ['CREAM SWEETHEART LETTER RACK', 'CHRISTMAS MUSICAL ZINC HEART '],\n",
              " ['CREAM SWEETHEART LETTER RACK', 'SMALL FOLKART STAR CHRISTMAS DEC'],\n",
              " ['CREAM SWEETHEART LETTER RACK', 'CAROUSEL DESIGN WASHBAG'],\n",
              " ['CREAM SWEETHEART LETTER RACK', '536573'],\n",
              " ['CREAM SWEETHEART LETTER RACK', '22494'],\n",
              " ['CREAM SWEETHEART LETTER RACK', 'CHRISTMAS HANGING HEART WITH BELL'],\n",
              " ['CREAM SWEETHEART LETTER RACK', 'WHITE TRAVEL ALARM CLOCK'],\n",
              " ['CREAM SWEETHEART LETTER RACK', 'BROCADE RING PURSE '],\n",
              " ['CREAM SWEETHEART LETTER RACK', '22876'],\n",
              " ['CREAM SWEETHEART LETTER RACK', '22641'],\n",
              " ['CREAM SWEETHEART LETTER RACK', '84912B'],\n",
              " ['CREAM SWEETHEART LETTER RACK', '22371'],\n",
              " ['CREAM SWEETHEART LETTER RACK', '21821'],\n",
              " ['CREAM SWEETHEART LETTER RACK', '2010-12-01 16:25:00'],\n",
              " ['CREAM SWEETHEART LETTER RACK', '20780'],\n",
              " ['CREAM SWEETHEART LETTER RACK', '21519'],\n",
              " ['CREAM SWEETHEART LETTER RACK', '22262'],\n",
              " ['CREAM SWEETHEART LETTER RACK', '22188'],\n",
              " ['CREAM SWEETHEART LETTER RACK', 'WALL TIDY RETROSPOT '],\n",
              " ['CREAM SWEETHEART LETTER RACK', '22776'],\n",
              " ['CREAM SWEETHEART LETTER RACK', '22669'],\n",
              " ['CREAM SWEETHEART LETTER RACK', 'DOORMAT HEARTS'],\n",
              " ['CREAM SWEETHEART LETTER RACK', '40'],\n",
              " ['CREAM SWEETHEART LETTER RACK', 'CIRCUS PARADE CHILDRENS EGG CUP '],\n",
              " ['CREAM SWEETHEART LETTER RACK', 'SET/2 RED RETROSPOT TEA TOWELS '],\n",
              " ['CREAM SWEETHEART LETTER RACK', 'WOODEN HEART CHRISTMAS SCANDINAVIAN'],\n",
              " ['CREAM SWEETHEART LETTER RACK', '22786'],\n",
              " ['CREAM SWEETHEART LETTER RACK', '21984'],\n",
              " ['CREAM SWEETHEART LETTER RACK', 'CAKE STAND VICTORIAN FILIGREE LARGE'],\n",
              " ['CREAM SWEETHEART LETTER RACK', 'PACK OF 12 TRADITIONAL CRAYONS'],\n",
              " ['CREAM SWEETHEART LETTER RACK', '22582'],\n",
              " ['CREAM SWEETHEART LETTER RACK', '22988'],\n",
              " ['CREAM SWEETHEART LETTER RACK', '22749'],\n",
              " ['CREAM SWEETHEART LETTER RACK', '22425'],\n",
              " ['CREAM SWEETHEART LETTER RACK', 'DOORMAT NEW ENGLAND'],\n",
              " ['CREAM SWEETHEART LETTER RACK', '21868'],\n",
              " ['CREAM SWEETHEART LETTER RACK', '46776B'],\n",
              " ['CREAM SWEETHEART LETTER RACK', 'FEATHER PEN,LIGHT PINK'],\n",
              " ['CREAM SWEETHEART LETTER RACK', '22357'],\n",
              " ['CREAM SWEETHEART LETTER RACK', '22759'],\n",
              " ['CREAM SWEETHEART LETTER RACK', '22631'],\n",
              " ['CREAM SWEETHEART LETTER RACK', '22800'],\n",
              " ['CREAM SWEETHEART LETTER RACK', \"POPPY'S PLAYHOUSE LIVINGROOM \"],\n",
              " ['CREAM SWEETHEART LETTER RACK', 'HANGING HEART ZINC T-LIGHT HOLDER'],\n",
              " ['CREAM SWEETHEART LETTER RACK', '72741'],\n",
              " ['CREAM SWEETHEART LETTER RACK', 'SET OF 3 CONEY ISLAND OVAL BOXES'],\n",
              " ['CREAM SWEETHEART LETTER RACK', '22813'],\n",
              " ['CREAM SWEETHEART LETTER RACK', '2010-12-01 16:21:00'],\n",
              " ['CREAM SWEETHEART LETTER RACK', 'PINK DOUGHNUT TRINKET POT '],\n",
              " ['CREAM SWEETHEART LETTER RACK', '9.32'],\n",
              " ['CREAM SWEETHEART LETTER RACK', '22747'],\n",
              " ['CREAM SWEETHEART LETTER RACK', '22411'],\n",
              " ['CREAM SWEETHEART LETTER RACK', 'COLUMBIAN  CUBE CANDLE '],\n",
              " ['CREAM SWEETHEART LETTER RACK', '22686'],\n",
              " ['CREAM SWEETHEART LETTER RACK', 'OFFICE MUG WARMER PINK'],\n",
              " ['CREAM SWEETHEART LETTER RACK', '22584'],\n",
              " ['CREAM SWEETHEART LETTER RACK', 'SILVER HANGING T-LIGHT HOLDER'],\n",
              " ['CREAM SWEETHEART LETTER RACK', '22748'],\n",
              " ['CREAM SWEETHEART LETTER RACK', '22961'],\n",
              " ['CREAM SWEETHEART LETTER RACK', '84032B'],\n",
              " ['CREAM SWEETHEART LETTER RACK', '22169'],\n",
              " ['CREAM SWEETHEART LETTER RACK', 'ASSORTED COLOUR BIRD ORNAMENT'],\n",
              " ['CREAM SWEETHEART LETTER RACK', 'PINK FLOWER FABRIC PONY'],\n",
              " ['CREAM SWEETHEART LETTER RACK', 'SUKI  SHOULDER BAG'],\n",
              " ['CREAM SWEETHEART LETTER RACK', 'YELLOW METAL CHICKEN HEART '],\n",
              " ['CREAM SWEETHEART LETTER RACK', 'NATURAL SLATE HEART CHALKBOARD '],\n",
              " ['CREAM SWEETHEART LETTER RACK', 'CREAM SLICE FLANNEL PINK SPOT '],\n",
              " ['CREAM SWEETHEART LETTER RACK', '21111'],\n",
              " ['CREAM SWEETHEART LETTER RACK', 'SWALLOWS GREETING CARD'],\n",
              " ['CREAM SWEETHEART LETTER RACK', 'FRENCH ENAMEL CANDLEHOLDER'],\n",
              " ['CREAM SWEETHEART LETTER RACK', '0.42'],\n",
              " ['CREAM SWEETHEART LETTER RACK', '20668'],\n",
              " ['CREAM SWEETHEART LETTER RACK', '22184'],\n",
              " ['CREAM SWEETHEART LETTER RACK', '21844'],\n",
              " ['CREAM SWEETHEART LETTER RACK', '2010-12-01 16:16:00'],\n",
              " ['CREAM SWEETHEART LETTER RACK', 'ZINC METAL HEART DECORATION'],\n",
              " ['CREAM SWEETHEART LETTER RACK', '10 COLOUR SPACEBOY PEN'],\n",
              " ['CREAM SWEETHEART LETTER RACK', '22561'],\n",
              " ['CREAM SWEETHEART LETTER RACK', 'LARGE PURPLE BABUSHKA NOTEBOOK  '],\n",
              " ['CREAM SWEETHEART LETTER RACK', '22940'],\n",
              " ['CREAM SWEETHEART LETTER RACK', '82582'],\n",
              " ['CREAM SWEETHEART LETTER RACK', 'JUNGLE POPSICLES ICE LOLLY HOLDERS'],\n",
              " ['CREAM SWEETHEART LETTER RACK', '22918'],\n",
              " ['CREAM SWEETHEART LETTER RACK', 'ORIGAMI ROSE INCENSE/CANDLE SET '],\n",
              " ['CREAM SWEETHEART LETTER RACK', '84029G'],\n",
              " ['CREAM SWEETHEART LETTER RACK', '22779'],\n",
              " ['CREAM SWEETHEART LETTER RACK', '2.82'],\n",
              " ['CREAM SWEETHEART LETTER RACK', '85114C'],\n",
              " ['CREAM SWEETHEART LETTER RACK', '21755'],\n",
              " ['CREAM SWEETHEART LETTER RACK', 'REGENCY CAKESTAND 3 TIER'],\n",
              " ['CREAM SWEETHEART LETTER RACK', 'SILVER CHRISTMAS TREE BAUBLE STAND '],\n",
              " ['CREAM SWEETHEART LETTER RACK', '22637'],\n",
              " ['CREAM SWEETHEART LETTER RACK', '21917'],\n",
              " ['CREAM SWEETHEART LETTER RACK', 'MAGIC DRAWING SLATE SPACEBOY '],\n",
              " ['CREAM SWEETHEART LETTER RACK', 'JAM MAKING SET WITH JARS'],\n",
              " ['CREAM SWEETHEART LETTER RACK', 'RED KITCHEN SCALES'],\n",
              " ['CREAM SWEETHEART LETTER RACK', 'ENAMEL COLANDER CREAM'],\n",
              " ['CREAM SWEETHEART LETTER RACK', '22767'],\n",
              " ['CREAM SWEETHEART LETTER RACK', '22898'],\n",
              " ['CREAM SWEETHEART LETTER RACK', '72816'],\n",
              " ['CREAM SWEETHEART LETTER RACK', '120'],\n",
              " ['CREAM SWEETHEART LETTER RACK', '84920'],\n",
              " ['CREAM SWEETHEART LETTER RACK', '72807A'],\n",
              " ['CREAM SWEETHEART LETTER RACK', '84949'],\n",
              " ['CREAM SWEETHEART LETTER RACK', 'CERAMIC STRAWBERRY CAKE MONEY BANK'],\n",
              " ['CREAM SWEETHEART LETTER RACK', 'MIRRORED WALL ART TABLE LAMP'],\n",
              " ['CREAM SWEETHEART LETTER RACK', '22171'],\n",
              " ['CREAM SWEETHEART LETTER RACK', '21889'],\n",
              " ['CREAM SWEETHEART LETTER RACK', '21804'],\n",
              " ['CREAM SWEETHEART LETTER RACK', '21781'],\n",
              " ['CREAM SWEETHEART LETTER RACK', '22469'],\n",
              " ['CREAM SWEETHEART LETTER RACK', '2010-12-01 15:45:00'],\n",
              " ['CREAM SWEETHEART LETTER RACK', 'CHRISTMAS METAL POSTCARD WITH BELLS'],\n",
              " ['CREAM SWEETHEART LETTER RACK', 'WICKER WREATH LARGE'],\n",
              " ['CREAM SWEETHEART LETTER RACK', 'LOVE HEART SOCK HANGER'],\n",
              " ['CREAM SWEETHEART LETTER RACK', 'SET 12 KIDS  WHITE CHALK STICKS'],\n",
              " ['CREAM SWEETHEART LETTER RACK', 'RED BABY BUNTING '],\n",
              " ['CREAM SWEETHEART LETTER RACK', 'PACK OF 12 SUKI TISSUES '],\n",
              " ['CREAM SWEETHEART LETTER RACK', '22944'],\n",
              " ['CREAM SWEETHEART LETTER RACK', 'COLOUR GLASS T-LIGHT HOLDER HANGING'],\n",
              " ['CREAM SWEETHEART LETTER RACK', 'KITTY PENCIL ERASERS'],\n",
              " ['CREAM SWEETHEART LETTER RACK', '84997A'],\n",
              " ['CREAM SWEETHEART LETTER RACK', '22752'],\n",
              " ['CREAM SWEETHEART LETTER RACK', '536586'],\n",
              " ['CREAM SWEETHEART LETTER RACK', 'TROPICAL PASSPORT COVER '],\n",
              " ['CREAM SWEETHEART LETTER RACK', '20950'],\n",
              " ['CREAM SWEETHEART LETTER RACK', '22581'],\n",
              " ['CREAM SWEETHEART LETTER RACK', '536579'],\n",
              " ['CREAM SWEETHEART LETTER RACK', 'PACK OF 60 DINOSAUR CAKE CASES'],\n",
              " ['CREAM SWEETHEART LETTER RACK', '46000S'],\n",
              " ['CREAM SWEETHEART LETTER RACK', '20699'],\n",
              " ['CREAM SWEETHEART LETTER RACK', 'PLASTERS IN TIN SPACEBOY'],\n",
              " ['CREAM SWEETHEART LETTER RACK', '47594A'],\n",
              " ['CREAM SWEETHEART LETTER RACK', '20723'],\n",
              " ['CREAM SWEETHEART LETTER RACK', 'GARLAND WITH STARS AND BELLS'],\n",
              " ['CREAM SWEETHEART LETTER RACK', '84508A'],\n",
              " ['CREAM SWEETHEART LETTER RACK', '22890'],\n",
              " ['CREAM SWEETHEART LETTER RACK', 'FIVE HEART HANGING DECORATION'],\n",
              " ['CREAM SWEETHEART LETTER RACK', 'CAKE STAND VICTORIAN FILIGREE MED'],\n",
              " ['CREAM SWEETHEART LETTER RACK', 'LARGE YELLOW BABUSHKA NOTEBOOK '],\n",
              " ['CREAM SWEETHEART LETTER RACK', '85131B'],\n",
              " ['CREAM SWEETHEART LETTER RACK', 'SKULLS  WATER TRANSFER TATTOOS '],\n",
              " ['CREAM SWEETHEART LETTER RACK', '35961'],\n",
              " ['CREAM SWEETHEART LETTER RACK', 'CHRISTMAS TREE DECORATION WITH BELL'],\n",
              " ['CREAM SWEETHEART LETTER RACK', '21537'],\n",
              " ['CREAM SWEETHEART LETTER RACK', '536575'],\n",
              " ['CREAM SWEETHEART LETTER RACK', 'LARGE CAKE TOWEL, CHOCOLATE SPOTS'],\n",
              " ['CREAM SWEETHEART LETTER RACK', 'HERB MARKER PARSLEY'],\n",
              " ['CREAM SWEETHEART LETTER RACK', '21109'],\n",
              " ['CREAM SWEETHEART LETTER RACK', 'S/4 CACTI CANDLES'],\n",
              " ['CREAM SWEETHEART LETTER RACK', '22646'],\n",
              " ['CREAM SWEETHEART LETTER RACK', '84050'],\n",
              " ['CREAM SWEETHEART LETTER RACK', '21931'],\n",
              " ['CREAM SWEETHEART LETTER RACK', 'LOVE HEART POCKET WARMER'],\n",
              " ['CREAM SWEETHEART LETTER RACK', 'FELTCRAFT PRINCESS OLIVIA DOLL'],\n",
              " ['CREAM SWEETHEART LETTER RACK', 'ANTIQUE TALL SWIRLGLASS TRINKET POT'],\n",
              " ['CREAM SWEETHEART LETTER RACK', \"PAPER CHAIN KIT 50'S CHRISTMAS \"],\n",
              " ['CREAM SWEETHEART LETTER RACK', 'CHRISTMAS GINGHAM TREE'],\n",
              " ['CREAM SWEETHEART LETTER RACK', 'AREA PATROLLED METAL SIGN'],\n",
              " ['CREAM SWEETHEART LETTER RACK', '22917'],\n",
              " ['CREAM SWEETHEART LETTER RACK', '21372'],\n",
              " ['CREAM SWEETHEART LETTER RACK', '21992'],\n",
              " ['CREAM SWEETHEART LETTER RACK', '79066K'],\n",
              " ['CREAM SWEETHEART LETTER RACK', 'AGED GLASS SILVER T-LIGHT HOLDER'],\n",
              " ['CREAM SWEETHEART LETTER RACK', 'TOOL BOX SOFT TOY '],\n",
              " ['CREAM SWEETHEART LETTER RACK', '22713'],\n",
              " ['CREAM SWEETHEART LETTER RACK', 'RED RETROSPOT CAKE STAND'],\n",
              " ['CREAM SWEETHEART LETTER RACK', '8'],\n",
              " ['CREAM SWEETHEART LETTER RACK', 'PINK HAPPY BIRTHDAY BUNTING'],\n",
              " ['CREAM SWEETHEART LETTER RACK', '14496.0'],\n",
              " ['CREAM SWEETHEART LETTER RACK', '21993'],\n",
              " ['CREAM SWEETHEART LETTER RACK', 'OVEN MITT APPLES DESIGN'],\n",
              " ['CREAM SWEETHEART LETTER RACK', 'DOORMAT I LOVE LONDON'],\n",
              " ['CREAM SWEETHEART LETTER RACK', 'HAND WARMER SCOTTY DOG DESIGN'],\n",
              " ['CREAM SWEETHEART LETTER RACK', '14606.0'],\n",
              " ['CREAM SWEETHEART LETTER RACK', 'ALARM CLOCK BAKELIKE ORANGE'],\n",
              " ['CREAM SWEETHEART LETTER RACK', 'POLYESTER FILLER PAD 40x40cm'],\n",
              " ['CREAM SWEETHEART LETTER RACK', '22825'],\n",
              " ['CREAM SWEETHEART LETTER RACK', '84760S'],\n",
              " ['CREAM SWEETHEART LETTER RACK', '22476'],\n",
              " ['CREAM SWEETHEART LETTER RACK', '21136'],\n",
              " ['CREAM SWEETHEART LETTER RACK', 'LIPSTICK PEN RED'],\n",
              " ['CREAM SWEETHEART LETTER RACK', '22910'],\n",
              " ['CREAM SWEETHEART LETTER RACK', '79067'],\n",
              " ['CREAM SWEETHEART LETTER RACK', '22198'],\n",
              " ['CREAM SWEETHEART LETTER RACK', 'RED RETROSPOT CHARLOTTE BAG'],\n",
              " ['CREAM SWEETHEART LETTER RACK', 'LIPSTICK PEN BABY PINK'],\n",
              " ['CREAM SWEETHEART LETTER RACK', '536569'],\n",
              " ['CREAM SWEETHEART LETTER RACK', '22276'],\n",
              " ['CREAM SWEETHEART LETTER RACK', '22731'],\n",
              " ['CREAM SWEETHEART LETTER RACK', '22402'],\n",
              " ['CREAM SWEETHEART LETTER RACK', '22831'],\n",
              " ['CREAM SWEETHEART LETTER RACK', '59.53'],\n",
              " ['CREAM SWEETHEART LETTER RACK', '22576'],\n",
              " ['CREAM SWEETHEART LETTER RACK', '21802'],\n",
              " ['CREAM SWEETHEART LETTER RACK', '2010-12-01 14:54:00'],\n",
              " ['CREAM SWEETHEART LETTER RACK', '47'],\n",
              " ['CREAM SWEETHEART LETTER RACK', '84923'],\n",
              " ['CREAM SWEETHEART LETTER RACK', '21249'],\n",
              " ['CREAM SWEETHEART LETTER RACK', '35916B'],\n",
              " ['CREAM SWEETHEART LETTER RACK', 'HOME SWEET HOME METAL SIGN '],\n",
              " ['CREAM SWEETHEART LETTER RACK', 'SET OF 72 PINK HEART PAPER DOILIES'],\n",
              " ['CREAM SWEETHEART LETTER RACK', '90214J'],\n",
              " ['CREAM SWEETHEART LETTER RACK', 'RETRO LONGBOARD IRONING BOARD COVER'],\n",
              " ['CREAM SWEETHEART LETTER RACK', 'FELTCRAFT CUSHION RABBIT'],\n",
              " ['CREAM SWEETHEART LETTER RACK', '84352'],\n",
              " ['CREAM SWEETHEART LETTER RACK', '536567'],\n",
              " ['CREAM SWEETHEART LETTER RACK', '84755'],\n",
              " ['CREAM SWEETHEART LETTER RACK', '21916'],\n",
              " ['CREAM SWEETHEART LETTER RACK', '21576'],\n",
              " ['CREAM SWEETHEART LETTER RACK', '22739'],\n",
              " ['CREAM SWEETHEART LETTER RACK', '536577'],\n",
              " ['CREAM SWEETHEART LETTER RACK', 'CARDHOLDER GINGHAM STAR'],\n",
              " ['CREAM SWEETHEART LETTER RACK', 'ANTIQUE GLASS PEDESTAL BOWL'],\n",
              " ['CREAM SWEETHEART LETTER RACK', 'CAMOUFLAGE LED TORCH'],\n",
              " ['CREAM SWEETHEART LETTER RACK', 'COFFEE MUG DOG + BALL DESIGN'],\n",
              " ['CREAM SWEETHEART LETTER RACK', 'RED  HARMONICA IN BOX '],\n",
              " ['CREAM SWEETHEART LETTER RACK', '22620'],\n",
              " ['CREAM SWEETHEART LETTER RACK', '3.36'],\n",
              " ['CREAM SWEETHEART LETTER RACK', '22531'],\n",
              " ['CREAM SWEETHEART LETTER RACK', '5.95'],\n",
              " ['CREAM SWEETHEART LETTER RACK', '21949'],\n",
              " ['CREAM SWEETHEART LETTER RACK', '22472'],\n",
              " ['CREAM SWEETHEART LETTER RACK', 'DOORMAT AIRMAIL '],\n",
              " ['CREAM SWEETHEART LETTER RACK', 'WHITE BROCANTE SOAP DISH'],\n",
              " ['CREAM SWEETHEART LETTER RACK', '36'],\n",
              " ['CREAM SWEETHEART LETTER RACK', 'CHICK GREY HOT WATER BOTTLE'],\n",
              " ['CREAM SWEETHEART LETTER RACK', 'ROSE DU SUD DRAWSTRING BAG'],\n",
              " ['CREAM SWEETHEART LETTER RACK', '21803'],\n",
              " ['CREAM SWEETHEART LETTER RACK', '46000R'],\n",
              " ['CREAM SWEETHEART LETTER RACK', 'COFFEE MUG CAT + BIRD DESIGN'],\n",
              " ['CREAM SWEETHEART LETTER RACK', '84559A'],\n",
              " ['CREAM SWEETHEART LETTER RACK', '21107'],\n",
              " ['CREAM SWEETHEART LETTER RACK', '22356'],\n",
              " ['CREAM SWEETHEART LETTER RACK', '22386'],\n",
              " ['CREAM SWEETHEART LETTER RACK', 'SOAP DISH BROCANTE'],\n",
              " ['CREAM SWEETHEART LETTER RACK', 'GOLD FISHING GNOME'],\n",
              " ['CREAM SWEETHEART LETTER RACK', '22355'],\n",
              " ['CREAM SWEETHEART LETTER RACK', '22594'],\n",
              " ['CREAM SWEETHEART LETTER RACK', 'FRYING PAN UNION FLAG'],\n",
              " ['CREAM SWEETHEART LETTER RACK', 'DIAMANTE HEART SHAPED WALL MIRROR, '],\n",
              " ['CREAM SWEETHEART LETTER RACK', '22834'],\n",
              " ['CREAM SWEETHEART LETTER RACK', 'SKULL SHOULDER BAG'],\n",
              " ['CREAM SWEETHEART LETTER RACK', '22580'],\n",
              " ['CREAM SWEETHEART LETTER RACK', 'WOOD BLACK BOARD ANT WHITE FINISH'],\n",
              " ['CREAM SWEETHEART LETTER RACK', '13.57'],\n",
              " ['CREAM SWEETHEART LETTER RACK', '7.95'],\n",
              " ['CREAM SWEETHEART LETTER RACK', 'PAPER BUNTING RETROSPOT'],\n",
              " ['CREAM SWEETHEART LETTER RACK', '0.29'],\n",
              " ['CREAM SWEETHEART LETTER RACK', 'CHRISTMAS HANGING TREE WITH BELL'],\n",
              " ['CREAM SWEETHEART LETTER RACK', '21789'],\n",
              " ['CREAM SWEETHEART LETTER RACK', 'SWEETHEART CAKESTAND 3 TIER'],\n",
              " ['CREAM SWEETHEART LETTER RACK', 'DOORMAT SPOTTY HOME SWEET HOME'],\n",
              " ['CREAM SWEETHEART LETTER RACK', 'PINK/PURPLE RETRO RADIO'],\n",
              " ['CREAM SWEETHEART LETTER RACK', '21258'],\n",
              " ['CREAM SWEETHEART LETTER RACK', '84375'],\n",
              " ['CREAM SWEETHEART LETTER RACK', '22135'],\n",
              " ['CREAM SWEETHEART LETTER RACK', '84279P'],\n",
              " ['CREAM SWEETHEART LETTER RACK', '72'],\n",
              " ['CREAM SWEETHEART LETTER RACK', '536560'],\n",
              " ['CREAM SWEETHEART LETTER RACK', 'RIBBON REEL SNOWY VILLAGE'],\n",
              " ['CREAM SWEETHEART LETTER RACK', 'DOLLY GIRL CHILDRENS EGG CUP'],\n",
              " ['CREAM SWEETHEART LETTER RACK', '21656'],\n",
              " ['CREAM SWEETHEART LETTER RACK', 'VINTAGE RED TEATIME MUG'],\n",
              " ['CREAM SWEETHEART LETTER RACK', 'CHRISTMAS TREE HEART DECORATION'],\n",
              " ['CREAM SWEETHEART LETTER RACK', '35598D'],\n",
              " ['CREAM SWEETHEART LETTER RACK', 'CARD CIRCUS PARADE'],\n",
              " ['CREAM SWEETHEART LETTER RACK', '21'],\n",
              " ['CREAM SWEETHEART LETTER RACK', '21745'],\n",
              " ['CREAM SWEETHEART LETTER RACK', 'SPACEBOY LUNCH BOX '],\n",
              " ['CREAM SWEETHEART LETTER RACK', '22481'],\n",
              " ['CREAM SWEETHEART LETTER RACK', '22758'],\n",
              " ['CREAM SWEETHEART LETTER RACK', '35965'],\n",
              " ['CREAM SWEETHEART LETTER RACK', '21801'],\n",
              " ['CREAM SWEETHEART LETTER RACK', 'RED RETROSPOT CHILDRENS UMBRELLA'],\n",
              " ['CREAM SWEETHEART LETTER RACK', 'VICTORIAN SEWING BOX LARGE'],\n",
              " ['CREAM SWEETHEART LETTER RACK', '22792'],\n",
              " ['CREAM SWEETHEART LETTER RACK', 'WOOD AND GLASS MEDICINE CABINET'],\n",
              " ['CREAM SWEETHEART LETTER RACK', '2010-12-01 16:33:00'],\n",
              " ['CREAM SWEETHEART LETTER RACK', '84915'],\n",
              " ['CREAM SWEETHEART LETTER RACK', 'SET OF 2 TEA TOWELS APPLE AND PEARS'],\n",
              " ['CREAM SWEETHEART LETTER RACK', 'RIDGED GLASS POSY VASE '],\n",
              " ['CREAM SWEETHEART LETTER RACK', 'JUMBO BAG PINK POLKADOT'],\n",
              " ['CREAM SWEETHEART LETTER RACK', 'MAGIC GARDEN FELT GARLAND '],\n",
              " ['CREAM SWEETHEART LETTER RACK', 'CARD CHRISTMAS VILLAGE'],\n",
              " ['CREAM SWEETHEART LETTER RACK', '20653'],\n",
              " ['CREAM SWEETHEART LETTER RACK', '85045'],\n",
              " ['CREAM SWEETHEART LETTER RACK', 'HOT WATER BOTTLE TEA AND SYMPATHY'],\n",
              " ['CREAM SWEETHEART LETTER RACK', 'HOT WATER BOTTLE I AM SO POORLY'],\n",
              " ['CREAM SWEETHEART LETTER RACK', 'TOAST ITS - FAIRY FLOWER'],\n",
              " ['CREAM SWEETHEART LETTER RACK', '22665'],\n",
              " ['CREAM SWEETHEART LETTER RACK', '22420'],\n",
              " ['CREAM SWEETHEART LETTER RACK', '4.65'],\n",
              " ['CREAM SWEETHEART LETTER RACK', '22119'],\n",
              " ['CREAM SWEETHEART LETTER RACK', '22195'],\n",
              " ['CREAM SWEETHEART LETTER RACK', '70'],\n",
              " ['CREAM SWEETHEART LETTER RACK', 'VINTAGE PAISLEY STATIONERY SET'],\n",
              " ['CREAM SWEETHEART LETTER RACK', '536589'],\n",
              " ['CREAM SWEETHEART LETTER RACK', '21620'],\n",
              " ['CREAM SWEETHEART LETTER RACK', '536592'],\n",
              " ['CREAM SWEETHEART LETTER RACK', 'FRENCH BLUE METAL DOOR SIGN No'],\n",
              " ['CREAM SWEETHEART LETTER RACK', '22025'],\n",
              " ['CREAM SWEETHEART LETTER RACK', '22668'],\n",
              " ['CREAM SWEETHEART LETTER RACK', 'SET OF 36 PAISLEY FLOWER DOILIES'],\n",
              " ['CREAM SWEETHEART LETTER RACK', 'CERAMIC CAKE BOWL + HANGING CAKES'],\n",
              " ['CREAM SWEETHEART LETTER RACK', '46775D'],\n",
              " ['CREAM SWEETHEART LETTER RACK', '21791'],\n",
              " ['CREAM SWEETHEART LETTER RACK', '21786'],\n",
              " ['CREAM SWEETHEART LETTER RACK', '2.98'],\n",
              " ['CREAM SWEETHEART LETTER RACK', '21820'],\n",
              " ['CREAM SWEETHEART LETTER RACK', '3D HEARTS  HONEYCOMB PAPER GARLAND'],\n",
              " ['CREAM SWEETHEART LETTER RACK', '22310'],\n",
              " ['CREAM SWEETHEART LETTER RACK', '0.99'],\n",
              " ['CREAM SWEETHEART LETTER RACK', '22904'],\n",
              " ['CREAM SWEETHEART LETTER RACK', 'HOT WATER BOTTLE BABUSHKA '],\n",
              " ['CREAM SWEETHEART LETTER RACK', '15'],\n",
              " ['CREAM SWEETHEART LETTER RACK', 'DOORMAT FANCY FONT HOME SWEET HOME'],\n",
              " ['CREAM SWEETHEART LETTER RACK', 'FAMILY ALBUM WHITE PICTURE FRAME'],\n",
              " ['CREAM SWEETHEART LETTER RACK', 'GREY HEART HOT WATER BOTTLE'],\n",
              " ['CREAM SWEETHEART LETTER RACK', '22712'],\n",
              " ['CREAM SWEETHEART LETTER RACK', '85017B'],\n",
              " ['CREAM SWEETHEART LETTER RACK', 'CHRISTMAS TOILET ROLL'],\n",
              " ['CREAM SWEETHEART LETTER RACK', 'PEACE WOODEN BLOCK LETTERS'],\n",
              " ['CREAM SWEETHEART LETTER RACK', '35471D'],\n",
              " ['CREAM SWEETHEART LETTER RACK', 'GLITTER CHRISTMAS TREE'],\n",
              " ['CREAM SWEETHEART LETTER RACK', '2.1'],\n",
              " ['CREAM SWEETHEART LETTER RACK', 'SILK PURSE BABUSHKA PINK'],\n",
              " ['CREAM SWEETHEART LETTER RACK', '21495'],\n",
              " ['CREAM SWEETHEART LETTER RACK', '22117'],\n",
              " ['CREAM SWEETHEART LETTER RACK', 'LITTLE GREEN MONSTER SOFT TOY'],\n",
              " ['CREAM SWEETHEART LETTER RACK', '22459'],\n",
              " ['CREAM SWEETHEART LETTER RACK', '22909'],\n",
              " ['CREAM SWEETHEART LETTER RACK', 'BOX OF VINTAGE ALPHABET BLOCKS'],\n",
              " ['CREAM SWEETHEART LETTER RACK', 'GRASS HOPPER WOODEN WALL CLOCK '],\n",
              " ['CREAM SWEETHEART LETTER RACK', 'SINGLE HEART ZINC T-LIGHT HOLDER'],\n",
              " ['CREAM SWEETHEART LETTER RACK', '22551'],\n",
              " ['CREAM SWEETHEART LETTER RACK', '21012'],\n",
              " ['CREAM SWEETHEART LETTER RACK', '22587'],\n",
              " ['CREAM SWEETHEART LETTER RACK', '84029E'],\n",
              " ['CREAM SWEETHEART LETTER RACK', '13093.0'],\n",
              " ['CREAM SWEETHEART LETTER RACK', '85199S'],\n",
              " ['CREAM SWEETHEART LETTER RACK', '22317'],\n",
              " ['CREAM SWEETHEART LETTER RACK', 'OVERNIGHT BAG VINTAGE ROSE PAISLEY'],\n",
              " ['CREAM SWEETHEART LETTER RACK', '22427'],\n",
              " ['CREAM SWEETHEART LETTER RACK', \"CHILDREN'S SPACEBOY MUG\"],\n",
              " ['CREAM SWEETHEART LETTER RACK', '47593B'],\n",
              " ['CREAM SWEETHEART LETTER RACK', 'RED RETROSPOT PUDDING BOWL'],\n",
              " ['CREAM SWEETHEART LETTER RACK', '22342'],\n",
              " ['CREAM SWEETHEART LETTER RACK', '21830'],\n",
              " ['CREAM SWEETHEART LETTER RACK', '12'],\n",
              " ['CREAM SWEETHEART LETTER RACK', 'STRAWBERRY SHOPPER BAG'],\n",
              " ['CREAM SWEETHEART LETTER RACK', 'CARD I LOVE LONDON '],\n",
              " ['CREAM SWEETHEART LETTER RACK', 'PINK MARSHMALLOW SCARF KNITTING KIT'],\n",
              " ['CREAM SWEETHEART LETTER RACK', 'TRAVEL SEWING KIT'],\n",
              " ['CREAM SWEETHEART LETTER RACK', 'FAIRY TALE COTTAGE NIGHTLIGHT'],\n",
              " ['CREAM SWEETHEART LETTER RACK', 'BLUE  DIAMANTE PEN IN GIFT BOX'],\n",
              " ['CREAM SWEETHEART LETTER RACK', '536561'],\n",
              " ['CREAM SWEETHEART LETTER RACK', 'AIRLINE BAG VINTAGE TOKYO 78'],\n",
              " ['CREAM SWEETHEART LETTER RACK', 'UNION JACK FLAG PASSPORT COVER '],\n",
              " ['CREAM SWEETHEART LETTER RACK', '22629'],\n",
              " ['CREAM SWEETHEART LETTER RACK', 'COLOURING PENCILS BROWN TUBE'],\n",
              " ['CREAM SWEETHEART LETTER RACK', 'SOLDIERS EGG CUP '],\n",
              " ['CREAM SWEETHEART LETTER RACK', '36 PENCILS TUBE SKULLS'],\n",
              " ['CREAM SWEETHEART LETTER RACK', 'CINAMMON & ORANGE WREATH'],\n",
              " ['CREAM SWEETHEART LETTER RACK', '22694'],\n",
              " ['CREAM SWEETHEART LETTER RACK', 'PINK BLUE FELT CRAFT TRINKET BOX'],\n",
              " ['CREAM SWEETHEART LETTER RACK', '17012E'],\n",
              " ['CREAM SWEETHEART LETTER RACK', '17841.0'],\n",
              " ['CREAM SWEETHEART LETTER RACK', 'CHRISTMAS RETROSPOT TREE WOOD'],\n",
              " ['CREAM SWEETHEART LETTER RACK', '3.25'],\n",
              " ['CREAM SWEETHEART LETTER RACK', 'FUNKY DIVA PEN'],\n",
              " ['CREAM SWEETHEART LETTER RACK', '22348'],\n",
              " ['CREAM SWEETHEART LETTER RACK', 'GREEN GEISHA GIRL '],\n",
              " ['CREAM SWEETHEART LETTER RACK', '22837'],\n",
              " ['CREAM SWEETHEART LETTER RACK', 'FELTCRAFT HAIRBAND RED AND BLUE'],\n",
              " ['CREAM SWEETHEART LETTER RACK', 'MIDNIGHT GLAMOUR SCARF KNITTING KIT'],\n",
              " ['CREAM SWEETHEART LETTER RACK', '21544'],\n",
              " ['CREAM SWEETHEART LETTER RACK', '20973'],\n",
              " ['CREAM SWEETHEART LETTER RACK', '22812'],\n",
              " ['CREAM SWEETHEART LETTER RACK', '20768'],\n",
              " ['CREAM SWEETHEART LETTER RACK', '22622'],\n",
              " ['CREAM SWEETHEART LETTER RACK', '20619'],\n",
              " ['CREAM SWEETHEART LETTER RACK', 'LOVE BUILDING BLOCK WORD'],\n",
              " ['CREAM SWEETHEART LETTER RACK', '22773'],\n",
              " ['CREAM SWEETHEART LETTER RACK', 'RIBBON REEL CHRISTMAS PRESENT '],\n",
              " ['CREAM SWEETHEART LETTER RACK', '2010-12-01 15:40:00'],\n",
              " ['CREAM SWEETHEART LETTER RACK', 'FLORAL SOFT CAR TOY'],\n",
              " ['CREAM SWEETHEART LETTER RACK', 'LARGE POPCORN HOLDER '],\n",
              " ['CREAM SWEETHEART LETTER RACK', '22178'],\n",
              " ['CREAM SWEETHEART LETTER RACK', 'SET OF 2 ROUND TINS DUTCH CHEESE'],\n",
              " ['CREAM SWEETHEART LETTER RACK', '21055'],\n",
              " ['CREAM SWEETHEART LETTER RACK', 'ROTATING LEAVES T-LIGHT HOLDER'],\n",
              " ['CREAM SWEETHEART LETTER RACK', '22638'],\n",
              " ['CREAM SWEETHEART LETTER RACK', '21015'],\n",
              " ['CREAM SWEETHEART LETTER RACK', '0.0'],\n",
              " ['CREAM SWEETHEART LETTER RACK', 'BLUE FELT HANGING HEART W FLOWER'],\n",
              " ['CREAM SWEETHEART LETTER RACK', 'MOUSE TOY WITH PINK T-SHIRT'],\n",
              " ['CREAM SWEETHEART LETTER RACK', '21524'],\n",
              " ['CREAM SWEETHEART LETTER RACK', '22798'],\n",
              " ['CREAM SWEETHEART LETTER RACK', '16168M'],\n",
              " ['CREAM SWEETHEART LETTER RACK', '22632'],\n",
              " ['CREAM SWEETHEART LETTER RACK', 'TOOTHPASTE TUBE PEN'],\n",
              " ['CREAM SWEETHEART LETTER RACK', '85017A'],\n",
              " ['CREAM SWEETHEART LETTER RACK', 'MAGIC DRAWING SLATE PURDEY'],\n",
              " ['CREAM SWEETHEART LETTER RACK', '22814'],\n",
              " ['CREAM SWEETHEART LETTER RACK', '21174'],\n",
              " ['CREAM SWEETHEART LETTER RACK', '22624'],\n",
              " ['CREAM SWEETHEART LETTER RACK', 'SET/3 CHRISTMAS DECOUPAGE CANDLES'],\n",
              " ['CREAM SWEETHEART LETTER RACK', '21594'],\n",
              " ['CREAM SWEETHEART LETTER RACK', 'STRIPEY CHOCOLATE NESTING BOXES'],\n",
              " ['CREAM SWEETHEART LETTER RACK', 'POTTING SHED TEA MUG'],\n",
              " ['CREAM SWEETHEART LETTER RACK', 'FRENCH GARDEN SIGN BLUE METAL'],\n",
              " ['CREAM SWEETHEART LETTER RACK', 'NUMBER TILE COTTAGE GARDEN 2'],\n",
              " ['CREAM SWEETHEART LETTER RACK', '536562'],\n",
              " ['CREAM SWEETHEART LETTER RACK', '21352'],\n",
              " ['CREAM SWEETHEART LETTER RACK', 'BLUE TEA TOWEL CLASSIC DESIGN'],\n",
              " ['CREAM SWEETHEART LETTER RACK', 'NURSERY A,B,C PAINTED LETTERS'],\n",
              " ['CREAM SWEETHEART LETTER RACK', '22659'],\n",
              " ['CREAM SWEETHEART LETTER RACK', 'HEART WOODEN CHRISTMAS DECORATION'],\n",
              " ['CREAM SWEETHEART LETTER RACK', '35967'],\n",
              " ...]"
            ]
          },
          "metadata": {
            "tags": []
          },
          "execution_count": 18
        }
      ]
    },
    {
      "cell_type": "code",
      "metadata": {
        "id": "LXBDXNKBt2W7",
        "outputId": "5b78579c-5f46-45b6-eac1-8f59dba72ed6",
        "colab": {
          "base_uri": "https://localhost:8080/",
          "height": 147
        }
      },
      "source": [
        "#### Calculating score\n",
        "The calculation is done looking at the number of customers that bought both items (the pair) and divided by all customers of the week (7501). This calculation is done for all pairs possible and the score is returned on \"score\" list.\n",
        "\n",
        "$ score = \\frac{\\text{number of lists that contain [item x and item y]}} {\\text{number of all lists}} $"
      ],
      "execution_count": 11,
      "outputs": [
        {
          "output_type": "error",
          "ename": "SyntaxError",
          "evalue": "ignored",
          "traceback": [
            "\u001b[0;36m  File \u001b[0;32m\"<ipython-input-11-1faaee1bdede>\"\u001b[0;36m, line \u001b[0;32m2\u001b[0m\n\u001b[0;31m    The calculation is done looking at the number of customers that bought both items (the pair) and divided by all customers of the week (7501). This calculation is done for all pairs possible and the score is returned on \"score\" list.\u001b[0m\n\u001b[0m                  ^\u001b[0m\n\u001b[0;31mSyntaxError\u001b[0m\u001b[0;31m:\u001b[0m invalid syntax\n"
          ]
        }
      ]
    },
    {
      "cell_type": "code",
      "metadata": {
        "id": "78-teVXit2d-",
        "outputId": "dba2ac8c-6885-487c-e96f-f6991d308ed9",
        "colab": {
          "base_uri": "https://localhost:8080/",
          "height": 130
        }
      },
      "source": [
        "%%time\n",
        "score = []\n",
        "for i in pair:\n",
        "    cond = []\n",
        "    for item in i:\n",
        "        cond.append('(\"%s\") in s' %item)\n",
        "    mycode = ('[s for s in transactions if ' + ' and '.join(cond) + ']')\n",
        "    #mycode = \"print 'hello world'\"\n",
        "    score.append(len(eval(mycode))/7501.)"
      ],
      "execution_count": 19,
      "outputs": [
        {
          "output_type": "error",
          "ename": "SyntaxError",
          "evalue": "ignored",
          "traceback": [
            "\u001b[0;36m  File \u001b[0;32m\"<string>\"\u001b[0;36m, line \u001b[0;32m1\u001b[0m\n\u001b[0;31m    [s for s in transactions if (\"CREAM SWEETHEART LETTER RACK\") in s and (\"LETTER \"V\" BLING KEY RING\") in s]\u001b[0m\n\u001b[0m                                                                                    ^\u001b[0m\n\u001b[0;31mSyntaxError\u001b[0m\u001b[0;31m:\u001b[0m invalid syntax\n"
          ]
        }
      ]
    },
    {
      "cell_type": "code",
      "metadata": {
        "id": "n08h_jsHt2me",
        "outputId": "4bb0a132-fbd5-412a-9bd4-1a3fb3ba00f9",
        "colab": {
          "base_uri": "https://localhost:8080/",
          "height": 181
        }
      },
      "source": [
        "ranking_ECLAT = pd.DataFrame([pair, score]).transpose()\n",
        "ranking_ECLAT.columns = ['Pair', 'Score']"
      ],
      "execution_count": 10,
      "outputs": [
        {
          "output_type": "error",
          "ename": "NameError",
          "evalue": "ignored",
          "traceback": [
            "\u001b[0;31m---------------------------------------------------------------------------\u001b[0m",
            "\u001b[0;31mNameError\u001b[0m                                 Traceback (most recent call last)",
            "\u001b[0;32m<ipython-input-10-65790ab3c065>\u001b[0m in \u001b[0;36m<module>\u001b[0;34m()\u001b[0m\n\u001b[0;32m----> 1\u001b[0;31m \u001b[0mranking_ECLAT\u001b[0m \u001b[0;34m=\u001b[0m \u001b[0mpd\u001b[0m\u001b[0;34m.\u001b[0m\u001b[0mDataFrame\u001b[0m\u001b[0;34m(\u001b[0m\u001b[0;34m[\u001b[0m\u001b[0mpair\u001b[0m\u001b[0;34m,\u001b[0m \u001b[0mscore\u001b[0m\u001b[0;34m]\u001b[0m\u001b[0;34m)\u001b[0m\u001b[0;34m.\u001b[0m\u001b[0mtranspose\u001b[0m\u001b[0;34m(\u001b[0m\u001b[0;34m)\u001b[0m\u001b[0;34m\u001b[0m\u001b[0;34m\u001b[0m\u001b[0m\n\u001b[0m\u001b[1;32m      2\u001b[0m \u001b[0mranking_ECLAT\u001b[0m\u001b[0;34m.\u001b[0m\u001b[0mcolumns\u001b[0m \u001b[0;34m=\u001b[0m \u001b[0;34m[\u001b[0m\u001b[0;34m'Pair'\u001b[0m\u001b[0;34m,\u001b[0m \u001b[0;34m'Score'\u001b[0m\u001b[0;34m]\u001b[0m\u001b[0;34m\u001b[0m\u001b[0;34m\u001b[0m\u001b[0m\n",
            "\u001b[0;31mNameError\u001b[0m: name 'score' is not defined"
          ]
        }
      ]
    },
    {
      "cell_type": "code",
      "metadata": {
        "id": "YU9yaRgxt2vK",
        "outputId": "33b0d7f3-7a9e-45c5-9e97-ba02c337405c",
        "colab": {
          "base_uri": "https://localhost:8080/",
          "height": 359
        }
      },
      "source": [
        "ranking_ECLAT.sort_values('Score', ascending=False).head(10)"
      ],
      "execution_count": 14,
      "outputs": [
        {
          "output_type": "execute_result",
          "data": {
            "text/html": [
              "<div>\n",
              "<style scoped>\n",
              "    .dataframe tbody tr th:only-of-type {\n",
              "        vertical-align: middle;\n",
              "    }\n",
              "\n",
              "    .dataframe tbody tr th {\n",
              "        vertical-align: top;\n",
              "    }\n",
              "\n",
              "    .dataframe thead th {\n",
              "        text-align: right;\n",
              "    }\n",
              "</style>\n",
              "<table border=\"1\" class=\"dataframe\">\n",
              "  <thead>\n",
              "    <tr style=\"text-align: right;\">\n",
              "      <th></th>\n",
              "      <th>Pair</th>\n",
              "      <th>Score</th>\n",
              "    </tr>\n",
              "  </thead>\n",
              "  <tbody>\n",
              "    <tr>\n",
              "      <th>0</th>\n",
              "      <td>[KNITTED UNION FLAG HOT WATER BOTTLE, 10125]</td>\n",
              "      <td>0</td>\n",
              "    </tr>\n",
              "    <tr>\n",
              "      <th>34</th>\n",
              "      <td>[KNITTED UNION FLAG HOT WATER BOTTLE, 22478]</td>\n",
              "      <td>0</td>\n",
              "    </tr>\n",
              "    <tr>\n",
              "      <th>25</th>\n",
              "      <td>[KNITTED UNION FLAG HOT WATER BOTTLE, CANDY SH...</td>\n",
              "      <td>0</td>\n",
              "    </tr>\n",
              "    <tr>\n",
              "      <th>26</th>\n",
              "      <td>[KNITTED UNION FLAG HOT WATER BOTTLE, 22604]</td>\n",
              "      <td>0</td>\n",
              "    </tr>\n",
              "    <tr>\n",
              "      <th>27</th>\n",
              "      <td>[KNITTED UNION FLAG HOT WATER BOTTLE, TOAST IT...</td>\n",
              "      <td>0</td>\n",
              "    </tr>\n",
              "    <tr>\n",
              "      <th>28</th>\n",
              "      <td>[KNITTED UNION FLAG HOT WATER BOTTLE, SMALL LI...</td>\n",
              "      <td>0</td>\n",
              "    </tr>\n",
              "    <tr>\n",
              "      <th>29</th>\n",
              "      <td>[KNITTED UNION FLAG HOT WATER BOTTLE, 85132A]</td>\n",
              "      <td>0</td>\n",
              "    </tr>\n",
              "    <tr>\n",
              "      <th>30</th>\n",
              "      <td>[KNITTED UNION FLAG HOT WATER BOTTLE, PAPER CH...</td>\n",
              "      <td>0</td>\n",
              "    </tr>\n",
              "    <tr>\n",
              "      <th>31</th>\n",
              "      <td>[KNITTED UNION FLAG HOT WATER BOTTLE, PARTY IN...</td>\n",
              "      <td>0</td>\n",
              "    </tr>\n",
              "    <tr>\n",
              "      <th>32</th>\n",
              "      <td>[KNITTED UNION FLAG HOT WATER BOTTLE, 22780]</td>\n",
              "      <td>0</td>\n",
              "    </tr>\n",
              "  </tbody>\n",
              "</table>\n",
              "</div>"
            ],
            "text/plain": [
              "                                                 Pair Score\n",
              "0        [KNITTED UNION FLAG HOT WATER BOTTLE, 10125]     0\n",
              "34       [KNITTED UNION FLAG HOT WATER BOTTLE, 22478]     0\n",
              "25  [KNITTED UNION FLAG HOT WATER BOTTLE, CANDY SH...     0\n",
              "26       [KNITTED UNION FLAG HOT WATER BOTTLE, 22604]     0\n",
              "27  [KNITTED UNION FLAG HOT WATER BOTTLE, TOAST IT...     0\n",
              "28  [KNITTED UNION FLAG HOT WATER BOTTLE, SMALL LI...     0\n",
              "29      [KNITTED UNION FLAG HOT WATER BOTTLE, 85132A]     0\n",
              "30  [KNITTED UNION FLAG HOT WATER BOTTLE, PAPER CH...     0\n",
              "31  [KNITTED UNION FLAG HOT WATER BOTTLE, PARTY IN...     0\n",
              "32       [KNITTED UNION FLAG HOT WATER BOTTLE, 22780]     0"
            ]
          },
          "metadata": {
            "tags": []
          },
          "execution_count": 14
        }
      ]
    },
    {
      "cell_type": "markdown",
      "metadata": {
        "id": "pqH0dTxivq_t"
      },
      "source": [
        "# CREATING TRIOS"
      ]
    },
    {
      "cell_type": "code",
      "metadata": {
        "id": "rS5NxN3dt26J",
        "outputId": "1a6cb7f4-29c9-4220-87ef-961e861b1f2d",
        "colab": {
          "base_uri": "https://localhost:8080/",
          "height": 232
        }
      },
      "source": [
        "# Creating trios\n",
        "trio = []\n",
        "for j in range(0, len(uniqueItems)):\n",
        "    for k in range(j, len(uniqueItems)):\n",
        "        for l in range(k, len(uniqueItems)):\n",
        "            if (k != j) and (j != l) and (k != l):\n",
        "                try:\n",
        "                    trio.append([uniqueItems[j], uniqueItems[j+k], uniqueItems[j+l]])\n",
        "                except IndexError:\n",
        "                    pass "
      ],
      "execution_count": 1,
      "outputs": [
        {
          "output_type": "error",
          "ename": "NameError",
          "evalue": "ignored",
          "traceback": [
            "\u001b[0;31m---------------------------------------------------------------------------\u001b[0m",
            "\u001b[0;31mNameError\u001b[0m                                 Traceback (most recent call last)",
            "\u001b[0;32m<ipython-input-1-266f1c220ba5>\u001b[0m in \u001b[0;36m<module>\u001b[0;34m()\u001b[0m\n\u001b[1;32m      1\u001b[0m \u001b[0;31m# Creating trios\u001b[0m\u001b[0;34m\u001b[0m\u001b[0;34m\u001b[0m\u001b[0;34m\u001b[0m\u001b[0m\n\u001b[1;32m      2\u001b[0m \u001b[0mtrio\u001b[0m \u001b[0;34m=\u001b[0m \u001b[0;34m[\u001b[0m\u001b[0;34m]\u001b[0m\u001b[0;34m\u001b[0m\u001b[0;34m\u001b[0m\u001b[0m\n\u001b[0;32m----> 3\u001b[0;31m \u001b[0;32mfor\u001b[0m \u001b[0mj\u001b[0m \u001b[0;32min\u001b[0m \u001b[0mrange\u001b[0m\u001b[0;34m(\u001b[0m\u001b[0;36m0\u001b[0m\u001b[0;34m,\u001b[0m \u001b[0mlen\u001b[0m\u001b[0;34m(\u001b[0m\u001b[0muniqueItems\u001b[0m\u001b[0;34m)\u001b[0m\u001b[0;34m)\u001b[0m\u001b[0;34m:\u001b[0m\u001b[0;34m\u001b[0m\u001b[0;34m\u001b[0m\u001b[0m\n\u001b[0m\u001b[1;32m      4\u001b[0m     \u001b[0;32mfor\u001b[0m \u001b[0mk\u001b[0m \u001b[0;32min\u001b[0m \u001b[0mrange\u001b[0m\u001b[0;34m(\u001b[0m\u001b[0mj\u001b[0m\u001b[0;34m,\u001b[0m \u001b[0mlen\u001b[0m\u001b[0;34m(\u001b[0m\u001b[0muniqueItems\u001b[0m\u001b[0;34m)\u001b[0m\u001b[0;34m)\u001b[0m\u001b[0;34m:\u001b[0m\u001b[0;34m\u001b[0m\u001b[0;34m\u001b[0m\u001b[0m\n\u001b[1;32m      5\u001b[0m         \u001b[0;32mfor\u001b[0m \u001b[0ml\u001b[0m \u001b[0;32min\u001b[0m \u001b[0mrange\u001b[0m\u001b[0;34m(\u001b[0m\u001b[0mk\u001b[0m\u001b[0;34m,\u001b[0m \u001b[0mlen\u001b[0m\u001b[0;34m(\u001b[0m\u001b[0muniqueItems\u001b[0m\u001b[0;34m)\u001b[0m\u001b[0;34m)\u001b[0m\u001b[0;34m:\u001b[0m\u001b[0;34m\u001b[0m\u001b[0;34m\u001b[0m\u001b[0m\n",
            "\u001b[0;31mNameError\u001b[0m: name 'uniqueItems' is not defined"
          ]
        }
      ]
    },
    {
      "cell_type": "code",
      "metadata": {
        "id": "R9lOplvGt3Jo"
      },
      "source": [
        "trio[:5]"
      ],
      "execution_count": null,
      "outputs": []
    },
    {
      "cell_type": "code",
      "metadata": {
        "id": "fjS3p_EXuNF7"
      },
      "source": [
        "%%time\n",
        "score_trio = []\n",
        "for i in trio:\n",
        "    cond = []\n",
        "    for item in i:\n",
        "        cond.append('(\"%s\") in s' %item)\n",
        "    mycode = ('[s for s in transactions if ' + ' and '.join(cond) + ']')\n",
        "    #mycode = \"print 'hello world'\"\n",
        "    score_trio.append(len(eval(mycode))/7501.)"
      ],
      "execution_count": null,
      "outputs": []
    },
    {
      "cell_type": "code",
      "metadata": {
        "id": "OKekQXQguNUZ"
      },
      "source": [
        "ranking_ECLAT_trio = pd.DataFrame([trio, score_trio]).transpose()\n",
        "ranking_ECLAT_trio.columns = ['Trio', 'Score']\n",
        "ranking_ECLAT_trio.sort_values('Score', ascending=False).head(10)"
      ],
      "execution_count": null,
      "outputs": []
    },
    {
      "cell_type": "code",
      "metadata": {
        "id": "rg24LGXJuNDh"
      },
      "source": [
        ""
      ],
      "execution_count": null,
      "outputs": []
    },
    {
      "cell_type": "code",
      "metadata": {
        "id": "Y2UcTOVGuNAk"
      },
      "source": [
        ""
      ],
      "execution_count": null,
      "outputs": []
    },
    {
      "cell_type": "code",
      "metadata": {
        "id": "8IR92Fmxt3SC"
      },
      "source": [
        ""
      ],
      "execution_count": null,
      "outputs": []
    }
  ]
}