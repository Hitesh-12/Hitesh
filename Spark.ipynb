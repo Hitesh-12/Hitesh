{
 "cells": [
  {
   "cell_type": "code",
   "execution_count": 1,
   "id": "98e646ff",
   "metadata": {},
   "outputs": [],
   "source": [
    "#pip install pyspark"
   ]
  },
  {
   "cell_type": "code",
   "execution_count": 1,
   "id": "e7487dee",
   "metadata": {},
   "outputs": [],
   "source": [
    "import os\n",
    "import sys\n",
    "\n",
    "os.environ['PYSPARK_PYTHON'] = sys.executable\n",
    "os.environ['PYSPARK_DRIVER_PYTHON'] = sys.executable\n"
   ]
  },
  {
   "cell_type": "code",
   "execution_count": 3,
   "id": "a9bc4ebf",
   "metadata": {},
   "outputs": [],
   "source": [
    "import pyspark"
   ]
  },
  {
   "cell_type": "code",
   "execution_count": 4,
   "id": "920c8771",
   "metadata": {},
   "outputs": [],
   "source": [
    "# importing libraries\n",
    "from pyspark.sql import SparkSession"
   ]
  },
  {
   "cell_type": "code",
   "execution_count": 5,
   "id": "bc054eef",
   "metadata": {},
   "outputs": [],
   "source": [
    "# Creating a spark session\n",
    "ss = SparkSession.builder.appName(\"practice\").getOrCreate()"
   ]
  },
  {
   "cell_type": "code",
   "execution_count": 6,
   "id": "c10433d2",
   "metadata": {},
   "outputs": [
    {
     "data": {
      "text/html": [
       "\n",
       "            <div>\n",
       "                <p><b>SparkSession - in-memory</b></p>\n",
       "                \n",
       "        <div>\n",
       "            <p><b>SparkContext</b></p>\n",
       "\n",
       "            <p><a href=\"http://usgurhiteshar90:4040\">Spark UI</a></p>\n",
       "\n",
       "            <dl>\n",
       "              <dt>Version</dt>\n",
       "                <dd><code>v3.3.0</code></dd>\n",
       "              <dt>Master</dt>\n",
       "                <dd><code>local[*]</code></dd>\n",
       "              <dt>AppName</dt>\n",
       "                <dd><code>practice</code></dd>\n",
       "            </dl>\n",
       "        </div>\n",
       "        \n",
       "            </div>\n",
       "        "
      ],
      "text/plain": [
       "<pyspark.sql.session.SparkSession at 0x20ec422fe50>"
      ]
     },
     "execution_count": 6,
     "metadata": {},
     "output_type": "execute_result"
    }
   ],
   "source": [
    "ss"
   ]
  },
  {
   "cell_type": "code",
   "execution_count": 7,
   "id": "d551ac52",
   "metadata": {},
   "outputs": [],
   "source": [
    "list1= [\" Name \",\"id\"]\n",
    "data= [(\"rohan\",2),(\" happy\",4),(\"ja\",5)]\n"
   ]
  },
  {
   "cell_type": "code",
   "execution_count": 8,
   "id": "cfe67807",
   "metadata": {},
   "outputs": [],
   "source": [
    "rdd= ss.sparkContext.parallelize(data)"
   ]
  },
  {
   "cell_type": "code",
   "execution_count": 9,
   "id": "1f667621",
   "metadata": {},
   "outputs": [
    {
     "data": {
      "text/plain": [
       "[('rohan', 2), (' happy', 4), ('ja', 5)]"
      ]
     },
     "execution_count": 9,
     "metadata": {},
     "output_type": "execute_result"
    }
   ],
   "source": [
    "rdd.collect()"
   ]
  },
  {
   "cell_type": "code",
   "execution_count": 10,
   "id": "ef2aa0db",
   "metadata": {},
   "outputs": [],
   "source": [
    "#import spark.implicits._\n",
    "#df = rdd.toDF()"
   ]
  },
  {
   "cell_type": "code",
   "execution_count": 11,
   "id": "ddc12ea0",
   "metadata": {},
   "outputs": [],
   "source": [
    "ab= ss.createDataFrame(rdd).toDF(*list1)"
   ]
  },
  {
   "cell_type": "code",
   "execution_count": 12,
   "id": "f52d6969",
   "metadata": {},
   "outputs": [],
   "source": [
    "df = ss.read.csv(\"C://Users//Hitesharma.US//Downloads//Shared//computerunningandaveragedata.csv\")"
   ]
  },
  {
   "cell_type": "code",
   "execution_count": 13,
   "id": "13e366d0",
   "metadata": {},
   "outputs": [
    {
     "name": "stdout",
     "output_type": "stream",
     "text": [
      "root\n",
      " |-- _c0: string (nullable = true)\n",
      " |-- _c1: string (nullable = true)\n",
      " |-- _c2: string (nullable = true)\n",
      "\n"
     ]
    }
   ],
   "source": [
    "df.printSchema()"
   ]
  },
  {
   "cell_type": "code",
   "execution_count": 14,
   "id": "de30c5aa",
   "metadata": {},
   "outputs": [
    {
     "name": "stdout",
     "output_type": "stream",
     "text": [
      "+---------+--------+------+\n",
      "|      _c0|     _c1|   _c2|\n",
      "+---------+--------+------+\n",
      "|YearMonth|Location|Amount|\n",
      "|   201901|     AJM|  1300|\n",
      "|   201901|     DXB|  1450|\n",
      "|   201901|     AUH|  1375|\n",
      "|   201902|     AJM|  1150|\n",
      "|   201902|     DXB|  1400|\n",
      "|   201902|     AUH|  1305|\n",
      "|   201903|     AJM|  1350|\n",
      "|   201903|     DXB|  1550|\n",
      "|   201903|     AUH|  1250|\n",
      "|   201904|     AJM|  1400|\n",
      "|   201904|     DXB|  1675|\n",
      "|   201904|     AUH|  1575|\n",
      "|   201905|     AJM|  1200|\n",
      "|   201905|     DXB|  1450|\n",
      "|   201905|     AUH|  1400|\n",
      "|   201906|     AJM|  1050|\n",
      "|   201906|     DXB|  1400|\n",
      "|   201906|     AUH|  1250|\n",
      "|   201907|     AJM|   900|\n",
      "+---------+--------+------+\n",
      "only showing top 20 rows\n",
      "\n"
     ]
    }
   ],
   "source": [
    "df.show()"
   ]
  },
  {
   "cell_type": "code",
   "execution_count": 15,
   "id": "f626f86b",
   "metadata": {},
   "outputs": [],
   "source": [
    "df = ss.read.option('header','true').csv(\"C://Users//Hitesharma.US//Downloads//Shared//computerunningandaveragedata.csv\")"
   ]
  },
  {
   "cell_type": "code",
   "execution_count": 16,
   "id": "551e13eb",
   "metadata": {},
   "outputs": [
    {
     "name": "stdout",
     "output_type": "stream",
     "text": [
      "+---------+--------+------+\n",
      "|YearMonth|Location|Amount|\n",
      "+---------+--------+------+\n",
      "|   201901|     AJM|  1300|\n",
      "|   201901|     DXB|  1450|\n",
      "|   201901|     AUH|  1375|\n",
      "|   201902|     AJM|  1150|\n",
      "|   201902|     DXB|  1400|\n",
      "|   201902|     AUH|  1305|\n",
      "|   201903|     AJM|  1350|\n",
      "|   201903|     DXB|  1550|\n",
      "|   201903|     AUH|  1250|\n",
      "|   201904|     AJM|  1400|\n",
      "|   201904|     DXB|  1675|\n",
      "|   201904|     AUH|  1575|\n",
      "|   201905|     AJM|  1200|\n",
      "|   201905|     DXB|  1450|\n",
      "|   201905|     AUH|  1400|\n",
      "|   201906|     AJM|  1050|\n",
      "|   201906|     DXB|  1400|\n",
      "|   201906|     AUH|  1250|\n",
      "|   201907|     AJM|   900|\n",
      "|   201907|     DXB|  1150|\n",
      "+---------+--------+------+\n",
      "only showing top 20 rows\n",
      "\n"
     ]
    }
   ],
   "source": [
    "df.show()"
   ]
  },
  {
   "cell_type": "code",
   "execution_count": 17,
   "id": "0b11034b",
   "metadata": {},
   "outputs": [],
   "source": [
    "dataStruct = [((\"James\",\"\",\"Smith\"),\"36636\",\"M\",\"3000\"), \\\n",
    "      ((\"Michael\",\"Rose\",\"\"),\"40288\",\"M\",\"4000\"), \\\n",
    "      ((\"Robert\",\"\",\"Williams\"),\"42114\",\"M\",\"4000\"), \\\n",
    "      ((\"Maria\",\"Anne\",\"Jones\"),\"39192\",\"F\",\"4000\"), \\\n",
    "      ((\"Jen\",\"Mary\",\"Brown\"),\"\",\"F\",\"-1\") \\\n",
    "]\n"
   ]
  },
  {
   "cell_type": "code",
   "execution_count": 18,
   "id": "5e9c3577",
   "metadata": {},
   "outputs": [
    {
     "name": "stdout",
     "output_type": "stream",
     "text": [
      "[(('James', '', 'Smith'), '36636', 'M', '3000'), (('Michael', 'Rose', ''), '40288', 'M', '4000'), (('Robert', '', 'Williams'), '42114', 'M', '4000'), (('Maria', 'Anne', 'Jones'), '39192', 'F', '4000'), (('Jen', 'Mary', 'Brown'), '', 'F', '-1')]\n"
     ]
    }
   ],
   "source": [
    "from pyspark.sql.types import StructType, StructField, StringType, IntegerType\n",
    "print(dataStruct)\n"
   ]
  },
  {
   "cell_type": "code",
   "execution_count": 19,
   "id": "5fcab346",
   "metadata": {},
   "outputs": [],
   "source": [
    "#schema = StructType(list[StructField(\" Name\",StructType([StructField(\" first_name\",StringType(),True),StructField(\"middle_name\",StringType(),True),StructField(\"last_name\",StringType(),True)],StructField))])"
   ]
  },
  {
   "cell_type": "code",
   "execution_count": 20,
   "id": "96745287",
   "metadata": {},
   "outputs": [],
   "source": [
    "schema = StructType(\n",
    "    [StructField('Name', StructType(\n",
    "        [StructField('FirstName',StringType(),True),\n",
    "         StructField('MiddleName',StringType(),True),\n",
    "         StructField('LastName',StringType(),True)])),\n",
    "        StructField('Salary',StringType(),True),\n",
    "        StructField('Gender',StringType(),True),\n",
    "        StructField('LastValue',StringType(),True)])\n"
   ]
  },
  {
   "cell_type": "code",
   "execution_count": 21,
   "id": "0cb37d83",
   "metadata": {},
   "outputs": [],
   "source": [
    "data1 = ss.createDataFrame(data = dataStruct,schema = schema)\n"
   ]
  },
  {
   "cell_type": "code",
   "execution_count": 22,
   "id": "c20b9687",
   "metadata": {},
   "outputs": [
    {
     "name": "stdout",
     "output_type": "stream",
     "text": [
      "root\n",
      " |-- Name: struct (nullable = true)\n",
      " |    |-- FirstName: string (nullable = true)\n",
      " |    |-- MiddleName: string (nullable = true)\n",
      " |    |-- LastName: string (nullable = true)\n",
      " |-- Salary: string (nullable = true)\n",
      " |-- Gender: string (nullable = true)\n",
      " |-- LastValue: string (nullable = true)\n",
      "\n"
     ]
    }
   ],
   "source": [
    "data1.printSchema()"
   ]
  },
  {
   "cell_type": "code",
   "execution_count": 23,
   "id": "cd91b9c5",
   "metadata": {},
   "outputs": [],
   "source": [
    "data2 = data1.toPandas()"
   ]
  },
  {
   "cell_type": "code",
   "execution_count": 24,
   "id": "30dada59",
   "metadata": {},
   "outputs": [
    {
     "name": "stdout",
     "output_type": "stream",
     "text": [
      "+--------------------+------+------+---------+\n",
      "|                Name|Salary|Gender|LastValue|\n",
      "+--------------------+------+------+---------+\n",
      "|    {James, , Smith}| 36636|     M|     3000|\n",
      "|   {Michael, Rose, }| 40288|     M|     4000|\n",
      "|{Robert, , Williams}| 42114|     M|     4000|\n",
      "|{Maria, Anne, Jones}| 39192|     F|     4000|\n",
      "|  {Jen, Mary, Brown}|      |     F|       -1|\n",
      "+--------------------+------+------+---------+\n",
      "\n"
     ]
    }
   ],
   "source": [
    "data1.show()"
   ]
  },
  {
   "cell_type": "code",
   "execution_count": 25,
   "id": "38b0b2ed",
   "metadata": {},
   "outputs": [
    {
     "name": "stdout",
     "output_type": "stream",
     "text": [
      "+--------------------+\n",
      "|                Name|\n",
      "+--------------------+\n",
      "|    {James, , Smith}|\n",
      "|   {Michael, Rose, }|\n",
      "|{Robert, , Williams}|\n",
      "|{Maria, Anne, Jones}|\n",
      "|  {Jen, Mary, Brown}|\n",
      "+--------------------+\n",
      "\n"
     ]
    }
   ],
   "source": [
    "data1.select(\"Name\").show()"
   ]
  },
  {
   "cell_type": "code",
   "execution_count": 26,
   "id": "f5fce36a",
   "metadata": {},
   "outputs": [],
   "source": [
    "rdd = ss.sparkContext.parallelize(data)"
   ]
  },
  {
   "cell_type": "code",
   "execution_count": 27,
   "id": "812b5788",
   "metadata": {},
   "outputs": [],
   "source": [
    "rd =rdd.toDF()"
   ]
  },
  {
   "cell_type": "code",
   "execution_count": 28,
   "id": "a343a2a6",
   "metadata": {},
   "outputs": [
    {
     "name": "stdout",
     "output_type": "stream",
     "text": [
      "root\n",
      " |-- _1: string (nullable = true)\n",
      " |-- _2: long (nullable = true)\n",
      "\n"
     ]
    }
   ],
   "source": [
    "rd.printSchema()"
   ]
  },
  {
   "cell_type": "code",
   "execution_count": 29,
   "id": "51277355",
   "metadata": {},
   "outputs": [
    {
     "name": "stdout",
     "output_type": "stream",
     "text": [
      "+------+---+\n",
      "|    _1| _2|\n",
      "+------+---+\n",
      "| rohan|  2|\n",
      "| happy|  4|\n",
      "|    ja|  5|\n",
      "+------+---+\n",
      "\n"
     ]
    }
   ],
   "source": [
    "rd.show()"
   ]
  },
  {
   "cell_type": "code",
   "execution_count": 30,
   "id": "72a640cb",
   "metadata": {},
   "outputs": [
    {
     "name": "stdout",
     "output_type": "stream",
     "text": [
      "+--------------------+\n",
      "|                Name|\n",
      "+--------------------+\n",
      "|    {James, , Smith}|\n",
      "|   {Michael, Rose, }|\n",
      "|{Robert, , Williams}|\n",
      "|{Maria, Anne, Jones}|\n",
      "|  {Jen, Mary, Brown}|\n",
      "+--------------------+\n",
      "\n"
     ]
    }
   ],
   "source": [
    "data1.select(\"Name\").show()"
   ]
  },
  {
   "cell_type": "code",
   "execution_count": 31,
   "id": "01a7cbdb",
   "metadata": {},
   "outputs": [
    {
     "name": "stdout",
     "output_type": "stream",
     "text": [
      "+---------+------+\n",
      "|firstName|Gender|\n",
      "+---------+------+\n",
      "|    James|     M|\n",
      "|  Michael|     M|\n",
      "|   Robert|     M|\n",
      "|    Maria|     F|\n",
      "|      Jen|     F|\n",
      "+---------+------+\n",
      "\n"
     ]
    }
   ],
   "source": [
    "data1.select(\"Name.firstName\",\"Gender\").show()"
   ]
  },
  {
   "cell_type": "code",
   "execution_count": 32,
   "id": "601d80bc",
   "metadata": {},
   "outputs": [
    {
     "name": "stdout",
     "output_type": "stream",
     "text": [
      "+---------+----------+--------+------+\n",
      "|FirstName|MiddleName|LastName|Gender|\n",
      "+---------+----------+--------+------+\n",
      "|    James|          |   Smith|     M|\n",
      "|  Michael|      Rose|        |     M|\n",
      "|   Robert|          |Williams|     M|\n",
      "|    Maria|      Anne|   Jones|     F|\n",
      "|      Jen|      Mary|   Brown|     F|\n",
      "+---------+----------+--------+------+\n",
      "\n"
     ]
    }
   ],
   "source": [
    "data1.select('Name.*',\"Gender\").show()"
   ]
  },
  {
   "cell_type": "code",
   "execution_count": 33,
   "id": "9c20fd1b",
   "metadata": {},
   "outputs": [
    {
     "name": "stdout",
     "output_type": "stream",
     "text": [
      "+--------------------+------+------+---------+\n",
      "|                Name|Salary|Gender|LastValue|\n",
      "+--------------------+------+------+---------+\n",
      "|    {James, , Smith}| 36636|     M|     3000|\n",
      "|   {Michael, Rose, }| 40288|     M|     4000|\n",
      "|{Robert, , Williams}| 42114|     M|     4000|\n",
      "+--------------------+------+------+---------+\n",
      "\n"
     ]
    }
   ],
   "source": [
    "data1.filter(data1.Gender=='M').show()"
   ]
  },
  {
   "cell_type": "code",
   "execution_count": 34,
   "id": "66ee8a51",
   "metadata": {},
   "outputs": [
    {
     "name": "stdout",
     "output_type": "stream",
     "text": [
      "+--------------------+------+------+---------+\n",
      "|                Name|Salary|Gender|LastValue|\n",
      "+--------------------+------+------+---------+\n",
      "|   {Michael, Rose, }| 40288|     M|     4000|\n",
      "|{Robert, , Williams}| 42114|     M|     4000|\n",
      "+--------------------+------+------+---------+\n",
      "\n"
     ]
    }
   ],
   "source": [
    "data1.filter((data1.Gender=='M')& (data1.Salary >\"4000\")).show()"
   ]
  },
  {
   "cell_type": "code",
   "execution_count": 35,
   "id": "443717fb",
   "metadata": {},
   "outputs": [],
   "source": [
    "#data1.select(data1.Name.FirstName.filter(data1.Gender=='M').show()"
   ]
  },
  {
   "cell_type": "code",
   "execution_count": 36,
   "id": "7c542e23",
   "metadata": {},
   "outputs": [
    {
     "name": "stdout",
     "output_type": "stream",
     "text": [
      "+--------------+\n",
      "|Name.FirstName|\n",
      "+--------------+\n",
      "|         James|\n",
      "|       Michael|\n",
      "|        Robert|\n",
      "+--------------+\n",
      "\n"
     ]
    }
   ],
   "source": [
    "# Select and where as filter\n",
    "data1.select(data1.Name.FirstName).filter(data1.Gender=='M').show()\n"
   ]
  },
  {
   "cell_type": "code",
   "execution_count": 37,
   "id": "ee915b06",
   "metadata": {},
   "outputs": [
    {
     "name": "stdout",
     "output_type": "stream",
     "text": [
      "+--------------------+------+------+---------+\n",
      "|                Name|Salary|Gender|LastValue|\n",
      "+--------------------+------+------+---------+\n",
      "|{Maria, Anne, Jones}| 39192|     F|     4000|\n",
      "|{Robert, , Williams}| 42114|     M|     4000|\n",
      "|   {Michael, Rose, }| 40288|     M|     4000|\n",
      "|    {James, , Smith}| 36636|     M|     3000|\n",
      "|  {Jen, Mary, Brown}|      |     F|       -1|\n",
      "+--------------------+------+------+---------+\n",
      "\n"
     ]
    }
   ],
   "source": [
    "# order by \n",
    "data1.sort(data1.LastValue.desc()).show()"
   ]
  },
  {
   "cell_type": "code",
   "execution_count": 38,
   "id": "253d758e",
   "metadata": {},
   "outputs": [
    {
     "name": "stdout",
     "output_type": "stream",
     "text": [
      "+------+-----+\n",
      "|Gender|count|\n",
      "+------+-----+\n",
      "|     M|    3|\n",
      "|     F|    2|\n",
      "+------+-----+\n",
      "\n"
     ]
    }
   ],
   "source": [
    "data1.groupBy(data1.Gender).count().show()"
   ]
  },
  {
   "cell_type": "code",
   "execution_count": 39,
   "id": "26713225",
   "metadata": {},
   "outputs": [
    {
     "name": "stdout",
     "output_type": "stream",
     "text": [
      "+--------+-----+\n",
      "|Location|count|\n",
      "+--------+-----+\n",
      "|     AJM|    8|\n",
      "|     AUH|    8|\n",
      "|     DXB|    8|\n",
      "+--------+-----+\n",
      "\n"
     ]
    }
   ],
   "source": [
    "# group by\n",
    "df.groupBy(df.Location).count().show()"
   ]
  },
  {
   "cell_type": "code",
   "execution_count": 40,
   "id": "0cf6f723",
   "metadata": {},
   "outputs": [],
   "source": [
    "data2 = [('Name',323),('bbd',104),('ewhv',104),(\"jshd\",104)]"
   ]
  },
  {
   "cell_type": "code",
   "execution_count": 41,
   "id": "0095c782",
   "metadata": {},
   "outputs": [],
   "source": [
    "data3 =[(104,20),(323,30)]"
   ]
  },
  {
   "cell_type": "code",
   "execution_count": 42,
   "id": "ec985084",
   "metadata": {},
   "outputs": [],
   "source": [
    "# creating dataframe \n",
    "data4 = ss.createDataFrame(data= data2,schema=['name','code'])\n",
    "data5 = ss.createDataFrame(data= data3,schema=['code','value'])\n"
   ]
  },
  {
   "cell_type": "code",
   "execution_count": 43,
   "id": "57a4652d",
   "metadata": {},
   "outputs": [
    {
     "name": "stdout",
     "output_type": "stream",
     "text": [
      "+----+----+\n",
      "|name|code|\n",
      "+----+----+\n",
      "|Name| 323|\n",
      "| bbd| 104|\n",
      "|ewhv| 104|\n",
      "|jshd| 104|\n",
      "+----+----+\n",
      "\n"
     ]
    }
   ],
   "source": [
    "data4.show()"
   ]
  },
  {
   "cell_type": "code",
   "execution_count": 44,
   "id": "ae1a168f",
   "metadata": {},
   "outputs": [
    {
     "name": "stdout",
     "output_type": "stream",
     "text": [
      "+----+-----+\n",
      "|code|value|\n",
      "+----+-----+\n",
      "| 104|   20|\n",
      "| 323|   30|\n",
      "+----+-----+\n",
      "\n"
     ]
    }
   ],
   "source": [
    "data5.show()"
   ]
  },
  {
   "cell_type": "code",
   "execution_count": 45,
   "id": "fd0f2b69",
   "metadata": {},
   "outputs": [
    {
     "name": "stdout",
     "output_type": "stream",
     "text": [
      "+----+----+----+-----+\n",
      "|name|code|code|value|\n",
      "+----+----+----+-----+\n",
      "| bbd| 104| 104|   20|\n",
      "|ewhv| 104| 104|   20|\n",
      "|jshd| 104| 104|   20|\n",
      "|Name| 323| 323|   30|\n",
      "+----+----+----+-----+\n",
      "\n"
     ]
    }
   ],
   "source": [
    "# join \n",
    "data4.join(data5, data4.code==data5.code,\"inner\").show()"
   ]
  },
  {
   "cell_type": "code",
   "execution_count": 46,
   "id": "2de23aea",
   "metadata": {},
   "outputs": [
    {
     "name": "stdout",
     "output_type": "stream",
     "text": [
      "+----+----+\n",
      "|name|code|\n",
      "+----+----+\n",
      "|Name| 323|\n",
      "| bbd| 104|\n",
      "|ewhv| 104|\n",
      "|jshd| 104|\n",
      "+----+----+\n",
      "\n"
     ]
    }
   ],
   "source": [
    "data4.show()"
   ]
  },
  {
   "cell_type": "code",
   "execution_count": 47,
   "id": "6de9e278",
   "metadata": {},
   "outputs": [],
   "source": [
    "# View\n",
    "data4.createOrReplaceTempView(\"vw_user\")\n",
    "data5.createOrReplaceTempView(\"vw_state\")"
   ]
  },
  {
   "cell_type": "code",
   "execution_count": 48,
   "id": "6c714a6e",
   "metadata": {},
   "outputs": [],
   "source": [
    "user = ss.sql(\" select * from vw_user\")"
   ]
  },
  {
   "cell_type": "code",
   "execution_count": 49,
   "id": "43f356af",
   "metadata": {},
   "outputs": [
    {
     "name": "stdout",
     "output_type": "stream",
     "text": [
      "+----+----+\n",
      "|name|code|\n",
      "+----+----+\n",
      "|Name| 323|\n",
      "| bbd| 104|\n",
      "|ewhv| 104|\n",
      "|jshd| 104|\n",
      "+----+----+\n",
      "\n"
     ]
    }
   ],
   "source": [
    "user.show()"
   ]
  },
  {
   "cell_type": "code",
   "execution_count": 50,
   "id": "6ab87d7c",
   "metadata": {},
   "outputs": [],
   "source": [
    "fill_int = user.fillna(value=0)"
   ]
  },
  {
   "cell_type": "code",
   "execution_count": 51,
   "id": "938a54c5",
   "metadata": {},
   "outputs": [],
   "source": [
    "fill_string = fill_int.fillna(value=\"default\")\n"
   ]
  },
  {
   "cell_type": "code",
   "execution_count": 52,
   "id": "47a35d85",
   "metadata": {},
   "outputs": [
    {
     "name": "stdout",
     "output_type": "stream",
     "text": [
      "+----+----+\n",
      "|name|code|\n",
      "+----+----+\n",
      "|Name| 323|\n",
      "| bbd| 104|\n",
      "|ewhv| 104|\n",
      "|jshd| 104|\n",
      "+----+----+\n",
      "\n"
     ]
    }
   ],
   "source": [
    "fill_string.show()"
   ]
  },
  {
   "cell_type": "code",
   "execution_count": 53,
   "id": "aaf1ff79",
   "metadata": {},
   "outputs": [],
   "source": [
    "from pyspark.ml.feature import Imputer"
   ]
  },
  {
   "cell_type": "code",
   "execution_count": 54,
   "id": "f033acf3",
   "metadata": {},
   "outputs": [],
   "source": [
    "impt = Imputer(inputCols=[\"code\"],outputCols=[\"newcode\"]).setStrategy(\"mean\")"
   ]
  },
  {
   "cell_type": "code",
   "execution_count": 63,
   "id": "20135aa6",
   "metadata": {},
   "outputs": [],
   "source": [
    "#impt.fit(user.code).transform(user).show()"
   ]
  },
  {
   "cell_type": "code",
   "execution_count": 61,
   "id": "064c1635",
   "metadata": {},
   "outputs": [],
   "source": [
    "df1 = ss.read.option('header','true').csv(\"C://Users//Hitesharma.US//Untitled Folder 1//Project_2_Retail_dataset- V2 04-07-2022//User_product_purchase_details_p2.csv\")"
   ]
  },
  {
   "cell_type": "code",
   "execution_count": 62,
   "id": "c323f0e6",
   "metadata": {},
   "outputs": [
    {
     "name": "stdout",
     "output_type": "stream",
     "text": [
      "+-------+----------+-------------+--------------------------+--------------+------------------+------------------+------------------+--------+\n",
      "|User_ID|Product_ID|City_Category|Stay_In_Current_City_Years|Marital_Status|Product_Category_1|Product_Category_2|Product_Category_3|Purchase|\n",
      "+-------+----------+-------------+--------------------------+--------------+------------------+------------------+------------------+--------+\n",
      "|1000001| P00069042|            A|                         2|             0|                 3|              null|              null|    8370|\n",
      "|1000001| P00248942|            A|                         2|             0|                 1|                 6|                14|   15200|\n",
      "|1000001| P00087842|            A|                         2|             0|                12|              null|              null|    1422|\n",
      "|1000001| P00085442|            A|                         2|             0|                12|                14|              null|    1057|\n",
      "|1000002| P00285442|            C|                        4+|             0|                 8|              null|              null|    7969|\n",
      "|1000003| P00193542|            A|                         3|             0|                 1|                 2|              null|   15227|\n",
      "|1000004| P00184942|            B|                         2|             1|                 1|                 8|                17|   19215|\n",
      "|1000004| P00346142|            B|                         2|             1|                 1|                15|              null|   15854|\n",
      "|1000004|  P0097242|            B|                         2|             1|                 1|                16|              null|   15686|\n",
      "|1000005| P00274942|            A|                         1|             1|                 8|              null|              null|    7871|\n",
      "|1000005| P00251242|            A|                         1|             1|                 5|                11|              null|    5254|\n",
      "|1000005| P00014542|            A|                         1|             1|                 8|              null|              null|    3957|\n",
      "|1000005| P00031342|            A|                         1|             1|                 8|              null|              null|    6073|\n",
      "|1000005| P00145042|            A|                         1|             1|                 1|                 2|                 5|   15665|\n",
      "|1000006| P00231342|            A|                         1|             0|                 5|                 8|                14|    5378|\n",
      "|1000006| P00190242|            A|                         1|             0|                 4|                 5|              null|    2079|\n",
      "|1000006|  P0096642|            A|                         1|             0|                 2|                 3|                 4|   13055|\n",
      "|1000006| P00058442|            A|                         1|             0|                 5|                14|              null|    8851|\n",
      "|1000007| P00036842|            B|                         1|             1|                 1|                14|                16|   11788|\n",
      "|1000008| P00249542|            C|                        4+|             1|                 1|                 5|                15|   19614|\n",
      "+-------+----------+-------------+--------------------------+--------------+------------------+------------------+------------------+--------+\n",
      "only showing top 20 rows\n",
      "\n"
     ]
    }
   ],
   "source": [
    "df1.show()"
   ]
  },
  {
   "cell_type": "code",
   "execution_count": null,
   "id": "3c9744a8",
   "metadata": {},
   "outputs": [],
   "source": [
    "df1.schema"
   ]
  },
  {
   "cell_type": "code",
   "execution_count": null,
   "id": "e3ded47b",
   "metadata": {},
   "outputs": [],
   "source": [
    "# group by and sort in same \n",
    "df.groupBy(df.City).count().sort(df.city)show()"
   ]
  },
  {
   "cell_type": "code",
   "execution_count": null,
   "id": "54bf7efb",
   "metadata": {},
   "outputs": [],
   "source": [
    "# Firstly create view for join\n",
    "# Sql query \n",
    "comibe= ss.sql(\" select first-name, lastname, city , type from vm v v inner join qwe q on v.eid= q.eid\")\n"
   ]
  },
  {
   "cell_type": "code",
   "execution_count": null,
   "id": "9b6293d7",
   "metadata": {},
   "outputs": [],
   "source": [
    "# Pyspark query\n",
    "data4.join(data5, data4.code==data5.code,\"inner\").select([hr.fisrtname,hr.lastname,hr.age,hr.lo]).filter()show()"
   ]
  },
  {
   "cell_type": "code",
   "execution_count": null,
   "id": "1dba2c4a",
   "metadata": {},
   "outputs": [],
   "source": [
    "imputer = Imputer(\n",
    "    inputCols=['Age', 'Experience', 'Salary'], \n",
    "    outputCols=[\"{}_imputed\".format(c) for c in ['Age', 'Experience', 'Salary']]\n",
    "    ).setStrategy(\"median\")\n"
   ]
  },
  {
   "cell_type": "code",
   "execution_count": null,
   "id": "1d6851e8",
   "metadata": {},
   "outputs": [],
   "source": []
  }
 ],
 "metadata": {
  "kernelspec": {
   "display_name": "Python 3 (ipykernel)",
   "language": "python",
   "name": "python3"
  },
  "language_info": {
   "codemirror_mode": {
    "name": "ipython",
    "version": 3
   },
   "file_extension": ".py",
   "mimetype": "text/x-python",
   "name": "python",
   "nbconvert_exporter": "python",
   "pygments_lexer": "ipython3",
   "version": "3.11.7"
  }
 },
 "nbformat": 4,
 "nbformat_minor": 5
}
